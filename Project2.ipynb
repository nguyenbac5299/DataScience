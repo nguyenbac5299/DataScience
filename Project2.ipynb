{
  "nbformat": 4,
  "nbformat_minor": 0,
  "metadata": {
    "colab": {
      "provenance": [],
      "collapsed_sections": [
        "VRGlQB9IMNID"
      ],
      "mount_file_id": "1fo0KGjVv2iGitNsm51gwNc7aJ2LtikPw",
      "authorship_tag": "ABX9TyOP/QyZMbgnoacQD2S9giyr",
      "include_colab_link": true
    },
    "kernelspec": {
      "name": "python3",
      "display_name": "Python 3"
    },
    "language_info": {
      "name": "python"
    },
    "accelerator": "GPU",
    "gpuClass": "standard"
  },
  "cells": [
    {
      "cell_type": "markdown",
      "metadata": {
        "id": "view-in-github",
        "colab_type": "text"
      },
      "source": [
        "<a href=\"https://colab.research.google.com/github/nguyenbac5299/DataScience/blob/main/Project2.ipynb\" target=\"_parent\"><img src=\"https://colab.research.google.com/assets/colab-badge.svg\" alt=\"Open In Colab\"/></a>"
      ]
    },
    {
      "cell_type": "code",
      "source": [
        "from google.colab import drive\n",
        "drive.mount('/content/drive')"
      ],
      "metadata": {
        "id": "gE5NMoLiPpn0",
        "colab": {
          "base_uri": "https://localhost:8080/"
        },
        "outputId": "3c293fdd-0b82-4cf0-8e88-546a9eb33760"
      },
      "execution_count": 1,
      "outputs": [
        {
          "output_type": "stream",
          "name": "stdout",
          "text": [
            "Drive already mounted at /content/drive; to attempt to forcibly remount, call drive.mount(\"/content/drive\", force_remount=True).\n"
          ]
        }
      ]
    },
    {
      "cell_type": "code",
      "source": [
        "import numpy as np\n",
        "import matplotlib.pyplot as plt\n",
        "import pandas as pd\n",
        "import seaborn as sns\n",
        "import sklearn"
      ],
      "metadata": {
        "id": "3WqThVhtPpRA"
      },
      "execution_count": 2,
      "outputs": []
    },
    {
      "cell_type": "markdown",
      "source": [
        "#Features"
      ],
      "metadata": {
        "id": "pndksgVZMNix"
      }
    },
    {
      "cell_type": "code",
      "source": [
        "# Import trainning and validation sets\n",
        "!unzip '/content/drive/MyDrive/ColabNotebooks/sources/DataScience/Data/data/bluebook-for-bulldozers.zip' -d '/content/'"
      ],
      "metadata": {
        "id": "5qc2KCKbi2OZ",
        "colab": {
          "base_uri": "https://localhost:8080/"
        },
        "outputId": "26211930-5648-4da8-c7fa-918ac26c82b5"
      },
      "execution_count": 3,
      "outputs": [
        {
          "output_type": "stream",
          "name": "stdout",
          "text": [
            "Archive:  /content/drive/MyDrive/ColabNotebooks/sources/DataScience/Data/data/bluebook-for-bulldozers.zip\n",
            "   creating: /content/bluebook-for-bulldozers/\n",
            "  inflating: /content/__MACOSX/._bluebook-for-bulldozers  \n",
            "  inflating: /content/bluebook-for-bulldozers/random_forest_benchmark_test.csv  \n",
            "  inflating: /content/__MACOSX/bluebook-for-bulldozers/._random_forest_benchmark_test.csv  \n",
            "  inflating: /content/bluebook-for-bulldozers/Valid.csv  \n",
            "  inflating: /content/__MACOSX/bluebook-for-bulldozers/._Valid.csv  \n",
            "  inflating: /content/bluebook-for-bulldozers/median_benchmark.csv  \n",
            "  inflating: /content/__MACOSX/bluebook-for-bulldozers/._median_benchmark.csv  \n",
            "  inflating: /content/bluebook-for-bulldozers/Valid.zip  \n",
            "  inflating: /content/__MACOSX/bluebook-for-bulldozers/._Valid.zip  \n",
            "  inflating: /content/bluebook-for-bulldozers/TrainAndValid.7z  \n",
            "  inflating: /content/__MACOSX/bluebook-for-bulldozers/._TrainAndValid.7z  \n",
            "  inflating: /content/bluebook-for-bulldozers/Test.csv  \n",
            "  inflating: /content/__MACOSX/bluebook-for-bulldozers/._Test.csv  \n",
            "  inflating: /content/bluebook-for-bulldozers/Train.7z  \n",
            "  inflating: /content/__MACOSX/bluebook-for-bulldozers/._Train.7z  \n",
            "  inflating: /content/bluebook-for-bulldozers/test_predictions.csv  \n",
            "  inflating: /content/__MACOSX/bluebook-for-bulldozers/._test_predictions.csv  \n",
            "  inflating: /content/bluebook-for-bulldozers/ValidSolution.csv  \n",
            "  inflating: /content/__MACOSX/bluebook-for-bulldozers/._ValidSolution.csv  \n",
            "  inflating: /content/bluebook-for-bulldozers/train_tmp.csv  \n",
            "  inflating: /content/__MACOSX/bluebook-for-bulldozers/._train_tmp.csv  \n",
            "  inflating: /content/bluebook-for-bulldozers/Machine_Appendix.csv  \n",
            "  inflating: /content/__MACOSX/bluebook-for-bulldozers/._Machine_Appendix.csv  \n",
            "  inflating: /content/bluebook-for-bulldozers/Train.csv  \n",
            "  inflating: /content/__MACOSX/bluebook-for-bulldozers/._Train.csv  \n",
            "  inflating: /content/bluebook-for-bulldozers/Valid.7z  \n",
            "  inflating: /content/__MACOSX/bluebook-for-bulldozers/._Valid.7z  \n",
            "  inflating: /content/bluebook-for-bulldozers/Data Dictionary.xlsx  \n",
            "  inflating: /content/__MACOSX/bluebook-for-bulldozers/._Data Dictionary.xlsx  \n",
            "  inflating: /content/bluebook-for-bulldozers/TrainAndValid.csv  \n",
            "  inflating: /content/__MACOSX/bluebook-for-bulldozers/._TrainAndValid.csv  \n",
            "  inflating: /content/bluebook-for-bulldozers/Train.zip  \n",
            "  inflating: /content/__MACOSX/bluebook-for-bulldozers/._Train.zip  \n",
            "  inflating: /content/bluebook-for-bulldozers/TrainAndValid.zip  \n",
            "  inflating: /content/__MACOSX/bluebook-for-bulldozers/._TrainAndValid.zip  \n"
          ]
        }
      ]
    },
    {
      "cell_type": "code",
      "source": [
        "df= pd.read_csv('/content/bluebook-for-bulldozers/TrainAndValid.csv')"
      ],
      "metadata": {
        "id": "NiLjhPnZFuSu",
        "colab": {
          "base_uri": "https://localhost:8080/"
        },
        "outputId": "92825bed-0dcf-4c34-b4fb-7584cb777aa9"
      },
      "execution_count": 4,
      "outputs": [
        {
          "output_type": "stream",
          "name": "stderr",
          "text": [
            "/usr/local/lib/python3.8/dist-packages/IPython/core/interactiveshell.py:3326: DtypeWarning: Columns (13,39,40,41) have mixed types.Specify dtype option on import or set low_memory=False.\n",
            "  exec(code_obj, self.user_global_ns, self.user_ns)\n"
          ]
        }
      ]
    },
    {
      "cell_type": "code",
      "source": [
        "df.head()"
      ],
      "metadata": {
        "id": "-Ov3CzR8tCCj",
        "colab": {
          "base_uri": "https://localhost:8080/",
          "height": 386
        },
        "outputId": "41720531-23b0-4c27-d44c-d30a7a5b5111"
      },
      "execution_count": 5,
      "outputs": [
        {
          "output_type": "execute_result",
          "data": {
            "text/plain": [
              "   SalesID  SalePrice  MachineID  ModelID  datasource  auctioneerID  YearMade  \\\n",
              "0  1139246    66000.0     999089     3157         121           3.0      2004   \n",
              "1  1139248    57000.0     117657       77         121           3.0      1996   \n",
              "2  1139249    10000.0     434808     7009         121           3.0      2001   \n",
              "3  1139251    38500.0    1026470      332         121           3.0      2001   \n",
              "4  1139253    11000.0    1057373    17311         121           3.0      2007   \n",
              "\n",
              "   MachineHoursCurrentMeter UsageBand         saledate  ...  \\\n",
              "0                      68.0       Low  11/16/2006 0:00  ...   \n",
              "1                    4640.0       Low   3/26/2004 0:00  ...   \n",
              "2                    2838.0      High   2/26/2004 0:00  ...   \n",
              "3                    3486.0      High   5/19/2011 0:00  ...   \n",
              "4                     722.0    Medium   7/23/2009 0:00  ...   \n",
              "\n",
              "  Undercarriage_Pad_Width Stick_Length Thumb Pattern_Changer Grouser_Type  \\\n",
              "0                     NaN          NaN   NaN             NaN          NaN   \n",
              "1                     NaN          NaN   NaN             NaN          NaN   \n",
              "2                     NaN          NaN   NaN             NaN          NaN   \n",
              "3                     NaN          NaN   NaN             NaN          NaN   \n",
              "4                     NaN          NaN   NaN             NaN          NaN   \n",
              "\n",
              "  Backhoe_Mounting Blade_Type Travel_Controls Differential_Type  \\\n",
              "0              NaN        NaN             NaN          Standard   \n",
              "1              NaN        NaN             NaN          Standard   \n",
              "2              NaN        NaN             NaN               NaN   \n",
              "3              NaN        NaN             NaN               NaN   \n",
              "4              NaN        NaN             NaN               NaN   \n",
              "\n",
              "  Steering_Controls  \n",
              "0      Conventional  \n",
              "1      Conventional  \n",
              "2               NaN  \n",
              "3               NaN  \n",
              "4               NaN  \n",
              "\n",
              "[5 rows x 53 columns]"
            ],
            "text/html": [
              "\n",
              "  <div id=\"df-fcc55b71-7bd5-4e6b-b5f9-0002f3a07602\">\n",
              "    <div class=\"colab-df-container\">\n",
              "      <div>\n",
              "<style scoped>\n",
              "    .dataframe tbody tr th:only-of-type {\n",
              "        vertical-align: middle;\n",
              "    }\n",
              "\n",
              "    .dataframe tbody tr th {\n",
              "        vertical-align: top;\n",
              "    }\n",
              "\n",
              "    .dataframe thead th {\n",
              "        text-align: right;\n",
              "    }\n",
              "</style>\n",
              "<table border=\"1\" class=\"dataframe\">\n",
              "  <thead>\n",
              "    <tr style=\"text-align: right;\">\n",
              "      <th></th>\n",
              "      <th>SalesID</th>\n",
              "      <th>SalePrice</th>\n",
              "      <th>MachineID</th>\n",
              "      <th>ModelID</th>\n",
              "      <th>datasource</th>\n",
              "      <th>auctioneerID</th>\n",
              "      <th>YearMade</th>\n",
              "      <th>MachineHoursCurrentMeter</th>\n",
              "      <th>UsageBand</th>\n",
              "      <th>saledate</th>\n",
              "      <th>...</th>\n",
              "      <th>Undercarriage_Pad_Width</th>\n",
              "      <th>Stick_Length</th>\n",
              "      <th>Thumb</th>\n",
              "      <th>Pattern_Changer</th>\n",
              "      <th>Grouser_Type</th>\n",
              "      <th>Backhoe_Mounting</th>\n",
              "      <th>Blade_Type</th>\n",
              "      <th>Travel_Controls</th>\n",
              "      <th>Differential_Type</th>\n",
              "      <th>Steering_Controls</th>\n",
              "    </tr>\n",
              "  </thead>\n",
              "  <tbody>\n",
              "    <tr>\n",
              "      <th>0</th>\n",
              "      <td>1139246</td>\n",
              "      <td>66000.0</td>\n",
              "      <td>999089</td>\n",
              "      <td>3157</td>\n",
              "      <td>121</td>\n",
              "      <td>3.0</td>\n",
              "      <td>2004</td>\n",
              "      <td>68.0</td>\n",
              "      <td>Low</td>\n",
              "      <td>11/16/2006 0:00</td>\n",
              "      <td>...</td>\n",
              "      <td>NaN</td>\n",
              "      <td>NaN</td>\n",
              "      <td>NaN</td>\n",
              "      <td>NaN</td>\n",
              "      <td>NaN</td>\n",
              "      <td>NaN</td>\n",
              "      <td>NaN</td>\n",
              "      <td>NaN</td>\n",
              "      <td>Standard</td>\n",
              "      <td>Conventional</td>\n",
              "    </tr>\n",
              "    <tr>\n",
              "      <th>1</th>\n",
              "      <td>1139248</td>\n",
              "      <td>57000.0</td>\n",
              "      <td>117657</td>\n",
              "      <td>77</td>\n",
              "      <td>121</td>\n",
              "      <td>3.0</td>\n",
              "      <td>1996</td>\n",
              "      <td>4640.0</td>\n",
              "      <td>Low</td>\n",
              "      <td>3/26/2004 0:00</td>\n",
              "      <td>...</td>\n",
              "      <td>NaN</td>\n",
              "      <td>NaN</td>\n",
              "      <td>NaN</td>\n",
              "      <td>NaN</td>\n",
              "      <td>NaN</td>\n",
              "      <td>NaN</td>\n",
              "      <td>NaN</td>\n",
              "      <td>NaN</td>\n",
              "      <td>Standard</td>\n",
              "      <td>Conventional</td>\n",
              "    </tr>\n",
              "    <tr>\n",
              "      <th>2</th>\n",
              "      <td>1139249</td>\n",
              "      <td>10000.0</td>\n",
              "      <td>434808</td>\n",
              "      <td>7009</td>\n",
              "      <td>121</td>\n",
              "      <td>3.0</td>\n",
              "      <td>2001</td>\n",
              "      <td>2838.0</td>\n",
              "      <td>High</td>\n",
              "      <td>2/26/2004 0:00</td>\n",
              "      <td>...</td>\n",
              "      <td>NaN</td>\n",
              "      <td>NaN</td>\n",
              "      <td>NaN</td>\n",
              "      <td>NaN</td>\n",
              "      <td>NaN</td>\n",
              "      <td>NaN</td>\n",
              "      <td>NaN</td>\n",
              "      <td>NaN</td>\n",
              "      <td>NaN</td>\n",
              "      <td>NaN</td>\n",
              "    </tr>\n",
              "    <tr>\n",
              "      <th>3</th>\n",
              "      <td>1139251</td>\n",
              "      <td>38500.0</td>\n",
              "      <td>1026470</td>\n",
              "      <td>332</td>\n",
              "      <td>121</td>\n",
              "      <td>3.0</td>\n",
              "      <td>2001</td>\n",
              "      <td>3486.0</td>\n",
              "      <td>High</td>\n",
              "      <td>5/19/2011 0:00</td>\n",
              "      <td>...</td>\n",
              "      <td>NaN</td>\n",
              "      <td>NaN</td>\n",
              "      <td>NaN</td>\n",
              "      <td>NaN</td>\n",
              "      <td>NaN</td>\n",
              "      <td>NaN</td>\n",
              "      <td>NaN</td>\n",
              "      <td>NaN</td>\n",
              "      <td>NaN</td>\n",
              "      <td>NaN</td>\n",
              "    </tr>\n",
              "    <tr>\n",
              "      <th>4</th>\n",
              "      <td>1139253</td>\n",
              "      <td>11000.0</td>\n",
              "      <td>1057373</td>\n",
              "      <td>17311</td>\n",
              "      <td>121</td>\n",
              "      <td>3.0</td>\n",
              "      <td>2007</td>\n",
              "      <td>722.0</td>\n",
              "      <td>Medium</td>\n",
              "      <td>7/23/2009 0:00</td>\n",
              "      <td>...</td>\n",
              "      <td>NaN</td>\n",
              "      <td>NaN</td>\n",
              "      <td>NaN</td>\n",
              "      <td>NaN</td>\n",
              "      <td>NaN</td>\n",
              "      <td>NaN</td>\n",
              "      <td>NaN</td>\n",
              "      <td>NaN</td>\n",
              "      <td>NaN</td>\n",
              "      <td>NaN</td>\n",
              "    </tr>\n",
              "  </tbody>\n",
              "</table>\n",
              "<p>5 rows × 53 columns</p>\n",
              "</div>\n",
              "      <button class=\"colab-df-convert\" onclick=\"convertToInteractive('df-fcc55b71-7bd5-4e6b-b5f9-0002f3a07602')\"\n",
              "              title=\"Convert this dataframe to an interactive table.\"\n",
              "              style=\"display:none;\">\n",
              "        \n",
              "  <svg xmlns=\"http://www.w3.org/2000/svg\" height=\"24px\"viewBox=\"0 0 24 24\"\n",
              "       width=\"24px\">\n",
              "    <path d=\"M0 0h24v24H0V0z\" fill=\"none\"/>\n",
              "    <path d=\"M18.56 5.44l.94 2.06.94-2.06 2.06-.94-2.06-.94-.94-2.06-.94 2.06-2.06.94zm-11 1L8.5 8.5l.94-2.06 2.06-.94-2.06-.94L8.5 2.5l-.94 2.06-2.06.94zm10 10l.94 2.06.94-2.06 2.06-.94-2.06-.94-.94-2.06-.94 2.06-2.06.94z\"/><path d=\"M17.41 7.96l-1.37-1.37c-.4-.4-.92-.59-1.43-.59-.52 0-1.04.2-1.43.59L10.3 9.45l-7.72 7.72c-.78.78-.78 2.05 0 2.83L4 21.41c.39.39.9.59 1.41.59.51 0 1.02-.2 1.41-.59l7.78-7.78 2.81-2.81c.8-.78.8-2.07 0-2.86zM5.41 20L4 18.59l7.72-7.72 1.47 1.35L5.41 20z\"/>\n",
              "  </svg>\n",
              "      </button>\n",
              "      \n",
              "  <style>\n",
              "    .colab-df-container {\n",
              "      display:flex;\n",
              "      flex-wrap:wrap;\n",
              "      gap: 12px;\n",
              "    }\n",
              "\n",
              "    .colab-df-convert {\n",
              "      background-color: #E8F0FE;\n",
              "      border: none;\n",
              "      border-radius: 50%;\n",
              "      cursor: pointer;\n",
              "      display: none;\n",
              "      fill: #1967D2;\n",
              "      height: 32px;\n",
              "      padding: 0 0 0 0;\n",
              "      width: 32px;\n",
              "    }\n",
              "\n",
              "    .colab-df-convert:hover {\n",
              "      background-color: #E2EBFA;\n",
              "      box-shadow: 0px 1px 2px rgba(60, 64, 67, 0.3), 0px 1px 3px 1px rgba(60, 64, 67, 0.15);\n",
              "      fill: #174EA6;\n",
              "    }\n",
              "\n",
              "    [theme=dark] .colab-df-convert {\n",
              "      background-color: #3B4455;\n",
              "      fill: #D2E3FC;\n",
              "    }\n",
              "\n",
              "    [theme=dark] .colab-df-convert:hover {\n",
              "      background-color: #434B5C;\n",
              "      box-shadow: 0px 1px 3px 1px rgba(0, 0, 0, 0.15);\n",
              "      filter: drop-shadow(0px 1px 2px rgba(0, 0, 0, 0.3));\n",
              "      fill: #FFFFFF;\n",
              "    }\n",
              "  </style>\n",
              "\n",
              "      <script>\n",
              "        const buttonEl =\n",
              "          document.querySelector('#df-fcc55b71-7bd5-4e6b-b5f9-0002f3a07602 button.colab-df-convert');\n",
              "        buttonEl.style.display =\n",
              "          google.colab.kernel.accessAllowed ? 'block' : 'none';\n",
              "\n",
              "        async function convertToInteractive(key) {\n",
              "          const element = document.querySelector('#df-fcc55b71-7bd5-4e6b-b5f9-0002f3a07602');\n",
              "          const dataTable =\n",
              "            await google.colab.kernel.invokeFunction('convertToInteractive',\n",
              "                                                     [key], {});\n",
              "          if (!dataTable) return;\n",
              "\n",
              "          const docLinkHtml = 'Like what you see? Visit the ' +\n",
              "            '<a target=\"_blank\" href=https://colab.research.google.com/notebooks/data_table.ipynb>data table notebook</a>'\n",
              "            + ' to learn more about interactive tables.';\n",
              "          element.innerHTML = '';\n",
              "          dataTable['output_type'] = 'display_data';\n",
              "          await google.colab.output.renderOutput(dataTable, element);\n",
              "          const docLink = document.createElement('div');\n",
              "          docLink.innerHTML = docLinkHtml;\n",
              "          element.appendChild(docLink);\n",
              "        }\n",
              "      </script>\n",
              "    </div>\n",
              "  </div>\n",
              "  "
            ]
          },
          "metadata": {},
          "execution_count": 5
        }
      ]
    },
    {
      "cell_type": "code",
      "source": [
        "df.info()"
      ],
      "metadata": {
        "id": "JZmYi-IYtH78",
        "colab": {
          "base_uri": "https://localhost:8080/"
        },
        "outputId": "1c721823-e535-49aa-c252-766f0fe45259"
      },
      "execution_count": 6,
      "outputs": [
        {
          "output_type": "stream",
          "name": "stdout",
          "text": [
            "<class 'pandas.core.frame.DataFrame'>\n",
            "RangeIndex: 412698 entries, 0 to 412697\n",
            "Data columns (total 53 columns):\n",
            " #   Column                    Non-Null Count   Dtype  \n",
            "---  ------                    --------------   -----  \n",
            " 0   SalesID                   412698 non-null  int64  \n",
            " 1   SalePrice                 412698 non-null  float64\n",
            " 2   MachineID                 412698 non-null  int64  \n",
            " 3   ModelID                   412698 non-null  int64  \n",
            " 4   datasource                412698 non-null  int64  \n",
            " 5   auctioneerID              392562 non-null  float64\n",
            " 6   YearMade                  412698 non-null  int64  \n",
            " 7   MachineHoursCurrentMeter  147504 non-null  float64\n",
            " 8   UsageBand                 73670 non-null   object \n",
            " 9   saledate                  412698 non-null  object \n",
            " 10  fiModelDesc               412698 non-null  object \n",
            " 11  fiBaseModel               412698 non-null  object \n",
            " 12  fiSecondaryDesc           271971 non-null  object \n",
            " 13  fiModelSeries             58667 non-null   object \n",
            " 14  fiModelDescriptor         74816 non-null   object \n",
            " 15  ProductSize               196093 non-null  object \n",
            " 16  fiProductClassDesc        412698 non-null  object \n",
            " 17  state                     412698 non-null  object \n",
            " 18  ProductGroup              412698 non-null  object \n",
            " 19  ProductGroupDesc          412698 non-null  object \n",
            " 20  Drive_System              107087 non-null  object \n",
            " 21  Enclosure                 412364 non-null  object \n",
            " 22  Forks                     197715 non-null  object \n",
            " 23  Pad_Type                  81096 non-null   object \n",
            " 24  Ride_Control              152728 non-null  object \n",
            " 25  Stick                     81096 non-null   object \n",
            " 26  Transmission              188007 non-null  object \n",
            " 27  Turbocharged              81096 non-null   object \n",
            " 28  Blade_Extension           25983 non-null   object \n",
            " 29  Blade_Width               25983 non-null   object \n",
            " 30  Enclosure_Type            25983 non-null   object \n",
            " 31  Engine_Horsepower         25983 non-null   object \n",
            " 32  Hydraulics                330133 non-null  object \n",
            " 33  Pushblock                 25983 non-null   object \n",
            " 34  Ripper                    106945 non-null  object \n",
            " 35  Scarifier                 25994 non-null   object \n",
            " 36  Tip_Control               25983 non-null   object \n",
            " 37  Tire_Size                 97638 non-null   object \n",
            " 38  Coupler                   220679 non-null  object \n",
            " 39  Coupler_System            44974 non-null   object \n",
            " 40  Grouser_Tracks            44875 non-null   object \n",
            " 41  Hydraulics_Flow           44875 non-null   object \n",
            " 42  Track_Type                102193 non-null  object \n",
            " 43  Undercarriage_Pad_Width   102916 non-null  object \n",
            " 44  Stick_Length              102261 non-null  object \n",
            " 45  Thumb                     102332 non-null  object \n",
            " 46  Pattern_Changer           102261 non-null  object \n",
            " 47  Grouser_Type              102193 non-null  object \n",
            " 48  Backhoe_Mounting          80712 non-null   object \n",
            " 49  Blade_Type                81875 non-null   object \n",
            " 50  Travel_Controls           81877 non-null   object \n",
            " 51  Differential_Type         71564 non-null   object \n",
            " 52  Steering_Controls         71522 non-null   object \n",
            "dtypes: float64(3), int64(5), object(45)\n",
            "memory usage: 166.9+ MB\n"
          ]
        }
      ]
    },
    {
      "cell_type": "code",
      "source": [
        "df.isna().sum()"
      ],
      "metadata": {
        "id": "pB3DIIP1tKT2",
        "colab": {
          "base_uri": "https://localhost:8080/"
        },
        "outputId": "37488eb3-c32d-4933-f37d-15a7df8e55e0"
      },
      "execution_count": 7,
      "outputs": [
        {
          "output_type": "execute_result",
          "data": {
            "text/plain": [
              "SalesID                          0\n",
              "SalePrice                        0\n",
              "MachineID                        0\n",
              "ModelID                          0\n",
              "datasource                       0\n",
              "auctioneerID                 20136\n",
              "YearMade                         0\n",
              "MachineHoursCurrentMeter    265194\n",
              "UsageBand                   339028\n",
              "saledate                         0\n",
              "fiModelDesc                      0\n",
              "fiBaseModel                      0\n",
              "fiSecondaryDesc             140727\n",
              "fiModelSeries               354031\n",
              "fiModelDescriptor           337882\n",
              "ProductSize                 216605\n",
              "fiProductClassDesc               0\n",
              "state                            0\n",
              "ProductGroup                     0\n",
              "ProductGroupDesc                 0\n",
              "Drive_System                305611\n",
              "Enclosure                      334\n",
              "Forks                       214983\n",
              "Pad_Type                    331602\n",
              "Ride_Control                259970\n",
              "Stick                       331602\n",
              "Transmission                224691\n",
              "Turbocharged                331602\n",
              "Blade_Extension             386715\n",
              "Blade_Width                 386715\n",
              "Enclosure_Type              386715\n",
              "Engine_Horsepower           386715\n",
              "Hydraulics                   82565\n",
              "Pushblock                   386715\n",
              "Ripper                      305753\n",
              "Scarifier                   386704\n",
              "Tip_Control                 386715\n",
              "Tire_Size                   315060\n",
              "Coupler                     192019\n",
              "Coupler_System              367724\n",
              "Grouser_Tracks              367823\n",
              "Hydraulics_Flow             367823\n",
              "Track_Type                  310505\n",
              "Undercarriage_Pad_Width     309782\n",
              "Stick_Length                310437\n",
              "Thumb                       310366\n",
              "Pattern_Changer             310437\n",
              "Grouser_Type                310505\n",
              "Backhoe_Mounting            331986\n",
              "Blade_Type                  330823\n",
              "Travel_Controls             330821\n",
              "Differential_Type           341134\n",
              "Steering_Controls           341176\n",
              "dtype: int64"
            ]
          },
          "metadata": {},
          "execution_count": 7
        }
      ]
    },
    {
      "cell_type": "code",
      "source": [
        "fig, ax= plt.subplots()\n",
        "ax.scatter(df['saledate'][:1000], df['SalePrice'][:1000]);"
      ],
      "metadata": {
        "id": "TgOPR1VPtPA7",
        "colab": {
          "base_uri": "https://localhost:8080/",
          "height": 265
        },
        "outputId": "139bf4e5-c7b6-43e9-9e07-dc3f7a1da2f6"
      },
      "execution_count": 8,
      "outputs": [
        {
          "output_type": "display_data",
          "data": {
            "text/plain": [
              "<Figure size 432x288 with 1 Axes>"
            ],
            "image/png": "[encoded data removed]"
          },
          "metadata": {
            "needs_background": "light"
          }
        }
      ]
    },
    {
      "cell_type": "code",
      "source": [
        "df.saledate[:10]"
      ],
      "metadata": {
        "id": "bpuhiT0ntn9H",
        "colab": {
          "base_uri": "https://localhost:8080/"
        },
        "outputId": "ca85c9cd-7c25-462a-cc9e-c4b6787cc9a5"
      },
      "execution_count": 9,
      "outputs": [
        {
          "output_type": "execute_result",
          "data": {
            "text/plain": [
              "0    11/16/2006 0:00\n",
              "1     3/26/2004 0:00\n",
              "2     2/26/2004 0:00\n",
              "3     5/19/2011 0:00\n",
              "4     7/23/2009 0:00\n",
              "5    12/18/2008 0:00\n",
              "6     8/26/2004 0:00\n",
              "7    11/17/2005 0:00\n",
              "8     8/27/2009 0:00\n",
              "9      8/9/2007 0:00\n",
              "Name: saledate, dtype: object"
            ]
          },
          "metadata": {},
          "execution_count": 9
        }
      ]
    },
    {
      "cell_type": "code",
      "source": [
        "df.SalePrice.plot.hist()"
      ],
      "metadata": {
        "id": "dbQLUPJrtsjS",
        "colab": {
          "base_uri": "https://localhost:8080/",
          "height": 283
        },
        "outputId": "ac1ef3ac-dfe9-4520-a978-cb1a8b76632c"
      },
      "execution_count": 10,
      "outputs": [
        {
          "output_type": "execute_result",
          "data": {
            "text/plain": [
              "<matplotlib.axes._subplots.AxesSubplot at 0x7f640e928b80>"
            ]
          },
          "metadata": {},
          "execution_count": 10
        },
        {
          "output_type": "display_data",
          "data": {
            "text/plain": [
              "<Figure size 432x288 with 1 Axes>"
            ],
            "image/png": "[encoded data removed]"
          },
          "metadata": {
            "needs_background": "light"
          }
        }
      ]
    },
    {
      "cell_type": "markdown",
      "source": [
        "##Parsing dates"
      ],
      "metadata": {
        "id": "vko2xJENMNfY"
      }
    },
    {
      "cell_type": "code",
      "source": [
        "df= pd.read_csv('/content/bluebook-for-bulldozers/TrainAndValid.csv', parse_dates=['saledate'])\n",
        "df.saledate.dtype"
      ],
      "metadata": {
        "id": "3Ol2ftoItx3j",
        "colab": {
          "base_uri": "https://localhost:8080/"
        },
        "outputId": "645b7385-23e7-41ba-cdec-fa2a0d0e0a38"
      },
      "execution_count": 11,
      "outputs": [
        {
          "output_type": "stream",
          "name": "stderr",
          "text": [
            "/usr/local/lib/python3.8/dist-packages/IPython/core/interactiveshell.py:3326: DtypeWarning: Columns (13,39,40,41) have mixed types.Specify dtype option on import or set low_memory=False.\n",
            "  exec(code_obj, self.user_global_ns, self.user_ns)\n"
          ]
        },
        {
          "output_type": "execute_result",
          "data": {
            "text/plain": [
              "dtype('<M8[ns]')"
            ]
          },
          "metadata": {},
          "execution_count": 11
        }
      ]
    },
    {
      "cell_type": "code",
      "source": [
        "df.saledate[:10]"
      ],
      "metadata": {
        "id": "vrfWHLIjuFBv",
        "colab": {
          "base_uri": "https://localhost:8080/"
        },
        "outputId": "a301c030-0680-4fa1-833e-f195e2d81d4a"
      },
      "execution_count": 12,
      "outputs": [
        {
          "output_type": "execute_result",
          "data": {
            "text/plain": [
              "0   2006-11-16\n",
              "1   2004-03-26\n",
              "2   2004-02-26\n",
              "3   2011-05-19\n",
              "4   2009-07-23\n",
              "5   2008-12-18\n",
              "6   2004-08-26\n",
              "7   2005-11-17\n",
              "8   2009-08-27\n",
              "9   2007-08-09\n",
              "Name: saledate, dtype: datetime64[ns]"
            ]
          },
          "metadata": {},
          "execution_count": 12
        }
      ]
    },
    {
      "cell_type": "code",
      "source": [
        "fig, ax= plt.subplots()\n",
        "ax.scatter(df.saledate[:1000], df.SalePrice[:1000]);"
      ],
      "metadata": {
        "id": "ZUXWP8exuIKi",
        "colab": {
          "base_uri": "https://localhost:8080/",
          "height": 265
        },
        "outputId": "dcb12746-bd72-4665-ad89-9d14c09b2c04"
      },
      "execution_count": 13,
      "outputs": [
        {
          "output_type": "display_data",
          "data": {
            "text/plain": [
              "<Figure size 432x288 with 1 Axes>"
            ],
            "image/png": "[encoded data removed]"
          },
          "metadata": {
            "needs_background": "light"
          }
        }
      ]
    },
    {
      "cell_type": "markdown",
      "source": [
        "##Sort DataFrame by saledate"
      ],
      "metadata": {
        "id": "G7xntujWMNcW"
      }
    },
    {
      "cell_type": "code",
      "source": [
        "#when working with time series data, it's a good idea to sort it by date\n",
        "\n",
        "# Sort dataframe in date order\n",
        "df.sort_values(by=['saledate'], inplace= True, ascending= True)\n",
        "df.saledate.head()"
      ],
      "metadata": {
        "id": "mhRqr2pouWCO",
        "colab": {
          "base_uri": "https://localhost:8080/"
        },
        "outputId": "3488f307-70f7-44b0-fde6-7ebb7748b1a3"
      },
      "execution_count": 14,
      "outputs": [
        {
          "output_type": "execute_result",
          "data": {
            "text/plain": [
              "205615   1989-01-17\n",
              "274835   1989-01-31\n",
              "141296   1989-01-31\n",
              "212552   1989-01-31\n",
              "62755    1989-01-31\n",
              "Name: saledate, dtype: datetime64[ns]"
            ]
          },
          "metadata": {},
          "execution_count": 14
        }
      ]
    },
    {
      "cell_type": "markdown",
      "source": [
        "##Make a copy of the original DataFrame"
      ],
      "metadata": {
        "id": "B7lhDVxDMNZk"
      }
    },
    {
      "cell_type": "code",
      "source": [
        "df_tmp= df.copy()"
      ],
      "metadata": {
        "id": "RIM6WrS0vc54"
      },
      "execution_count": 15,
      "outputs": []
    },
    {
      "cell_type": "markdown",
      "source": [
        "##Add datetime parameter for saledate column"
      ],
      "metadata": {
        "id": "3TR2In2yMNWh"
      }
    },
    {
      "cell_type": "code",
      "source": [
        "df_tmp['saleYear']= df_tmp.saledate.dt.year\n",
        "df_tmp['saleMonth']= df_tmp.saledate.dt.month\n",
        "df_tmp['day']= df_tmp.saledate.dt.day\n",
        "df_tmp['saleDayOfWeek']= df_tmp.saledate.dt.day_of_week\n",
        "df_tmp['saleDayOfYear']= df_tmp.saledate.dt.day_of_year"
      ],
      "metadata": {
        "id": "uO3VXHSVv20H"
      },
      "execution_count": 16,
      "outputs": []
    },
    {
      "cell_type": "code",
      "source": [
        "df_tmp.head().T"
      ],
      "metadata": {
        "id": "g1Dj_0GCyENH",
        "colab": {
          "base_uri": "https://localhost:8080/",
          "height": 1000
        },
        "outputId": "02db7754-719d-4ce1-b901-936b533b3ca5"
      },
      "execution_count": 17,
      "outputs": [
        {
          "output_type": "execute_result",
          "data": {
            "text/plain": [
              "                                                                     205615  \\\n",
              "SalesID                                                             1646770   \n",
              "SalePrice                                                            9500.0   \n",
              "MachineID                                                           1126363   \n",
              "ModelID                                                                8434   \n",
              "datasource                                                              132   \n",
              "auctioneerID                                                           18.0   \n",
              "YearMade                                                               1974   \n",
              "MachineHoursCurrentMeter                                                NaN   \n",
              "UsageBand                                                               NaN   \n",
              "saledate                                                1989-01-17 00:00:00   \n",
              "fiModelDesc                                                            TD20   \n",
              "fiBaseModel                                                            TD20   \n",
              "fiSecondaryDesc                                                         NaN   \n",
              "fiModelSeries                                                           NaN   \n",
              "fiModelDescriptor                                                       NaN   \n",
              "ProductSize                                                          Medium   \n",
              "fiProductClassDesc        Track Type Tractor, Dozer - 105.0 to 130.0 Hor...   \n",
              "state                                                                 Texas   \n",
              "ProductGroup                                                            TTT   \n",
              "ProductGroupDesc                                        Track Type Tractors   \n",
              "Drive_System                                                            NaN   \n",
              "Enclosure                                                             OROPS   \n",
              "Forks                                                                   NaN   \n",
              "Pad_Type                                                                NaN   \n",
              "Ride_Control                                                            NaN   \n",
              "Stick                                                                   NaN   \n",
              "Transmission                                                   Direct Drive   \n",
              "Turbocharged                                                            NaN   \n",
              "Blade_Extension                                                         NaN   \n",
              "Blade_Width                                                             NaN   \n",
              "Enclosure_Type                                                          NaN   \n",
              "Engine_Horsepower                                                       NaN   \n",
              "Hydraulics                                                          2 Valve   \n",
              "Pushblock                                                               NaN   \n",
              "Ripper                                                  None or Unspecified   \n",
              "Scarifier                                                               NaN   \n",
              "Tip_Control                                                             NaN   \n",
              "Tire_Size                                                               NaN   \n",
              "Coupler                                                                 NaN   \n",
              "Coupler_System                                                          NaN   \n",
              "Grouser_Tracks                                                          NaN   \n",
              "Hydraulics_Flow                                                         NaN   \n",
              "Track_Type                                                              NaN   \n",
              "Undercarriage_Pad_Width                                                 NaN   \n",
              "Stick_Length                                                            NaN   \n",
              "Thumb                                                                   NaN   \n",
              "Pattern_Changer                                                         NaN   \n",
              "Grouser_Type                                                            NaN   \n",
              "Backhoe_Mounting                                        None or Unspecified   \n",
              "Blade_Type                                                         Straight   \n",
              "Travel_Controls                                         None or Unspecified   \n",
              "Differential_Type                                                       NaN   \n",
              "Steering_Controls                                                       NaN   \n",
              "saleYear                                                               1989   \n",
              "saleMonth                                                                 1   \n",
              "day                                                                      17   \n",
              "saleDayOfWeek                                                             1   \n",
              "saleDayOfYear                                                            17   \n",
              "\n",
              "                                                            274835  \\\n",
              "SalesID                                                    1821514   \n",
              "SalePrice                                                  14000.0   \n",
              "MachineID                                                  1194089   \n",
              "ModelID                                                      10150   \n",
              "datasource                                                     132   \n",
              "auctioneerID                                                  99.0   \n",
              "YearMade                                                      1980   \n",
              "MachineHoursCurrentMeter                                       NaN   \n",
              "UsageBand                                                      NaN   \n",
              "saledate                                       1989-01-31 00:00:00   \n",
              "fiModelDesc                                                    A66   \n",
              "fiBaseModel                                                    A66   \n",
              "fiSecondaryDesc                                                NaN   \n",
              "fiModelSeries                                                  NaN   \n",
              "fiModelDescriptor                                              NaN   \n",
              "ProductSize                                                    NaN   \n",
              "fiProductClassDesc        Wheel Loader - 120.0 to 135.0 Horsepower   \n",
              "state                                                      Florida   \n",
              "ProductGroup                                                    WL   \n",
              "ProductGroupDesc                                      Wheel Loader   \n",
              "Drive_System                                                   NaN   \n",
              "Enclosure                                                    OROPS   \n",
              "Forks                                          None or Unspecified   \n",
              "Pad_Type                                                       NaN   \n",
              "Ride_Control                                   None or Unspecified   \n",
              "Stick                                                          NaN   \n",
              "Transmission                                                   NaN   \n",
              "Turbocharged                                                   NaN   \n",
              "Blade_Extension                                                NaN   \n",
              "Blade_Width                                                    NaN   \n",
              "Enclosure_Type                                                 NaN   \n",
              "Engine_Horsepower                                              NaN   \n",
              "Hydraulics                                                 2 Valve   \n",
              "Pushblock                                                      NaN   \n",
              "Ripper                                                         NaN   \n",
              "Scarifier                                                      NaN   \n",
              "Tip_Control                                                    NaN   \n",
              "Tire_Size                                      None or Unspecified   \n",
              "Coupler                                        None or Unspecified   \n",
              "Coupler_System                                                 NaN   \n",
              "Grouser_Tracks                                                 NaN   \n",
              "Hydraulics_Flow                                                NaN   \n",
              "Track_Type                                                     NaN   \n",
              "Undercarriage_Pad_Width                                        NaN   \n",
              "Stick_Length                                                   NaN   \n",
              "Thumb                                                          NaN   \n",
              "Pattern_Changer                                                NaN   \n",
              "Grouser_Type                                                   NaN   \n",
              "Backhoe_Mounting                                               NaN   \n",
              "Blade_Type                                                     NaN   \n",
              "Travel_Controls                                                NaN   \n",
              "Differential_Type                                         Standard   \n",
              "Steering_Controls                                     Conventional   \n",
              "saleYear                                                      1989   \n",
              "saleMonth                                                        1   \n",
              "day                                                             31   \n",
              "saleDayOfWeek                                                    1   \n",
              "saleDayOfYear                                                   31   \n",
              "\n",
              "                                                                     141296  \\\n",
              "SalesID                                                             1505138   \n",
              "SalePrice                                                           50000.0   \n",
              "MachineID                                                           1473654   \n",
              "ModelID                                                                4139   \n",
              "datasource                                                              132   \n",
              "auctioneerID                                                           99.0   \n",
              "YearMade                                                               1978   \n",
              "MachineHoursCurrentMeter                                                NaN   \n",
              "UsageBand                                                               NaN   \n",
              "saledate                                                1989-01-31 00:00:00   \n",
              "fiModelDesc                                                             D7G   \n",
              "fiBaseModel                                                              D7   \n",
              "fiSecondaryDesc                                                           G   \n",
              "fiModelSeries                                                           NaN   \n",
              "fiModelDescriptor                                                       NaN   \n",
              "ProductSize                                                           Large   \n",
              "fiProductClassDesc        Track Type Tractor, Dozer - 190.0 to 260.0 Hor...   \n",
              "state                                                               Florida   \n",
              "ProductGroup                                                            TTT   \n",
              "ProductGroupDesc                                        Track Type Tractors   \n",
              "Drive_System                                                            NaN   \n",
              "Enclosure                                                             OROPS   \n",
              "Forks                                                                   NaN   \n",
              "Pad_Type                                                                NaN   \n",
              "Ride_Control                                                            NaN   \n",
              "Stick                                                                   NaN   \n",
              "Transmission                                                       Standard   \n",
              "Turbocharged                                                            NaN   \n",
              "Blade_Extension                                                         NaN   \n",
              "Blade_Width                                                             NaN   \n",
              "Enclosure_Type                                                          NaN   \n",
              "Engine_Horsepower                                                       NaN   \n",
              "Hydraulics                                                          2 Valve   \n",
              "Pushblock                                                               NaN   \n",
              "Ripper                                                  None or Unspecified   \n",
              "Scarifier                                                               NaN   \n",
              "Tip_Control                                                             NaN   \n",
              "Tire_Size                                                               NaN   \n",
              "Coupler                                                                 NaN   \n",
              "Coupler_System                                                          NaN   \n",
              "Grouser_Tracks                                                          NaN   \n",
              "Hydraulics_Flow                                                         NaN   \n",
              "Track_Type                                                              NaN   \n",
              "Undercarriage_Pad_Width                                                 NaN   \n",
              "Stick_Length                                                            NaN   \n",
              "Thumb                                                                   NaN   \n",
              "Pattern_Changer                                                         NaN   \n",
              "Grouser_Type                                                            NaN   \n",
              "Backhoe_Mounting                                        None or Unspecified   \n",
              "Blade_Type                                                         Straight   \n",
              "Travel_Controls                                         None or Unspecified   \n",
              "Differential_Type                                                       NaN   \n",
              "Steering_Controls                                                       NaN   \n",
              "saleYear                                                               1989   \n",
              "saleMonth                                                                 1   \n",
              "day                                                                      31   \n",
              "saleDayOfWeek                                                             1   \n",
              "saleDayOfYear                                                            31   \n",
              "\n",
              "                                               212552  \\\n",
              "SalesID                                       1671174   \n",
              "SalePrice                                     16000.0   \n",
              "MachineID                                     1327630   \n",
              "ModelID                                          8591   \n",
              "datasource                                        132   \n",
              "auctioneerID                                     99.0   \n",
              "YearMade                                         1980   \n",
              "MachineHoursCurrentMeter                          NaN   \n",
              "UsageBand                                         NaN   \n",
              "saledate                          1989-01-31 00:00:00   \n",
              "fiModelDesc                                       A62   \n",
              "fiBaseModel                                       A62   \n",
              "fiSecondaryDesc                                   NaN   \n",
              "fiModelSeries                                     NaN   \n",
              "fiModelDescriptor                                 NaN   \n",
              "ProductSize                                       NaN   \n",
              "fiProductClassDesc        Wheel Loader - Unidentified   \n",
              "state                                         Florida   \n",
              "ProductGroup                                       WL   \n",
              "ProductGroupDesc                         Wheel Loader   \n",
              "Drive_System                                      NaN   \n",
              "Enclosure                                       EROPS   \n",
              "Forks                             None or Unspecified   \n",
              "Pad_Type                                          NaN   \n",
              "Ride_Control                      None or Unspecified   \n",
              "Stick                                             NaN   \n",
              "Transmission                                      NaN   \n",
              "Turbocharged                                      NaN   \n",
              "Blade_Extension                                   NaN   \n",
              "Blade_Width                                       NaN   \n",
              "Enclosure_Type                                    NaN   \n",
              "Engine_Horsepower                                 NaN   \n",
              "Hydraulics                                    2 Valve   \n",
              "Pushblock                                         NaN   \n",
              "Ripper                                            NaN   \n",
              "Scarifier                                         NaN   \n",
              "Tip_Control                                       NaN   \n",
              "Tire_Size                         None or Unspecified   \n",
              "Coupler                           None or Unspecified   \n",
              "Coupler_System                                    NaN   \n",
              "Grouser_Tracks                                    NaN   \n",
              "Hydraulics_Flow                                   NaN   \n",
              "Track_Type                                        NaN   \n",
              "Undercarriage_Pad_Width                           NaN   \n",
              "Stick_Length                                      NaN   \n",
              "Thumb                                             NaN   \n",
              "Pattern_Changer                                   NaN   \n",
              "Grouser_Type                                      NaN   \n",
              "Backhoe_Mounting                                  NaN   \n",
              "Blade_Type                                        NaN   \n",
              "Travel_Controls                                   NaN   \n",
              "Differential_Type                            Standard   \n",
              "Steering_Controls                        Conventional   \n",
              "saleYear                                         1989   \n",
              "saleMonth                                           1   \n",
              "day                                                31   \n",
              "saleDayOfWeek                                       1   \n",
              "saleDayOfYear                                      31   \n",
              "\n",
              "                                                                     62755   \n",
              "SalesID                                                             1329056  \n",
              "SalePrice                                                           22000.0  \n",
              "MachineID                                                           1336053  \n",
              "ModelID                                                                4089  \n",
              "datasource                                                              132  \n",
              "auctioneerID                                                           99.0  \n",
              "YearMade                                                               1984  \n",
              "MachineHoursCurrentMeter                                                NaN  \n",
              "UsageBand                                                               NaN  \n",
              "saledate                                                1989-01-31 00:00:00  \n",
              "fiModelDesc                                                             D3B  \n",
              "fiBaseModel                                                              D3  \n",
              "fiSecondaryDesc                                                           B  \n",
              "fiModelSeries                                                           NaN  \n",
              "fiModelDescriptor                                                       NaN  \n",
              "ProductSize                                                             NaN  \n",
              "fiProductClassDesc        Track Type Tractor, Dozer - 20.0 to 75.0 Horse...  \n",
              "state                                                               Florida  \n",
              "ProductGroup                                                            TTT  \n",
              "ProductGroupDesc                                        Track Type Tractors  \n",
              "Drive_System                                                            NaN  \n",
              "Enclosure                                                             OROPS  \n",
              "Forks                                                                   NaN  \n",
              "Pad_Type                                                                NaN  \n",
              "Ride_Control                                                            NaN  \n",
              "Stick                                                                   NaN  \n",
              "Transmission                                                       Standard  \n",
              "Turbocharged                                                            NaN  \n",
              "Blade_Extension                                                         NaN  \n",
              "Blade_Width                                                             NaN  \n",
              "Enclosure_Type                                                          NaN  \n",
              "Engine_Horsepower                                                       NaN  \n",
              "Hydraulics                                                          2 Valve  \n",
              "Pushblock                                                               NaN  \n",
              "Ripper                                                  None or Unspecified  \n",
              "Scarifier                                                               NaN  \n",
              "Tip_Control                                                             NaN  \n",
              "Tire_Size                                                               NaN  \n",
              "Coupler                                                                 NaN  \n",
              "Coupler_System                                                          NaN  \n",
              "Grouser_Tracks                                                          NaN  \n",
              "Hydraulics_Flow                                                         NaN  \n",
              "Track_Type                                                              NaN  \n",
              "Undercarriage_Pad_Width                                                 NaN  \n",
              "Stick_Length                                                            NaN  \n",
              "Thumb                                                                   NaN  \n",
              "Pattern_Changer                                                         NaN  \n",
              "Grouser_Type                                                            NaN  \n",
              "Backhoe_Mounting                                        None or Unspecified  \n",
              "Blade_Type                                                              PAT  \n",
              "Travel_Controls                                                       Lever  \n",
              "Differential_Type                                                       NaN  \n",
              "Steering_Controls                                                       NaN  \n",
              "saleYear                                                               1989  \n",
              "saleMonth                                                                 1  \n",
              "day                                                                      31  \n",
              "saleDayOfWeek                                                             1  \n",
              "saleDayOfYear                                                            31  "
            ],
            "text/html": [
              "\n",
              "  <div id=\"df-0c469c23-35fc-486c-912c-9135906fadf6\">\n",
              "    <div class=\"colab-df-container\">\n",
              "      <div>\n",
              "<style scoped>\n",
              "    .dataframe tbody tr th:only-of-type {\n",
              "        vertical-align: middle;\n",
              "    }\n",
              "\n",
              "    .dataframe tbody tr th {\n",
              "        vertical-align: top;\n",
              "    }\n",
              "\n",
              "    .dataframe thead th {\n",
              "        text-align: right;\n",
              "    }\n",
              "</style>\n",
              "<table border=\"1\" class=\"dataframe\">\n",
              "  <thead>\n",
              "    <tr style=\"text-align: right;\">\n",
              "      <th></th>\n",
              "      <th>205615</th>\n",
              "      <th>274835</th>\n",
              "      <th>141296</th>\n",
              "      <th>212552</th>\n",
              "      <th>62755</th>\n",
              "    </tr>\n",
              "  </thead>\n",
              "  <tbody>\n",
              "    <tr>\n",
              "      <th>SalesID</th>\n",
              "      <td>1646770</td>\n",
              "      <td>1821514</td>\n",
              "      <td>1505138</td>\n",
              "      <td>1671174</td>\n",
              "      <td>1329056</td>\n",
              "    </tr>\n",
              "    <tr>\n",
              "      <th>SalePrice</th>\n",
              "      <td>9500.0</td>\n",
              "      <td>14000.0</td>\n",
              "      <td>50000.0</td>\n",
              "      <td>16000.0</td>\n",
              "      <td>22000.0</td>\n",
              "    </tr>\n",
              "    <tr>\n",
              "      <th>MachineID</th>\n",
              "      <td>1126363</td>\n",
              "      <td>1194089</td>\n",
              "      <td>1473654</td>\n",
              "      <td>1327630</td>\n",
              "      <td>1336053</td>\n",
              "    </tr>\n",
              "    <tr>\n",
              "      <th>ModelID</th>\n",
              "      <td>8434</td>\n",
              "      <td>10150</td>\n",
              "      <td>4139</td>\n",
              "      <td>8591</td>\n",
              "      <td>4089</td>\n",
              "    </tr>\n",
              "    <tr>\n",
              "      <th>datasource</th>\n",
              "      <td>132</td>\n",
              "      <td>132</td>\n",
              "      <td>132</td>\n",
              "      <td>132</td>\n",
              "      <td>132</td>\n",
              "    </tr>\n",
              "    <tr>\n",
              "      <th>auctioneerID</th>\n",
              "      <td>18.0</td>\n",
              "      <td>99.0</td>\n",
              "      <td>99.0</td>\n",
              "      <td>99.0</td>\n",
              "      <td>99.0</td>\n",
              "    </tr>\n",
              "    <tr>\n",
              "      <th>YearMade</th>\n",
              "      <td>1974</td>\n",
              "      <td>1980</td>\n",
              "      <td>1978</td>\n",
              "      <td>1980</td>\n",
              "      <td>1984</td>\n",
              "    </tr>\n",
              "    <tr>\n",
              "      <th>MachineHoursCurrentMeter</th>\n",
              "      <td>NaN</td>\n",
              "      <td>NaN</td>\n",
              "      <td>NaN</td>\n",
              "      <td>NaN</td>\n",
              "      <td>NaN</td>\n",
              "    </tr>\n",
              "    <tr>\n",
              "      <th>UsageBand</th>\n",
              "      <td>NaN</td>\n",
              "      <td>NaN</td>\n",
              "      <td>NaN</td>\n",
              "      <td>NaN</td>\n",
              "      <td>NaN</td>\n",
              "    </tr>\n",
              "    <tr>\n",
              "      <th>saledate</th>\n",
              "      <td>1989-01-17 00:00:00</td>\n",
              "      <td>1989-01-31 00:00:00</td>\n",
              "      <td>1989-01-31 00:00:00</td>\n",
              "      <td>1989-01-31 00:00:00</td>\n",
              "      <td>1989-01-31 00:00:00</td>\n",
              "    </tr>\n",
              "    <tr>\n",
              "      <th>fiModelDesc</th>\n",
              "      <td>TD20</td>\n",
              "      <td>A66</td>\n",
              "      <td>D7G</td>\n",
              "      <td>A62</td>\n",
              "      <td>D3B</td>\n",
              "    </tr>\n",
              "    <tr>\n",
              "      <th>fiBaseModel</th>\n",
              "      <td>TD20</td>\n",
              "      <td>A66</td>\n",
              "      <td>D7</td>\n",
              "      <td>A62</td>\n",
              "      <td>D3</td>\n",
              "    </tr>\n",
              "    <tr>\n",
              "      <th>fiSecondaryDesc</th>\n",
              "      <td>NaN</td>\n",
              "      <td>NaN</td>\n",
              "      <td>G</td>\n",
              "      <td>NaN</td>\n",
              "      <td>B</td>\n",
              "    </tr>\n",
              "    <tr>\n",
              "      <th>fiModelSeries</th>\n",
              "      <td>NaN</td>\n",
              "      <td>NaN</td>\n",
              "      <td>NaN</td>\n",
              "      <td>NaN</td>\n",
              "      <td>NaN</td>\n",
              "    </tr>\n",
              "    <tr>\n",
              "      <th>fiModelDescriptor</th>\n",
              "      <td>NaN</td>\n",
              "      <td>NaN</td>\n",
              "      <td>NaN</td>\n",
              "      <td>NaN</td>\n",
              "      <td>NaN</td>\n",
              "    </tr>\n",
              "    <tr>\n",
              "      <th>ProductSize</th>\n",
              "      <td>Medium</td>\n",
              "      <td>NaN</td>\n",
              "      <td>Large</td>\n",
              "      <td>NaN</td>\n",
              "      <td>NaN</td>\n",
              "    </tr>\n",
              "    <tr>\n",
              "      <th>fiProductClassDesc</th>\n",
              "      <td>Track Type Tractor, Dozer - 105.0 to 130.0 Hor...</td>\n",
              "      <td>Wheel Loader - 120.0 to 135.0 Horsepower</td>\n",
              "      <td>Track Type Tractor, Dozer - 190.0 to 260.0 Hor...</td>\n",
              "      <td>Wheel Loader - Unidentified</td>\n",
              "      <td>Track Type Tractor, Dozer - 20.0 to 75.0 Horse...</td>\n",
              "    </tr>\n",
              "    <tr>\n",
              "      <th>state</th>\n",
              "      <td>Texas</td>\n",
              "      <td>Florida</td>\n",
              "      <td>Florida</td>\n",
              "      <td>Florida</td>\n",
              "      <td>Florida</td>\n",
              "    </tr>\n",
              "    <tr>\n",
              "      <th>ProductGroup</th>\n",
              "      <td>TTT</td>\n",
              "      <td>WL</td>\n",
              "      <td>TTT</td>\n",
              "      <td>WL</td>\n",
              "      <td>TTT</td>\n",
              "    </tr>\n",
              "    <tr>\n",
              "      <th>ProductGroupDesc</th>\n",
              "      <td>Track Type Tractors</td>\n",
              "      <td>Wheel Loader</td>\n",
              "      <td>Track Type Tractors</td>\n",
              "      <td>Wheel Loader</td>\n",
              "      <td>Track Type Tractors</td>\n",
              "    </tr>\n",
              "    <tr>\n",
              "      <th>Drive_System</th>\n",
              "      <td>NaN</td>\n",
              "      <td>NaN</td>\n",
              "      <td>NaN</td>\n",
              "      <td>NaN</td>\n",
              "      <td>NaN</td>\n",
              "    </tr>\n",
              "    <tr>\n",
              "      <th>Enclosure</th>\n",
              "      <td>OROPS</td>\n",
              "      <td>OROPS</td>\n",
              "      <td>OROPS</td>\n",
              "      <td>EROPS</td>\n",
              "      <td>OROPS</td>\n",
              "    </tr>\n",
              "    <tr>\n",
              "      <th>Forks</th>\n",
              "      <td>NaN</td>\n",
              "      <td>None or Unspecified</td>\n",
              "      <td>NaN</td>\n",
              "      <td>None or Unspecified</td>\n",
              "      <td>NaN</td>\n",
              "    </tr>\n",
              "    <tr>\n",
              "      <th>Pad_Type</th>\n",
              "      <td>NaN</td>\n",
              "      <td>NaN</td>\n",
              "      <td>NaN</td>\n",
              "      <td>NaN</td>\n",
              "      <td>NaN</td>\n",
              "    </tr>\n",
              "    <tr>\n",
              "      <th>Ride_Control</th>\n",
              "      <td>NaN</td>\n",
              "      <td>None or Unspecified</td>\n",
              "      <td>NaN</td>\n",
              "      <td>None or Unspecified</td>\n",
              "      <td>NaN</td>\n",
              "    </tr>\n",
              "    <tr>\n",
              "      <th>Stick</th>\n",
              "      <td>NaN</td>\n",
              "      <td>NaN</td>\n",
              "      <td>NaN</td>\n",
              "      <td>NaN</td>\n",
              "      <td>NaN</td>\n",
              "    </tr>\n",
              "    <tr>\n",
              "      <th>Transmission</th>\n",
              "      <td>Direct Drive</td>\n",
              "      <td>NaN</td>\n",
              "      <td>Standard</td>\n",
              "      <td>NaN</td>\n",
              "      <td>Standard</td>\n",
              "    </tr>\n",
              "    <tr>\n",
              "      <th>Turbocharged</th>\n",
              "      <td>NaN</td>\n",
              "      <td>NaN</td>\n",
              "      <td>NaN</td>\n",
              "      <td>NaN</td>\n",
              "      <td>NaN</td>\n",
              "    </tr>\n",
              "    <tr>\n",
              "      <th>Blade_Extension</th>\n",
              "      <td>NaN</td>\n",
              "      <td>NaN</td>\n",
              "      <td>NaN</td>\n",
              "      <td>NaN</td>\n",
              "      <td>NaN</td>\n",
              "    </tr>\n",
              "    <tr>\n",
              "      <th>Blade_Width</th>\n",
              "      <td>NaN</td>\n",
              "      <td>NaN</td>\n",
              "      <td>NaN</td>\n",
              "      <td>NaN</td>\n",
              "      <td>NaN</td>\n",
              "    </tr>\n",
              "    <tr>\n",
              "      <th>Enclosure_Type</th>\n",
              "      <td>NaN</td>\n",
              "      <td>NaN</td>\n",
              "      <td>NaN</td>\n",
              "      <td>NaN</td>\n",
              "      <td>NaN</td>\n",
              "    </tr>\n",
              "    <tr>\n",
              "      <th>Engine_Horsepower</th>\n",
              "      <td>NaN</td>\n",
              "      <td>NaN</td>\n",
              "      <td>NaN</td>\n",
              "      <td>NaN</td>\n",
              "      <td>NaN</td>\n",
              "    </tr>\n",
              "    <tr>\n",
              "      <th>Hydraulics</th>\n",
              "      <td>2 Valve</td>\n",
              "      <td>2 Valve</td>\n",
              "      <td>2 Valve</td>\n",
              "      <td>2 Valve</td>\n",
              "      <td>2 Valve</td>\n",
              "    </tr>\n",
              "    <tr>\n",
              "      <th>Pushblock</th>\n",
              "      <td>NaN</td>\n",
              "      <td>NaN</td>\n",
              "      <td>NaN</td>\n",
              "      <td>NaN</td>\n",
              "      <td>NaN</td>\n",
              "    </tr>\n",
              "    <tr>\n",
              "      <th>Ripper</th>\n",
              "      <td>None or Unspecified</td>\n",
              "      <td>NaN</td>\n",
              "      <td>None or Unspecified</td>\n",
              "      <td>NaN</td>\n",
              "      <td>None or Unspecified</td>\n",
              "    </tr>\n",
              "    <tr>\n",
              "      <th>Scarifier</th>\n",
              "      <td>NaN</td>\n",
              "      <td>NaN</td>\n",
              "      <td>NaN</td>\n",
              "      <td>NaN</td>\n",
              "      <td>NaN</td>\n",
              "    </tr>\n",
              "    <tr>\n",
              "      <th>Tip_Control</th>\n",
              "      <td>NaN</td>\n",
              "      <td>NaN</td>\n",
              "      <td>NaN</td>\n",
              "      <td>NaN</td>\n",
              "      <td>NaN</td>\n",
              "    </tr>\n",
              "    <tr>\n",
              "      <th>Tire_Size</th>\n",
              "      <td>NaN</td>\n",
              "      <td>None or Unspecified</td>\n",
              "      <td>NaN</td>\n",
              "      <td>None or Unspecified</td>\n",
              "      <td>NaN</td>\n",
              "    </tr>\n",
              "    <tr>\n",
              "      <th>Coupler</th>\n",
              "      <td>NaN</td>\n",
              "      <td>None or Unspecified</td>\n",
              "      <td>NaN</td>\n",
              "      <td>None or Unspecified</td>\n",
              "      <td>NaN</td>\n",
              "    </tr>\n",
              "    <tr>\n",
              "      <th>Coupler_System</th>\n",
              "      <td>NaN</td>\n",
              "      <td>NaN</td>\n",
              "      <td>NaN</td>\n",
              "      <td>NaN</td>\n",
              "      <td>NaN</td>\n",
              "    </tr>\n",
              "    <tr>\n",
              "      <th>Grouser_Tracks</th>\n",
              "      <td>NaN</td>\n",
              "      <td>NaN</td>\n",
              "      <td>NaN</td>\n",
              "      <td>NaN</td>\n",
              "      <td>NaN</td>\n",
              "    </tr>\n",
              "    <tr>\n",
              "      <th>Hydraulics_Flow</th>\n",
              "      <td>NaN</td>\n",
              "      <td>NaN</td>\n",
              "      <td>NaN</td>\n",
              "      <td>NaN</td>\n",
              "      <td>NaN</td>\n",
              "    </tr>\n",
              "    <tr>\n",
              "      <th>Track_Type</th>\n",
              "      <td>NaN</td>\n",
              "      <td>NaN</td>\n",
              "      <td>NaN</td>\n",
              "      <td>NaN</td>\n",
              "      <td>NaN</td>\n",
              "    </tr>\n",
              "    <tr>\n",
              "      <th>Undercarriage_Pad_Width</th>\n",
              "      <td>NaN</td>\n",
              "      <td>NaN</td>\n",
              "      <td>NaN</td>\n",
              "      <td>NaN</td>\n",
              "      <td>NaN</td>\n",
              "    </tr>\n",
              "    <tr>\n",
              "      <th>Stick_Length</th>\n",
              "      <td>NaN</td>\n",
              "      <td>NaN</td>\n",
              "      <td>NaN</td>\n",
              "      <td>NaN</td>\n",
              "      <td>NaN</td>\n",
              "    </tr>\n",
              "    <tr>\n",
              "      <th>Thumb</th>\n",
              "      <td>NaN</td>\n",
              "      <td>NaN</td>\n",
              "      <td>NaN</td>\n",
              "      <td>NaN</td>\n",
              "      <td>NaN</td>\n",
              "    </tr>\n",
              "    <tr>\n",
              "      <th>Pattern_Changer</th>\n",
              "      <td>NaN</td>\n",
              "      <td>NaN</td>\n",
              "      <td>NaN</td>\n",
              "      <td>NaN</td>\n",
              "      <td>NaN</td>\n",
              "    </tr>\n",
              "    <tr>\n",
              "      <th>Grouser_Type</th>\n",
              "      <td>NaN</td>\n",
              "      <td>NaN</td>\n",
              "      <td>NaN</td>\n",
              "      <td>NaN</td>\n",
              "      <td>NaN</td>\n",
              "    </tr>\n",
              "    <tr>\n",
              "      <th>Backhoe_Mounting</th>\n",
              "      <td>None or Unspecified</td>\n",
              "      <td>NaN</td>\n",
              "      <td>None or Unspecified</td>\n",
              "      <td>NaN</td>\n",
              "      <td>None or Unspecified</td>\n",
              "    </tr>\n",
              "    <tr>\n",
              "      <th>Blade_Type</th>\n",
              "      <td>Straight</td>\n",
              "      <td>NaN</td>\n",
              "      <td>Straight</td>\n",
              "      <td>NaN</td>\n",
              "      <td>PAT</td>\n",
              "    </tr>\n",
              "    <tr>\n",
              "      <th>Travel_Controls</th>\n",
              "      <td>None or Unspecified</td>\n",
              "      <td>NaN</td>\n",
              "      <td>None or Unspecified</td>\n",
              "      <td>NaN</td>\n",
              "      <td>Lever</td>\n",
              "    </tr>\n",
              "    <tr>\n",
              "      <th>Differential_Type</th>\n",
              "      <td>NaN</td>\n",
              "      <td>Standard</td>\n",
              "      <td>NaN</td>\n",
              "      <td>Standard</td>\n",
              "      <td>NaN</td>\n",
              "    </tr>\n",
              "    <tr>\n",
              "      <th>Steering_Controls</th>\n",
              "      <td>NaN</td>\n",
              "      <td>Conventional</td>\n",
              "      <td>NaN</td>\n",
              "      <td>Conventional</td>\n",
              "      <td>NaN</td>\n",
              "    </tr>\n",
              "    <tr>\n",
              "      <th>saleYear</th>\n",
              "      <td>1989</td>\n",
              "      <td>1989</td>\n",
              "      <td>1989</td>\n",
              "      <td>1989</td>\n",
              "      <td>1989</td>\n",
              "    </tr>\n",
              "    <tr>\n",
              "      <th>saleMonth</th>\n",
              "      <td>1</td>\n",
              "      <td>1</td>\n",
              "      <td>1</td>\n",
              "      <td>1</td>\n",
              "      <td>1</td>\n",
              "    </tr>\n",
              "    <tr>\n",
              "      <th>day</th>\n",
              "      <td>17</td>\n",
              "      <td>31</td>\n",
              "      <td>31</td>\n",
              "      <td>31</td>\n",
              "      <td>31</td>\n",
              "    </tr>\n",
              "    <tr>\n",
              "      <th>saleDayOfWeek</th>\n",
              "      <td>1</td>\n",
              "      <td>1</td>\n",
              "      <td>1</td>\n",
              "      <td>1</td>\n",
              "      <td>1</td>\n",
              "    </tr>\n",
              "    <tr>\n",
              "      <th>saleDayOfYear</th>\n",
              "      <td>17</td>\n",
              "      <td>31</td>\n",
              "      <td>31</td>\n",
              "      <td>31</td>\n",
              "      <td>31</td>\n",
              "    </tr>\n",
              "  </tbody>\n",
              "</table>\n",
              "</div>\n",
              "      <button class=\"colab-df-convert\" onclick=\"convertToInteractive('df-0c469c23-35fc-486c-912c-9135906fadf6')\"\n",
              "              title=\"Convert this dataframe to an interactive table.\"\n",
              "              style=\"display:none;\">\n",
              "        \n",
              "  <svg xmlns=\"http://www.w3.org/2000/svg\" height=\"24px\"viewBox=\"0 0 24 24\"\n",
              "       width=\"24px\">\n",
              "    <path d=\"M0 0h24v24H0V0z\" fill=\"none\"/>\n",
              "    <path d=\"M18.56 5.44l.94 2.06.94-2.06 2.06-.94-2.06-.94-.94-2.06-.94 2.06-2.06.94zm-11 1L8.5 8.5l.94-2.06 2.06-.94-2.06-.94L8.5 2.5l-.94 2.06-2.06.94zm10 10l.94 2.06.94-2.06 2.06-.94-2.06-.94-.94-2.06-.94 2.06-2.06.94z\"/><path d=\"M17.41 7.96l-1.37-1.37c-.4-.4-.92-.59-1.43-.59-.52 0-1.04.2-1.43.59L10.3 9.45l-7.72 7.72c-.78.78-.78 2.05 0 2.83L4 21.41c.39.39.9.59 1.41.59.51 0 1.02-.2 1.41-.59l7.78-7.78 2.81-2.81c.8-.78.8-2.07 0-2.86zM5.41 20L4 18.59l7.72-7.72 1.47 1.35L5.41 20z\"/>\n",
              "  </svg>\n",
              "      </button>\n",
              "      \n",
              "  <style>\n",
              "    .colab-df-container {\n",
              "      display:flex;\n",
              "      flex-wrap:wrap;\n",
              "      gap: 12px;\n",
              "    }\n",
              "\n",
              "    .colab-df-convert {\n",
              "      background-color: #E8F0FE;\n",
              "      border: none;\n",
              "      border-radius: 50%;\n",
              "      cursor: pointer;\n",
              "      display: none;\n",
              "      fill: #1967D2;\n",
              "      height: 32px;\n",
              "      padding: 0 0 0 0;\n",
              "      width: 32px;\n",
              "    }\n",
              "\n",
              "    .colab-df-convert:hover {\n",
              "      background-color: #E2EBFA;\n",
              "      box-shadow: 0px 1px 2px rgba(60, 64, 67, 0.3), 0px 1px 3px 1px rgba(60, 64, 67, 0.15);\n",
              "      fill: #174EA6;\n",
              "    }\n",
              "\n",
              "    [theme=dark] .colab-df-convert {\n",
              "      background-color: #3B4455;\n",
              "      fill: #D2E3FC;\n",
              "    }\n",
              "\n",
              "    [theme=dark] .colab-df-convert:hover {\n",
              "      background-color: #434B5C;\n",
              "      box-shadow: 0px 1px 3px 1px rgba(0, 0, 0, 0.15);\n",
              "      filter: drop-shadow(0px 1px 2px rgba(0, 0, 0, 0.3));\n",
              "      fill: #FFFFFF;\n",
              "    }\n",
              "  </style>\n",
              "\n",
              "      <script>\n",
              "        const buttonEl =\n",
              "          document.querySelector('#df-0c469c23-35fc-486c-912c-9135906fadf6 button.colab-df-convert');\n",
              "        buttonEl.style.display =\n",
              "          google.colab.kernel.accessAllowed ? 'block' : 'none';\n",
              "\n",
              "        async function convertToInteractive(key) {\n",
              "          const element = document.querySelector('#df-0c469c23-35fc-486c-912c-9135906fadf6');\n",
              "          const dataTable =\n",
              "            await google.colab.kernel.invokeFunction('convertToInteractive',\n",
              "                                                     [key], {});\n",
              "          if (!dataTable) return;\n",
              "\n",
              "          const docLinkHtml = 'Like what you see? Visit the ' +\n",
              "            '<a target=\"_blank\" href=https://colab.research.google.com/notebooks/data_table.ipynb>data table notebook</a>'\n",
              "            + ' to learn more about interactive tables.';\n",
              "          element.innerHTML = '';\n",
              "          dataTable['output_type'] = 'display_data';\n",
              "          await google.colab.output.renderOutput(dataTable, element);\n",
              "          const docLink = document.createElement('div');\n",
              "          docLink.innerHTML = docLinkHtml;\n",
              "          element.appendChild(docLink);\n",
              "        }\n",
              "      </script>\n",
              "    </div>\n",
              "  </div>\n",
              "  "
            ]
          },
          "metadata": {},
          "execution_count": 17
        }
      ]
    },
    {
      "cell_type": "code",
      "source": [
        "df_tmp.drop('saledate', axis=1, inplace=True)"
      ],
      "metadata": {
        "id": "FY1eOCFnyHts"
      },
      "execution_count": 18,
      "outputs": []
    },
    {
      "cell_type": "code",
      "source": [
        "df_tmp.state.value_counts()"
      ],
      "metadata": {
        "id": "Q6VHAL1iyS5u",
        "colab": {
          "base_uri": "https://localhost:8080/"
        },
        "outputId": "f02f0637-a883-4cd6-8f3e-a9ba79923ea2"
      },
      "execution_count": 19,
      "outputs": [
        {
          "output_type": "execute_result",
          "data": {
            "text/plain": [
              "Florida           67320\n",
              "Texas             53110\n",
              "California        29761\n",
              "Washington        16222\n",
              "Georgia           14633\n",
              "Maryland          13322\n",
              "Mississippi       13240\n",
              "Ohio              12369\n",
              "Illinois          11540\n",
              "Colorado          11529\n",
              "New Jersey        11156\n",
              "North Carolina    10636\n",
              "Tennessee         10298\n",
              "Alabama           10292\n",
              "Pennsylvania      10234\n",
              "South Carolina     9951\n",
              "Arizona            9364\n",
              "New York           8639\n",
              "Connecticut        8276\n",
              "Minnesota          7885\n",
              "Missouri           7178\n",
              "Nevada             6932\n",
              "Louisiana          6627\n",
              "Kentucky           5351\n",
              "Maine              5096\n",
              "Indiana            4124\n",
              "Arkansas           3933\n",
              "New Mexico         3631\n",
              "Utah               3046\n",
              "Unspecified        2801\n",
              "Wisconsin          2745\n",
              "New Hampshire      2738\n",
              "Virginia           2353\n",
              "Idaho              2025\n",
              "Oregon             1911\n",
              "Michigan           1831\n",
              "Wyoming            1672\n",
              "Montana            1336\n",
              "Iowa               1336\n",
              "Oklahoma           1326\n",
              "Nebraska            866\n",
              "West Virginia       840\n",
              "Kansas              667\n",
              "Delaware            510\n",
              "North Dakota        480\n",
              "Alaska              430\n",
              "Massachusetts       347\n",
              "Vermont             300\n",
              "South Dakota        244\n",
              "Hawaii              118\n",
              "Rhode Island         83\n",
              "Puerto Rico          42\n",
              "Washington DC         2\n",
              "Name: state, dtype: int64"
            ]
          },
          "metadata": {},
          "execution_count": 19
        }
      ]
    },
    {
      "cell_type": "markdown",
      "source": [
        "# Modelling"
      ],
      "metadata": {
        "id": "CN-j0veQMNTk"
      }
    },
    {
      "cell_type": "code",
      "source": [
        "# Let's build a machine learning model\n",
        "from sklearn.ensemble import RandomForestRegressor\n",
        "\n",
        "np.random.seed(42)\n",
        "df.info()"
      ],
      "metadata": {
        "id": "v_Cp2iL7yafN",
        "colab": {
          "base_uri": "https://localhost:8080/"
        },
        "outputId": "90dfbecd-79d1-4fb0-d784-ab107488e448"
      },
      "execution_count": 20,
      "outputs": [
        {
          "output_type": "stream",
          "name": "stdout",
          "text": [
            "<class 'pandas.core.frame.DataFrame'>\n",
            "Int64Index: 412698 entries, 205615 to 409203\n",
            "Data columns (total 53 columns):\n",
            " #   Column                    Non-Null Count   Dtype         \n",
            "---  ------                    --------------   -----         \n",
            " 0   SalesID                   412698 non-null  int64         \n",
            " 1   SalePrice                 412698 non-null  float64       \n",
            " 2   MachineID                 412698 non-null  int64         \n",
            " 3   ModelID                   412698 non-null  int64         \n",
            " 4   datasource                412698 non-null  int64         \n",
            " 5   auctioneerID              392562 non-null  float64       \n",
            " 6   YearMade                  412698 non-null  int64         \n",
            " 7   MachineHoursCurrentMeter  147504 non-null  float64       \n",
            " 8   UsageBand                 73670 non-null   object        \n",
            " 9   saledate                  412698 non-null  datetime64[ns]\n",
            " 10  fiModelDesc               412698 non-null  object        \n",
            " 11  fiBaseModel               412698 non-null  object        \n",
            " 12  fiSecondaryDesc           271971 non-null  object        \n",
            " 13  fiModelSeries             58667 non-null   object        \n",
            " 14  fiModelDescriptor         74816 non-null   object        \n",
            " 15  ProductSize               196093 non-null  object        \n",
            " 16  fiProductClassDesc        412698 non-null  object        \n",
            " 17  state                     412698 non-null  object        \n",
            " 18  ProductGroup              412698 non-null  object        \n",
            " 19  ProductGroupDesc          412698 non-null  object        \n",
            " 20  Drive_System              107087 non-null  object        \n",
            " 21  Enclosure                 412364 non-null  object        \n",
            " 22  Forks                     197715 non-null  object        \n",
            " 23  Pad_Type                  81096 non-null   object        \n",
            " 24  Ride_Control              152728 non-null  object        \n",
            " 25  Stick                     81096 non-null   object        \n",
            " 26  Transmission              188007 non-null  object        \n",
            " 27  Turbocharged              81096 non-null   object        \n",
            " 28  Blade_Extension           25983 non-null   object        \n",
            " 29  Blade_Width               25983 non-null   object        \n",
            " 30  Enclosure_Type            25983 non-null   object        \n",
            " 31  Engine_Horsepower         25983 non-null   object        \n",
            " 32  Hydraulics                330133 non-null  object        \n",
            " 33  Pushblock                 25983 non-null   object        \n",
            " 34  Ripper                    106945 non-null  object        \n",
            " 35  Scarifier                 25994 non-null   object        \n",
            " 36  Tip_Control               25983 non-null   object        \n",
            " 37  Tire_Size                 97638 non-null   object        \n",
            " 38  Coupler                   220679 non-null  object        \n",
            " 39  Coupler_System            44974 non-null   object        \n",
            " 40  Grouser_Tracks            44875 non-null   object        \n",
            " 41  Hydraulics_Flow           44875 non-null   object        \n",
            " 42  Track_Type                102193 non-null  object        \n",
            " 43  Undercarriage_Pad_Width   102916 non-null  object        \n",
            " 44  Stick_Length              102261 non-null  object        \n",
            " 45  Thumb                     102332 non-null  object        \n",
            " 46  Pattern_Changer           102261 non-null  object        \n",
            " 47  Grouser_Type              102193 non-null  object        \n",
            " 48  Backhoe_Mounting          80712 non-null   object        \n",
            " 49  Blade_Type                81875 non-null   object        \n",
            " 50  Travel_Controls           81877 non-null   object        \n",
            " 51  Differential_Type         71564 non-null   object        \n",
            " 52  Steering_Controls         71522 non-null   object        \n",
            "dtypes: datetime64[ns](1), float64(3), int64(5), object(44)\n",
            "memory usage: 170.0+ MB\n"
          ]
        }
      ]
    },
    {
      "cell_type": "code",
      "source": [
        "df.isna().sum()"
      ],
      "metadata": {
        "id": "9pseP2pz0E8o",
        "colab": {
          "base_uri": "https://localhost:8080/"
        },
        "outputId": "44feb5a9-49af-4cc1-ec00-9462558e84e2"
      },
      "execution_count": 21,
      "outputs": [
        {
          "output_type": "execute_result",
          "data": {
            "text/plain": [
              "SalesID                          0\n",
              "SalePrice                        0\n",
              "MachineID                        0\n",
              "ModelID                          0\n",
              "datasource                       0\n",
              "auctioneerID                 20136\n",
              "YearMade                         0\n",
              "MachineHoursCurrentMeter    265194\n",
              "UsageBand                   339028\n",
              "saledate                         0\n",
              "fiModelDesc                      0\n",
              "fiBaseModel                      0\n",
              "fiSecondaryDesc             140727\n",
              "fiModelSeries               354031\n",
              "fiModelDescriptor           337882\n",
              "ProductSize                 216605\n",
              "fiProductClassDesc               0\n",
              "state                            0\n",
              "ProductGroup                     0\n",
              "ProductGroupDesc                 0\n",
              "Drive_System                305611\n",
              "Enclosure                      334\n",
              "Forks                       214983\n",
              "Pad_Type                    331602\n",
              "Ride_Control                259970\n",
              "Stick                       331602\n",
              "Transmission                224691\n",
              "Turbocharged                331602\n",
              "Blade_Extension             386715\n",
              "Blade_Width                 386715\n",
              "Enclosure_Type              386715\n",
              "Engine_Horsepower           386715\n",
              "Hydraulics                   82565\n",
              "Pushblock                   386715\n",
              "Ripper                      305753\n",
              "Scarifier                   386704\n",
              "Tip_Control                 386715\n",
              "Tire_Size                   315060\n",
              "Coupler                     192019\n",
              "Coupler_System              367724\n",
              "Grouser_Tracks              367823\n",
              "Hydraulics_Flow             367823\n",
              "Track_Type                  310505\n",
              "Undercarriage_Pad_Width     309782\n",
              "Stick_Length                310437\n",
              "Thumb                       310366\n",
              "Pattern_Changer             310437\n",
              "Grouser_Type                310505\n",
              "Backhoe_Mounting            331986\n",
              "Blade_Type                  330823\n",
              "Travel_Controls             330821\n",
              "Differential_Type           341134\n",
              "Steering_Controls           341176\n",
              "dtype: int64"
            ]
          },
          "metadata": {},
          "execution_count": 21
        }
      ]
    },
    {
      "cell_type": "markdown",
      "source": [
        "##Convert string to categories"
      ],
      "metadata": {
        "id": "b6l5eqQLMNQt"
      }
    },
    {
      "cell_type": "code",
      "source": [
        "pd.api.types.is_string_dtype(df_tmp['UsageBand'])"
      ],
      "metadata": {
        "id": "ktsTRQF8zqXV",
        "colab": {
          "base_uri": "https://localhost:8080/"
        },
        "outputId": "cfe2dfd4-2cdc-4488-9fea-c73166a3e920"
      },
      "execution_count": 22,
      "outputs": [
        {
          "output_type": "execute_result",
          "data": {
            "text/plain": [
              "True"
            ]
          },
          "metadata": {},
          "execution_count": 22
        }
      ]
    },
    {
      "cell_type": "code",
      "source": [
        "df_tmp.items()"
      ],
      "metadata": {
        "id": "ze0QWBgV1OWI",
        "colab": {
          "base_uri": "https://localhost:8080/"
        },
        "outputId": "4020b497-cd96-4c9a-8d67-f27c087db0a8"
      },
      "execution_count": 23,
      "outputs": [
        {
          "output_type": "execute_result",
          "data": {
            "text/plain": [
              "<generator object DataFrame.items at 0x7f640cdbfc10>"
            ]
          },
          "metadata": {},
          "execution_count": 23
        }
      ]
    },
    {
      "cell_type": "code",
      "source": [
        "for label, content in df_tmp.items():\n",
        "  if pd.api.types.is_string_dtype(content):\n",
        "    print(label)"
      ],
      "metadata": {
        "id": "hhmHW2rg1HYV",
        "colab": {
          "base_uri": "https://localhost:8080/"
        },
        "outputId": "2df79a82-1e27-4e93-b469-79d62ccf8c1d"
      },
      "execution_count": 24,
      "outputs": [
        {
          "output_type": "stream",
          "name": "stdout",
          "text": [
            "UsageBand\n",
            "fiModelDesc\n",
            "fiBaseModel\n",
            "fiSecondaryDesc\n",
            "fiModelSeries\n",
            "fiModelDescriptor\n",
            "ProductSize\n",
            "fiProductClassDesc\n",
            "state\n",
            "ProductGroup\n",
            "ProductGroupDesc\n",
            "Drive_System\n",
            "Enclosure\n",
            "Forks\n",
            "Pad_Type\n",
            "Ride_Control\n",
            "Stick\n",
            "Transmission\n",
            "Turbocharged\n",
            "Blade_Extension\n",
            "Blade_Width\n",
            "Enclosure_Type\n",
            "Engine_Horsepower\n",
            "Hydraulics\n",
            "Pushblock\n",
            "Ripper\n",
            "Scarifier\n",
            "Tip_Control\n",
            "Tire_Size\n",
            "Coupler\n",
            "Coupler_System\n",
            "Grouser_Tracks\n",
            "Hydraulics_Flow\n",
            "Track_Type\n",
            "Undercarriage_Pad_Width\n",
            "Stick_Length\n",
            "Thumb\n",
            "Pattern_Changer\n",
            "Grouser_Type\n",
            "Backhoe_Mounting\n",
            "Blade_Type\n",
            "Travel_Controls\n",
            "Differential_Type\n",
            "Steering_Controls\n"
          ]
        }
      ]
    },
    {
      "cell_type": "code",
      "source": [
        "for label, content in df_tmp.items():\n",
        "  if pd.api.types.is_string_dtype(content):\n",
        "    df_tmp[label] = content.astype('category').cat.as_ordered()"
      ],
      "metadata": {
        "id": "kngGa6Vq1iXK"
      },
      "execution_count": 25,
      "outputs": []
    },
    {
      "cell_type": "code",
      "source": [
        "df_tmp.info()"
      ],
      "metadata": {
        "id": "Yf-mc5hd3EiQ",
        "colab": {
          "base_uri": "https://localhost:8080/"
        },
        "outputId": "efdae3bb-46f1-49c7-c1b7-836bee81e4b7"
      },
      "execution_count": 26,
      "outputs": [
        {
          "output_type": "stream",
          "name": "stdout",
          "text": [
            "<class 'pandas.core.frame.DataFrame'>\n",
            "Int64Index: 412698 entries, 205615 to 409203\n",
            "Data columns (total 57 columns):\n",
            " #   Column                    Non-Null Count   Dtype   \n",
            "---  ------                    --------------   -----   \n",
            " 0   SalesID                   412698 non-null  int64   \n",
            " 1   SalePrice                 412698 non-null  float64 \n",
            " 2   MachineID                 412698 non-null  int64   \n",
            " 3   ModelID                   412698 non-null  int64   \n",
            " 4   datasource                412698 non-null  int64   \n",
            " 5   auctioneerID              392562 non-null  float64 \n",
            " 6   YearMade                  412698 non-null  int64   \n",
            " 7   MachineHoursCurrentMeter  147504 non-null  float64 \n",
            " 8   UsageBand                 73670 non-null   category\n",
            " 9   fiModelDesc               412698 non-null  category\n",
            " 10  fiBaseModel               412698 non-null  category\n",
            " 11  fiSecondaryDesc           271971 non-null  category\n",
            " 12  fiModelSeries             58667 non-null   category\n",
            " 13  fiModelDescriptor         74816 non-null   category\n",
            " 14  ProductSize               196093 non-null  category\n",
            " 15  fiProductClassDesc        412698 non-null  category\n",
            " 16  state                     412698 non-null  category\n",
            " 17  ProductGroup              412698 non-null  category\n",
            " 18  ProductGroupDesc          412698 non-null  category\n",
            " 19  Drive_System              107087 non-null  category\n",
            " 20  Enclosure                 412364 non-null  category\n",
            " 21  Forks                     197715 non-null  category\n",
            " 22  Pad_Type                  81096 non-null   category\n",
            " 23  Ride_Control              152728 non-null  category\n",
            " 24  Stick                     81096 non-null   category\n",
            " 25  Transmission              188007 non-null  category\n",
            " 26  Turbocharged              81096 non-null   category\n",
            " 27  Blade_Extension           25983 non-null   category\n",
            " 28  Blade_Width               25983 non-null   category\n",
            " 29  Enclosure_Type            25983 non-null   category\n",
            " 30  Engine_Horsepower         25983 non-null   category\n",
            " 31  Hydraulics                330133 non-null  category\n",
            " 32  Pushblock                 25983 non-null   category\n",
            " 33  Ripper                    106945 non-null  category\n",
            " 34  Scarifier                 25994 non-null   category\n",
            " 35  Tip_Control               25983 non-null   category\n",
            " 36  Tire_Size                 97638 non-null   category\n",
            " 37  Coupler                   220679 non-null  category\n",
            " 38  Coupler_System            44974 non-null   category\n",
            " 39  Grouser_Tracks            44875 non-null   category\n",
            " 40  Hydraulics_Flow           44875 non-null   category\n",
            " 41  Track_Type                102193 non-null  category\n",
            " 42  Undercarriage_Pad_Width   102916 non-null  category\n",
            " 43  Stick_Length              102261 non-null  category\n",
            " 44  Thumb                     102332 non-null  category\n",
            " 45  Pattern_Changer           102261 non-null  category\n",
            " 46  Grouser_Type              102193 non-null  category\n",
            " 47  Backhoe_Mounting          80712 non-null   category\n",
            " 48  Blade_Type                81875 non-null   category\n",
            " 49  Travel_Controls           81877 non-null   category\n",
            " 50  Differential_Type         71564 non-null   category\n",
            " 51  Steering_Controls         71522 non-null   category\n",
            " 52  saleYear                  412698 non-null  int64   \n",
            " 53  saleMonth                 412698 non-null  int64   \n",
            " 54  day                       412698 non-null  int64   \n",
            " 55  saleDayOfWeek             412698 non-null  int64   \n",
            " 56  saleDayOfYear             412698 non-null  int64   \n",
            "dtypes: category(44), float64(3), int64(10)\n",
            "memory usage: 63.6 MB\n"
          ]
        }
      ]
    },
    {
      "cell_type": "code",
      "source": [
        "df_tmp.state.cat.categories"
      ],
      "metadata": {
        "id": "DqGMpfaY3I8v",
        "colab": {
          "base_uri": "https://localhost:8080/"
        },
        "outputId": "e4834fbe-f9c2-41f6-d047-848d0bed660e"
      },
      "execution_count": 27,
      "outputs": [
        {
          "output_type": "execute_result",
          "data": {
            "text/plain": [
              "Index(['Alabama', 'Alaska', 'Arizona', 'Arkansas', 'California', 'Colorado',\n",
              "       'Connecticut', 'Delaware', 'Florida', 'Georgia', 'Hawaii', 'Idaho',\n",
              "       'Illinois', 'Indiana', 'Iowa', 'Kansas', 'Kentucky', 'Louisiana',\n",
              "       'Maine', 'Maryland', 'Massachusetts', 'Michigan', 'Minnesota',\n",
              "       'Mississippi', 'Missouri', 'Montana', 'Nebraska', 'Nevada',\n",
              "       'New Hampshire', 'New Jersey', 'New Mexico', 'New York',\n",
              "       'North Carolina', 'North Dakota', 'Ohio', 'Oklahoma', 'Oregon',\n",
              "       'Pennsylvania', 'Puerto Rico', 'Rhode Island', 'South Carolina',\n",
              "       'South Dakota', 'Tennessee', 'Texas', 'Unspecified', 'Utah', 'Vermont',\n",
              "       'Virginia', 'Washington', 'Washington DC', 'West Virginia', 'Wisconsin',\n",
              "       'Wyoming'],\n",
              "      dtype='object')"
            ]
          },
          "metadata": {},
          "execution_count": 27
        }
      ]
    },
    {
      "cell_type": "code",
      "source": [
        "df_tmp.state.cat.codes"
      ],
      "metadata": {
        "id": "ODVlc4GP3aVN",
        "colab": {
          "base_uri": "https://localhost:8080/"
        },
        "outputId": "25ac2a6f-1a0c-4c36-a24b-68a7b2991762"
      },
      "execution_count": 28,
      "outputs": [
        {
          "output_type": "execute_result",
          "data": {
            "text/plain": [
              "205615    43\n",
              "274835     8\n",
              "141296     8\n",
              "212552     8\n",
              "62755      8\n",
              "          ..\n",
              "410879     4\n",
              "412476     4\n",
              "411927     4\n",
              "407124     4\n",
              "409203     4\n",
              "Length: 412698, dtype: int8"
            ]
          },
          "metadata": {},
          "execution_count": 28
        }
      ]
    },
    {
      "cell_type": "code",
      "source": [
        "df_tmp.head().T"
      ],
      "metadata": {
        "id": "5uEHy57p30dz",
        "colab": {
          "base_uri": "https://localhost:8080/",
          "height": 1000
        },
        "outputId": "c4a247f0-fbe9-4025-e4a9-d3be4d26d77b"
      },
      "execution_count": 29,
      "outputs": [
        {
          "output_type": "execute_result",
          "data": {
            "text/plain": [
              "                                                                     205615  \\\n",
              "SalesID                                                             1646770   \n",
              "SalePrice                                                            9500.0   \n",
              "MachineID                                                           1126363   \n",
              "ModelID                                                                8434   \n",
              "datasource                                                              132   \n",
              "auctioneerID                                                           18.0   \n",
              "YearMade                                                               1974   \n",
              "MachineHoursCurrentMeter                                                NaN   \n",
              "UsageBand                                                               NaN   \n",
              "fiModelDesc                                                            TD20   \n",
              "fiBaseModel                                                            TD20   \n",
              "fiSecondaryDesc                                                         NaN   \n",
              "fiModelSeries                                                           NaN   \n",
              "fiModelDescriptor                                                       NaN   \n",
              "ProductSize                                                          Medium   \n",
              "fiProductClassDesc        Track Type Tractor, Dozer - 105.0 to 130.0 Hor...   \n",
              "state                                                                 Texas   \n",
              "ProductGroup                                                            TTT   \n",
              "ProductGroupDesc                                        Track Type Tractors   \n",
              "Drive_System                                                            NaN   \n",
              "Enclosure                                                             OROPS   \n",
              "Forks                                                                   NaN   \n",
              "Pad_Type                                                                NaN   \n",
              "Ride_Control                                                            NaN   \n",
              "Stick                                                                   NaN   \n",
              "Transmission                                                   Direct Drive   \n",
              "Turbocharged                                                            NaN   \n",
              "Blade_Extension                                                         NaN   \n",
              "Blade_Width                                                             NaN   \n",
              "Enclosure_Type                                                          NaN   \n",
              "Engine_Horsepower                                                       NaN   \n",
              "Hydraulics                                                          2 Valve   \n",
              "Pushblock                                                               NaN   \n",
              "Ripper                                                  None or Unspecified   \n",
              "Scarifier                                                               NaN   \n",
              "Tip_Control                                                             NaN   \n",
              "Tire_Size                                                               NaN   \n",
              "Coupler                                                                 NaN   \n",
              "Coupler_System                                                          NaN   \n",
              "Grouser_Tracks                                                          NaN   \n",
              "Hydraulics_Flow                                                         NaN   \n",
              "Track_Type                                                              NaN   \n",
              "Undercarriage_Pad_Width                                                 NaN   \n",
              "Stick_Length                                                            NaN   \n",
              "Thumb                                                                   NaN   \n",
              "Pattern_Changer                                                         NaN   \n",
              "Grouser_Type                                                            NaN   \n",
              "Backhoe_Mounting                                        None or Unspecified   \n",
              "Blade_Type                                                         Straight   \n",
              "Travel_Controls                                         None or Unspecified   \n",
              "Differential_Type                                                       NaN   \n",
              "Steering_Controls                                                       NaN   \n",
              "saleYear                                                               1989   \n",
              "saleMonth                                                                 1   \n",
              "day                                                                      17   \n",
              "saleDayOfWeek                                                             1   \n",
              "saleDayOfYear                                                            17   \n",
              "\n",
              "                                                            274835  \\\n",
              "SalesID                                                    1821514   \n",
              "SalePrice                                                  14000.0   \n",
              "MachineID                                                  1194089   \n",
              "ModelID                                                      10150   \n",
              "datasource                                                     132   \n",
              "auctioneerID                                                  99.0   \n",
              "YearMade                                                      1980   \n",
              "MachineHoursCurrentMeter                                       NaN   \n",
              "UsageBand                                                      NaN   \n",
              "fiModelDesc                                                    A66   \n",
              "fiBaseModel                                                    A66   \n",
              "fiSecondaryDesc                                                NaN   \n",
              "fiModelSeries                                                  NaN   \n",
              "fiModelDescriptor                                              NaN   \n",
              "ProductSize                                                    NaN   \n",
              "fiProductClassDesc        Wheel Loader - 120.0 to 135.0 Horsepower   \n",
              "state                                                      Florida   \n",
              "ProductGroup                                                    WL   \n",
              "ProductGroupDesc                                      Wheel Loader   \n",
              "Drive_System                                                   NaN   \n",
              "Enclosure                                                    OROPS   \n",
              "Forks                                          None or Unspecified   \n",
              "Pad_Type                                                       NaN   \n",
              "Ride_Control                                   None or Unspecified   \n",
              "Stick                                                          NaN   \n",
              "Transmission                                                   NaN   \n",
              "Turbocharged                                                   NaN   \n",
              "Blade_Extension                                                NaN   \n",
              "Blade_Width                                                    NaN   \n",
              "Enclosure_Type                                                 NaN   \n",
              "Engine_Horsepower                                              NaN   \n",
              "Hydraulics                                                 2 Valve   \n",
              "Pushblock                                                      NaN   \n",
              "Ripper                                                         NaN   \n",
              "Scarifier                                                      NaN   \n",
              "Tip_Control                                                    NaN   \n",
              "Tire_Size                                      None or Unspecified   \n",
              "Coupler                                        None or Unspecified   \n",
              "Coupler_System                                                 NaN   \n",
              "Grouser_Tracks                                                 NaN   \n",
              "Hydraulics_Flow                                                NaN   \n",
              "Track_Type                                                     NaN   \n",
              "Undercarriage_Pad_Width                                        NaN   \n",
              "Stick_Length                                                   NaN   \n",
              "Thumb                                                          NaN   \n",
              "Pattern_Changer                                                NaN   \n",
              "Grouser_Type                                                   NaN   \n",
              "Backhoe_Mounting                                               NaN   \n",
              "Blade_Type                                                     NaN   \n",
              "Travel_Controls                                                NaN   \n",
              "Differential_Type                                         Standard   \n",
              "Steering_Controls                                     Conventional   \n",
              "saleYear                                                      1989   \n",
              "saleMonth                                                        1   \n",
              "day                                                             31   \n",
              "saleDayOfWeek                                                    1   \n",
              "saleDayOfYear                                                   31   \n",
              "\n",
              "                                                                     141296  \\\n",
              "SalesID                                                             1505138   \n",
              "SalePrice                                                           50000.0   \n",
              "MachineID                                                           1473654   \n",
              "ModelID                                                                4139   \n",
              "datasource                                                              132   \n",
              "auctioneerID                                                           99.0   \n",
              "YearMade                                                               1978   \n",
              "MachineHoursCurrentMeter                                                NaN   \n",
              "UsageBand                                                               NaN   \n",
              "fiModelDesc                                                             D7G   \n",
              "fiBaseModel                                                              D7   \n",
              "fiSecondaryDesc                                                           G   \n",
              "fiModelSeries                                                           NaN   \n",
              "fiModelDescriptor                                                       NaN   \n",
              "ProductSize                                                           Large   \n",
              "fiProductClassDesc        Track Type Tractor, Dozer - 190.0 to 260.0 Hor...   \n",
              "state                                                               Florida   \n",
              "ProductGroup                                                            TTT   \n",
              "ProductGroupDesc                                        Track Type Tractors   \n",
              "Drive_System                                                            NaN   \n",
              "Enclosure                                                             OROPS   \n",
              "Forks                                                                   NaN   \n",
              "Pad_Type                                                                NaN   \n",
              "Ride_Control                                                            NaN   \n",
              "Stick                                                                   NaN   \n",
              "Transmission                                                       Standard   \n",
              "Turbocharged                                                            NaN   \n",
              "Blade_Extension                                                         NaN   \n",
              "Blade_Width                                                             NaN   \n",
              "Enclosure_Type                                                          NaN   \n",
              "Engine_Horsepower                                                       NaN   \n",
              "Hydraulics                                                          2 Valve   \n",
              "Pushblock                                                               NaN   \n",
              "Ripper                                                  None or Unspecified   \n",
              "Scarifier                                                               NaN   \n",
              "Tip_Control                                                             NaN   \n",
              "Tire_Size                                                               NaN   \n",
              "Coupler                                                                 NaN   \n",
              "Coupler_System                                                          NaN   \n",
              "Grouser_Tracks                                                          NaN   \n",
              "Hydraulics_Flow                                                         NaN   \n",
              "Track_Type                                                              NaN   \n",
              "Undercarriage_Pad_Width                                                 NaN   \n",
              "Stick_Length                                                            NaN   \n",
              "Thumb                                                                   NaN   \n",
              "Pattern_Changer                                                         NaN   \n",
              "Grouser_Type                                                            NaN   \n",
              "Backhoe_Mounting                                        None or Unspecified   \n",
              "Blade_Type                                                         Straight   \n",
              "Travel_Controls                                         None or Unspecified   \n",
              "Differential_Type                                                       NaN   \n",
              "Steering_Controls                                                       NaN   \n",
              "saleYear                                                               1989   \n",
              "saleMonth                                                                 1   \n",
              "day                                                                      31   \n",
              "saleDayOfWeek                                                             1   \n",
              "saleDayOfYear                                                            31   \n",
              "\n",
              "                                               212552  \\\n",
              "SalesID                                       1671174   \n",
              "SalePrice                                     16000.0   \n",
              "MachineID                                     1327630   \n",
              "ModelID                                          8591   \n",
              "datasource                                        132   \n",
              "auctioneerID                                     99.0   \n",
              "YearMade                                         1980   \n",
              "MachineHoursCurrentMeter                          NaN   \n",
              "UsageBand                                         NaN   \n",
              "fiModelDesc                                       A62   \n",
              "fiBaseModel                                       A62   \n",
              "fiSecondaryDesc                                   NaN   \n",
              "fiModelSeries                                     NaN   \n",
              "fiModelDescriptor                                 NaN   \n",
              "ProductSize                                       NaN   \n",
              "fiProductClassDesc        Wheel Loader - Unidentified   \n",
              "state                                         Florida   \n",
              "ProductGroup                                       WL   \n",
              "ProductGroupDesc                         Wheel Loader   \n",
              "Drive_System                                      NaN   \n",
              "Enclosure                                       EROPS   \n",
              "Forks                             None or Unspecified   \n",
              "Pad_Type                                          NaN   \n",
              "Ride_Control                      None or Unspecified   \n",
              "Stick                                             NaN   \n",
              "Transmission                                      NaN   \n",
              "Turbocharged                                      NaN   \n",
              "Blade_Extension                                   NaN   \n",
              "Blade_Width                                       NaN   \n",
              "Enclosure_Type                                    NaN   \n",
              "Engine_Horsepower                                 NaN   \n",
              "Hydraulics                                    2 Valve   \n",
              "Pushblock                                         NaN   \n",
              "Ripper                                            NaN   \n",
              "Scarifier                                         NaN   \n",
              "Tip_Control                                       NaN   \n",
              "Tire_Size                         None or Unspecified   \n",
              "Coupler                           None or Unspecified   \n",
              "Coupler_System                                    NaN   \n",
              "Grouser_Tracks                                    NaN   \n",
              "Hydraulics_Flow                                   NaN   \n",
              "Track_Type                                        NaN   \n",
              "Undercarriage_Pad_Width                           NaN   \n",
              "Stick_Length                                      NaN   \n",
              "Thumb                                             NaN   \n",
              "Pattern_Changer                                   NaN   \n",
              "Grouser_Type                                      NaN   \n",
              "Backhoe_Mounting                                  NaN   \n",
              "Blade_Type                                        NaN   \n",
              "Travel_Controls                                   NaN   \n",
              "Differential_Type                            Standard   \n",
              "Steering_Controls                        Conventional   \n",
              "saleYear                                         1989   \n",
              "saleMonth                                           1   \n",
              "day                                                31   \n",
              "saleDayOfWeek                                       1   \n",
              "saleDayOfYear                                      31   \n",
              "\n",
              "                                                                     62755   \n",
              "SalesID                                                             1329056  \n",
              "SalePrice                                                           22000.0  \n",
              "MachineID                                                           1336053  \n",
              "ModelID                                                                4089  \n",
              "datasource                                                              132  \n",
              "auctioneerID                                                           99.0  \n",
              "YearMade                                                               1984  \n",
              "MachineHoursCurrentMeter                                                NaN  \n",
              "UsageBand                                                               NaN  \n",
              "fiModelDesc                                                             D3B  \n",
              "fiBaseModel                                                              D3  \n",
              "fiSecondaryDesc                                                           B  \n",
              "fiModelSeries                                                           NaN  \n",
              "fiModelDescriptor                                                       NaN  \n",
              "ProductSize                                                             NaN  \n",
              "fiProductClassDesc        Track Type Tractor, Dozer - 20.0 to 75.0 Horse...  \n",
              "state                                                               Florida  \n",
              "ProductGroup                                                            TTT  \n",
              "ProductGroupDesc                                        Track Type Tractors  \n",
              "Drive_System                                                            NaN  \n",
              "Enclosure                                                             OROPS  \n",
              "Forks                                                                   NaN  \n",
              "Pad_Type                                                                NaN  \n",
              "Ride_Control                                                            NaN  \n",
              "Stick                                                                   NaN  \n",
              "Transmission                                                       Standard  \n",
              "Turbocharged                                                            NaN  \n",
              "Blade_Extension                                                         NaN  \n",
              "Blade_Width                                                             NaN  \n",
              "Enclosure_Type                                                          NaN  \n",
              "Engine_Horsepower                                                       NaN  \n",
              "Hydraulics                                                          2 Valve  \n",
              "Pushblock                                                               NaN  \n",
              "Ripper                                                  None or Unspecified  \n",
              "Scarifier                                                               NaN  \n",
              "Tip_Control                                                             NaN  \n",
              "Tire_Size                                                               NaN  \n",
              "Coupler                                                                 NaN  \n",
              "Coupler_System                                                          NaN  \n",
              "Grouser_Tracks                                                          NaN  \n",
              "Hydraulics_Flow                                                         NaN  \n",
              "Track_Type                                                              NaN  \n",
              "Undercarriage_Pad_Width                                                 NaN  \n",
              "Stick_Length                                                            NaN  \n",
              "Thumb                                                                   NaN  \n",
              "Pattern_Changer                                                         NaN  \n",
              "Grouser_Type                                                            NaN  \n",
              "Backhoe_Mounting                                        None or Unspecified  \n",
              "Blade_Type                                                              PAT  \n",
              "Travel_Controls                                                       Lever  \n",
              "Differential_Type                                                       NaN  \n",
              "Steering_Controls                                                       NaN  \n",
              "saleYear                                                               1989  \n",
              "saleMonth                                                                 1  \n",
              "day                                                                      31  \n",
              "saleDayOfWeek                                                             1  \n",
              "saleDayOfYear                                                            31  "
            ],
            "text/html": [
              "\n",
              "  <div id=\"df-5d794570-5602-44e7-8335-dd8976c96695\">\n",
              "    <div class=\"colab-df-container\">\n",
              "      <div>\n",
              "<style scoped>\n",
              "    .dataframe tbody tr th:only-of-type {\n",
              "        vertical-align: middle;\n",
              "    }\n",
              "\n",
              "    .dataframe tbody tr th {\n",
              "        vertical-align: top;\n",
              "    }\n",
              "\n",
              "    .dataframe thead th {\n",
              "        text-align: right;\n",
              "    }\n",
              "</style>\n",
              "<table border=\"1\" class=\"dataframe\">\n",
              "  <thead>\n",
              "    <tr style=\"text-align: right;\">\n",
              "      <th></th>\n",
              "      <th>205615</th>\n",
              "      <th>274835</th>\n",
              "      <th>141296</th>\n",
              "      <th>212552</th>\n",
              "      <th>62755</th>\n",
              "    </tr>\n",
              "  </thead>\n",
              "  <tbody>\n",
              "    <tr>\n",
              "      <th>SalesID</th>\n",
              "      <td>1646770</td>\n",
              "      <td>1821514</td>\n",
              "      <td>1505138</td>\n",
              "      <td>1671174</td>\n",
              "      <td>1329056</td>\n",
              "    </tr>\n",
              "    <tr>\n",
              "      <th>SalePrice</th>\n",
              "      <td>9500.0</td>\n",
              "      <td>14000.0</td>\n",
              "      <td>50000.0</td>\n",
              "      <td>16000.0</td>\n",
              "      <td>22000.0</td>\n",
              "    </tr>\n",
              "    <tr>\n",
              "      <th>MachineID</th>\n",
              "      <td>1126363</td>\n",
              "      <td>1194089</td>\n",
              "      <td>1473654</td>\n",
              "      <td>1327630</td>\n",
              "      <td>1336053</td>\n",
              "    </tr>\n",
              "    <tr>\n",
              "      <th>ModelID</th>\n",
              "      <td>8434</td>\n",
              "      <td>10150</td>\n",
              "      <td>4139</td>\n",
              "      <td>8591</td>\n",
              "      <td>4089</td>\n",
              "    </tr>\n",
              "    <tr>\n",
              "      <th>datasource</th>\n",
              "      <td>132</td>\n",
              "      <td>132</td>\n",
              "      <td>132</td>\n",
              "      <td>132</td>\n",
              "      <td>132</td>\n",
              "    </tr>\n",
              "    <tr>\n",
              "      <th>auctioneerID</th>\n",
              "      <td>18.0</td>\n",
              "      <td>99.0</td>\n",
              "      <td>99.0</td>\n",
              "      <td>99.0</td>\n",
              "      <td>99.0</td>\n",
              "    </tr>\n",
              "    <tr>\n",
              "      <th>YearMade</th>\n",
              "      <td>1974</td>\n",
              "      <td>1980</td>\n",
              "      <td>1978</td>\n",
              "      <td>1980</td>\n",
              "      <td>1984</td>\n",
              "    </tr>\n",
              "    <tr>\n",
              "      <th>MachineHoursCurrentMeter</th>\n",
              "      <td>NaN</td>\n",
              "      <td>NaN</td>\n",
              "      <td>NaN</td>\n",
              "      <td>NaN</td>\n",
              "      <td>NaN</td>\n",
              "    </tr>\n",
              "    <tr>\n",
              "      <th>UsageBand</th>\n",
              "      <td>NaN</td>\n",
              "      <td>NaN</td>\n",
              "      <td>NaN</td>\n",
              "      <td>NaN</td>\n",
              "      <td>NaN</td>\n",
              "    </tr>\n",
              "    <tr>\n",
              "      <th>fiModelDesc</th>\n",
              "      <td>TD20</td>\n",
              "      <td>A66</td>\n",
              "      <td>D7G</td>\n",
              "      <td>A62</td>\n",
              "      <td>D3B</td>\n",
              "    </tr>\n",
              "    <tr>\n",
              "      <th>fiBaseModel</th>\n",
              "      <td>TD20</td>\n",
              "      <td>A66</td>\n",
              "      <td>D7</td>\n",
              "      <td>A62</td>\n",
              "      <td>D3</td>\n",
              "    </tr>\n",
              "    <tr>\n",
              "      <th>fiSecondaryDesc</th>\n",
              "      <td>NaN</td>\n",
              "      <td>NaN</td>\n",
              "      <td>G</td>\n",
              "      <td>NaN</td>\n",
              "      <td>B</td>\n",
              "    </tr>\n",
              "    <tr>\n",
              "      <th>fiModelSeries</th>\n",
              "      <td>NaN</td>\n",
              "      <td>NaN</td>\n",
              "      <td>NaN</td>\n",
              "      <td>NaN</td>\n",
              "      <td>NaN</td>\n",
              "    </tr>\n",
              "    <tr>\n",
              "      <th>fiModelDescriptor</th>\n",
              "      <td>NaN</td>\n",
              "      <td>NaN</td>\n",
              "      <td>NaN</td>\n",
              "      <td>NaN</td>\n",
              "      <td>NaN</td>\n",
              "    </tr>\n",
              "    <tr>\n",
              "      <th>ProductSize</th>\n",
              "      <td>Medium</td>\n",
              "      <td>NaN</td>\n",
              "      <td>Large</td>\n",
              "      <td>NaN</td>\n",
              "      <td>NaN</td>\n",
              "    </tr>\n",
              "    <tr>\n",
              "      <th>fiProductClassDesc</th>\n",
              "      <td>Track Type Tractor, Dozer - 105.0 to 130.0 Hor...</td>\n",
              "      <td>Wheel Loader - 120.0 to 135.0 Horsepower</td>\n",
              "      <td>Track Type Tractor, Dozer - 190.0 to 260.0 Hor...</td>\n",
              "      <td>Wheel Loader - Unidentified</td>\n",
              "      <td>Track Type Tractor, Dozer - 20.0 to 75.0 Horse...</td>\n",
              "    </tr>\n",
              "    <tr>\n",
              "      <th>state</th>\n",
              "      <td>Texas</td>\n",
              "      <td>Florida</td>\n",
              "      <td>Florida</td>\n",
              "      <td>Florida</td>\n",
              "      <td>Florida</td>\n",
              "    </tr>\n",
              "    <tr>\n",
              "      <th>ProductGroup</th>\n",
              "      <td>TTT</td>\n",
              "      <td>WL</td>\n",
              "      <td>TTT</td>\n",
              "      <td>WL</td>\n",
              "      <td>TTT</td>\n",
              "    </tr>\n",
              "    <tr>\n",
              "      <th>ProductGroupDesc</th>\n",
              "      <td>Track Type Tractors</td>\n",
              "      <td>Wheel Loader</td>\n",
              "      <td>Track Type Tractors</td>\n",
              "      <td>Wheel Loader</td>\n",
              "      <td>Track Type Tractors</td>\n",
              "    </tr>\n",
              "    <tr>\n",
              "      <th>Drive_System</th>\n",
              "      <td>NaN</td>\n",
              "      <td>NaN</td>\n",
              "      <td>NaN</td>\n",
              "      <td>NaN</td>\n",
              "      <td>NaN</td>\n",
              "    </tr>\n",
              "    <tr>\n",
              "      <th>Enclosure</th>\n",
              "      <td>OROPS</td>\n",
              "      <td>OROPS</td>\n",
              "      <td>OROPS</td>\n",
              "      <td>EROPS</td>\n",
              "      <td>OROPS</td>\n",
              "    </tr>\n",
              "    <tr>\n",
              "      <th>Forks</th>\n",
              "      <td>NaN</td>\n",
              "      <td>None or Unspecified</td>\n",
              "      <td>NaN</td>\n",
              "      <td>None or Unspecified</td>\n",
              "      <td>NaN</td>\n",
              "    </tr>\n",
              "    <tr>\n",
              "      <th>Pad_Type</th>\n",
              "      <td>NaN</td>\n",
              "      <td>NaN</td>\n",
              "      <td>NaN</td>\n",
              "      <td>NaN</td>\n",
              "      <td>NaN</td>\n",
              "    </tr>\n",
              "    <tr>\n",
              "      <th>Ride_Control</th>\n",
              "      <td>NaN</td>\n",
              "      <td>None or Unspecified</td>\n",
              "      <td>NaN</td>\n",
              "      <td>None or Unspecified</td>\n",
              "      <td>NaN</td>\n",
              "    </tr>\n",
              "    <tr>\n",
              "      <th>Stick</th>\n",
              "      <td>NaN</td>\n",
              "      <td>NaN</td>\n",
              "      <td>NaN</td>\n",
              "      <td>NaN</td>\n",
              "      <td>NaN</td>\n",
              "    </tr>\n",
              "    <tr>\n",
              "      <th>Transmission</th>\n",
              "      <td>Direct Drive</td>\n",
              "      <td>NaN</td>\n",
              "      <td>Standard</td>\n",
              "      <td>NaN</td>\n",
              "      <td>Standard</td>\n",
              "    </tr>\n",
              "    <tr>\n",
              "      <th>Turbocharged</th>\n",
              "      <td>NaN</td>\n",
              "      <td>NaN</td>\n",
              "      <td>NaN</td>\n",
              "      <td>NaN</td>\n",
              "      <td>NaN</td>\n",
              "    </tr>\n",
              "    <tr>\n",
              "      <th>Blade_Extension</th>\n",
              "      <td>NaN</td>\n",
              "      <td>NaN</td>\n",
              "      <td>NaN</td>\n",
              "      <td>NaN</td>\n",
              "      <td>NaN</td>\n",
              "    </tr>\n",
              "    <tr>\n",
              "      <th>Blade_Width</th>\n",
              "      <td>NaN</td>\n",
              "      <td>NaN</td>\n",
              "      <td>NaN</td>\n",
              "      <td>NaN</td>\n",
              "      <td>NaN</td>\n",
              "    </tr>\n",
              "    <tr>\n",
              "      <th>Enclosure_Type</th>\n",
              "      <td>NaN</td>\n",
              "      <td>NaN</td>\n",
              "      <td>NaN</td>\n",
              "      <td>NaN</td>\n",
              "      <td>NaN</td>\n",
              "    </tr>\n",
              "    <tr>\n",
              "      <th>Engine_Horsepower</th>\n",
              "      <td>NaN</td>\n",
              "      <td>NaN</td>\n",
              "      <td>NaN</td>\n",
              "      <td>NaN</td>\n",
              "      <td>NaN</td>\n",
              "    </tr>\n",
              "    <tr>\n",
              "      <th>Hydraulics</th>\n",
              "      <td>2 Valve</td>\n",
              "      <td>2 Valve</td>\n",
              "      <td>2 Valve</td>\n",
              "      <td>2 Valve</td>\n",
              "      <td>2 Valve</td>\n",
              "    </tr>\n",
              "    <tr>\n",
              "      <th>Pushblock</th>\n",
              "      <td>NaN</td>\n",
              "      <td>NaN</td>\n",
              "      <td>NaN</td>\n",
              "      <td>NaN</td>\n",
              "      <td>NaN</td>\n",
              "    </tr>\n",
              "    <tr>\n",
              "      <th>Ripper</th>\n",
              "      <td>None or Unspecified</td>\n",
              "      <td>NaN</td>\n",
              "      <td>None or Unspecified</td>\n",
              "      <td>NaN</td>\n",
              "      <td>None or Unspecified</td>\n",
              "    </tr>\n",
              "    <tr>\n",
              "      <th>Scarifier</th>\n",
              "      <td>NaN</td>\n",
              "      <td>NaN</td>\n",
              "      <td>NaN</td>\n",
              "      <td>NaN</td>\n",
              "      <td>NaN</td>\n",
              "    </tr>\n",
              "    <tr>\n",
              "      <th>Tip_Control</th>\n",
              "      <td>NaN</td>\n",
              "      <td>NaN</td>\n",
              "      <td>NaN</td>\n",
              "      <td>NaN</td>\n",
              "      <td>NaN</td>\n",
              "    </tr>\n",
              "    <tr>\n",
              "      <th>Tire_Size</th>\n",
              "      <td>NaN</td>\n",
              "      <td>None or Unspecified</td>\n",
              "      <td>NaN</td>\n",
              "      <td>None or Unspecified</td>\n",
              "      <td>NaN</td>\n",
              "    </tr>\n",
              "    <tr>\n",
              "      <th>Coupler</th>\n",
              "      <td>NaN</td>\n",
              "      <td>None or Unspecified</td>\n",
              "      <td>NaN</td>\n",
              "      <td>None or Unspecified</td>\n",
              "      <td>NaN</td>\n",
              "    </tr>\n",
              "    <tr>\n",
              "      <th>Coupler_System</th>\n",
              "      <td>NaN</td>\n",
              "      <td>NaN</td>\n",
              "      <td>NaN</td>\n",
              "      <td>NaN</td>\n",
              "      <td>NaN</td>\n",
              "    </tr>\n",
              "    <tr>\n",
              "      <th>Grouser_Tracks</th>\n",
              "      <td>NaN</td>\n",
              "      <td>NaN</td>\n",
              "      <td>NaN</td>\n",
              "      <td>NaN</td>\n",
              "      <td>NaN</td>\n",
              "    </tr>\n",
              "    <tr>\n",
              "      <th>Hydraulics_Flow</th>\n",
              "      <td>NaN</td>\n",
              "      <td>NaN</td>\n",
              "      <td>NaN</td>\n",
              "      <td>NaN</td>\n",
              "      <td>NaN</td>\n",
              "    </tr>\n",
              "    <tr>\n",
              "      <th>Track_Type</th>\n",
              "      <td>NaN</td>\n",
              "      <td>NaN</td>\n",
              "      <td>NaN</td>\n",
              "      <td>NaN</td>\n",
              "      <td>NaN</td>\n",
              "    </tr>\n",
              "    <tr>\n",
              "      <th>Undercarriage_Pad_Width</th>\n",
              "      <td>NaN</td>\n",
              "      <td>NaN</td>\n",
              "      <td>NaN</td>\n",
              "      <td>NaN</td>\n",
              "      <td>NaN</td>\n",
              "    </tr>\n",
              "    <tr>\n",
              "      <th>Stick_Length</th>\n",
              "      <td>NaN</td>\n",
              "      <td>NaN</td>\n",
              "      <td>NaN</td>\n",
              "      <td>NaN</td>\n",
              "      <td>NaN</td>\n",
              "    </tr>\n",
              "    <tr>\n",
              "      <th>Thumb</th>\n",
              "      <td>NaN</td>\n",
              "      <td>NaN</td>\n",
              "      <td>NaN</td>\n",
              "      <td>NaN</td>\n",
              "      <td>NaN</td>\n",
              "    </tr>\n",
              "    <tr>\n",
              "      <th>Pattern_Changer</th>\n",
              "      <td>NaN</td>\n",
              "      <td>NaN</td>\n",
              "      <td>NaN</td>\n",
              "      <td>NaN</td>\n",
              "      <td>NaN</td>\n",
              "    </tr>\n",
              "    <tr>\n",
              "      <th>Grouser_Type</th>\n",
              "      <td>NaN</td>\n",
              "      <td>NaN</td>\n",
              "      <td>NaN</td>\n",
              "      <td>NaN</td>\n",
              "      <td>NaN</td>\n",
              "    </tr>\n",
              "    <tr>\n",
              "      <th>Backhoe_Mounting</th>\n",
              "      <td>None or Unspecified</td>\n",
              "      <td>NaN</td>\n",
              "      <td>None or Unspecified</td>\n",
              "      <td>NaN</td>\n",
              "      <td>None or Unspecified</td>\n",
              "    </tr>\n",
              "    <tr>\n",
              "      <th>Blade_Type</th>\n",
              "      <td>Straight</td>\n",
              "      <td>NaN</td>\n",
              "      <td>Straight</td>\n",
              "      <td>NaN</td>\n",
              "      <td>PAT</td>\n",
              "    </tr>\n",
              "    <tr>\n",
              "      <th>Travel_Controls</th>\n",
              "      <td>None or Unspecified</td>\n",
              "      <td>NaN</td>\n",
              "      <td>None or Unspecified</td>\n",
              "      <td>NaN</td>\n",
              "      <td>Lever</td>\n",
              "    </tr>\n",
              "    <tr>\n",
              "      <th>Differential_Type</th>\n",
              "      <td>NaN</td>\n",
              "      <td>Standard</td>\n",
              "      <td>NaN</td>\n",
              "      <td>Standard</td>\n",
              "      <td>NaN</td>\n",
              "    </tr>\n",
              "    <tr>\n",
              "      <th>Steering_Controls</th>\n",
              "      <td>NaN</td>\n",
              "      <td>Conventional</td>\n",
              "      <td>NaN</td>\n",
              "      <td>Conventional</td>\n",
              "      <td>NaN</td>\n",
              "    </tr>\n",
              "    <tr>\n",
              "      <th>saleYear</th>\n",
              "      <td>1989</td>\n",
              "      <td>1989</td>\n",
              "      <td>1989</td>\n",
              "      <td>1989</td>\n",
              "      <td>1989</td>\n",
              "    </tr>\n",
              "    <tr>\n",
              "      <th>saleMonth</th>\n",
              "      <td>1</td>\n",
              "      <td>1</td>\n",
              "      <td>1</td>\n",
              "      <td>1</td>\n",
              "      <td>1</td>\n",
              "    </tr>\n",
              "    <tr>\n",
              "      <th>day</th>\n",
              "      <td>17</td>\n",
              "      <td>31</td>\n",
              "      <td>31</td>\n",
              "      <td>31</td>\n",
              "      <td>31</td>\n",
              "    </tr>\n",
              "    <tr>\n",
              "      <th>saleDayOfWeek</th>\n",
              "      <td>1</td>\n",
              "      <td>1</td>\n",
              "      <td>1</td>\n",
              "      <td>1</td>\n",
              "      <td>1</td>\n",
              "    </tr>\n",
              "    <tr>\n",
              "      <th>saleDayOfYear</th>\n",
              "      <td>17</td>\n",
              "      <td>31</td>\n",
              "      <td>31</td>\n",
              "      <td>31</td>\n",
              "      <td>31</td>\n",
              "    </tr>\n",
              "  </tbody>\n",
              "</table>\n",
              "</div>\n",
              "      <button class=\"colab-df-convert\" onclick=\"convertToInteractive('df-5d794570-5602-44e7-8335-dd8976c96695')\"\n",
              "              title=\"Convert this dataframe to an interactive table.\"\n",
              "              style=\"display:none;\">\n",
              "        \n",
              "  <svg xmlns=\"http://www.w3.org/2000/svg\" height=\"24px\"viewBox=\"0 0 24 24\"\n",
              "       width=\"24px\">\n",
              "    <path d=\"M0 0h24v24H0V0z\" fill=\"none\"/>\n",
              "    <path d=\"M18.56 5.44l.94 2.06.94-2.06 2.06-.94-2.06-.94-.94-2.06-.94 2.06-2.06.94zm-11 1L8.5 8.5l.94-2.06 2.06-.94-2.06-.94L8.5 2.5l-.94 2.06-2.06.94zm10 10l.94 2.06.94-2.06 2.06-.94-2.06-.94-.94-2.06-.94 2.06-2.06.94z\"/><path d=\"M17.41 7.96l-1.37-1.37c-.4-.4-.92-.59-1.43-.59-.52 0-1.04.2-1.43.59L10.3 9.45l-7.72 7.72c-.78.78-.78 2.05 0 2.83L4 21.41c.39.39.9.59 1.41.59.51 0 1.02-.2 1.41-.59l7.78-7.78 2.81-2.81c.8-.78.8-2.07 0-2.86zM5.41 20L4 18.59l7.72-7.72 1.47 1.35L5.41 20z\"/>\n",
              "  </svg>\n",
              "      </button>\n",
              "      \n",
              "  <style>\n",
              "    .colab-df-container {\n",
              "      display:flex;\n",
              "      flex-wrap:wrap;\n",
              "      gap: 12px;\n",
              "    }\n",
              "\n",
              "    .colab-df-convert {\n",
              "      background-color: #E8F0FE;\n",
              "      border: none;\n",
              "      border-radius: 50%;\n",
              "      cursor: pointer;\n",
              "      display: none;\n",
              "      fill: #1967D2;\n",
              "      height: 32px;\n",
              "      padding: 0 0 0 0;\n",
              "      width: 32px;\n",
              "    }\n",
              "\n",
              "    .colab-df-convert:hover {\n",
              "      background-color: #E2EBFA;\n",
              "      box-shadow: 0px 1px 2px rgba(60, 64, 67, 0.3), 0px 1px 3px 1px rgba(60, 64, 67, 0.15);\n",
              "      fill: #174EA6;\n",
              "    }\n",
              "\n",
              "    [theme=dark] .colab-df-convert {\n",
              "      background-color: #3B4455;\n",
              "      fill: #D2E3FC;\n",
              "    }\n",
              "\n",
              "    [theme=dark] .colab-df-convert:hover {\n",
              "      background-color: #434B5C;\n",
              "      box-shadow: 0px 1px 3px 1px rgba(0, 0, 0, 0.15);\n",
              "      filter: drop-shadow(0px 1px 2px rgba(0, 0, 0, 0.3));\n",
              "      fill: #FFFFFF;\n",
              "    }\n",
              "  </style>\n",
              "\n",
              "      <script>\n",
              "        const buttonEl =\n",
              "          document.querySelector('#df-5d794570-5602-44e7-8335-dd8976c96695 button.colab-df-convert');\n",
              "        buttonEl.style.display =\n",
              "          google.colab.kernel.accessAllowed ? 'block' : 'none';\n",
              "\n",
              "        async function convertToInteractive(key) {\n",
              "          const element = document.querySelector('#df-5d794570-5602-44e7-8335-dd8976c96695');\n",
              "          const dataTable =\n",
              "            await google.colab.kernel.invokeFunction('convertToInteractive',\n",
              "                                                     [key], {});\n",
              "          if (!dataTable) return;\n",
              "\n",
              "          const docLinkHtml = 'Like what you see? Visit the ' +\n",
              "            '<a target=\"_blank\" href=https://colab.research.google.com/notebooks/data_table.ipynb>data table notebook</a>'\n",
              "            + ' to learn more about interactive tables.';\n",
              "          element.innerHTML = '';\n",
              "          dataTable['output_type'] = 'display_data';\n",
              "          await google.colab.output.renderOutput(dataTable, element);\n",
              "          const docLink = document.createElement('div');\n",
              "          docLink.innerHTML = docLinkHtml;\n",
              "          element.appendChild(docLink);\n",
              "        }\n",
              "      </script>\n",
              "    </div>\n",
              "  </div>\n",
              "  "
            ]
          },
          "metadata": {},
          "execution_count": 29
        }
      ]
    },
    {
      "cell_type": "markdown",
      "source": [
        "##Save preprocessed data"
      ],
      "metadata": {
        "id": "T2EXHcv4MNN1"
      }
    },
    {
      "cell_type": "code",
      "source": [
        "# export current tmp data frame\n",
        "df_tmp.to_csv('/content/bluebook-for-bulldozers/train_tmp.csv')"
      ],
      "metadata": {
        "id": "EERXq_oj4TzM"
      },
      "execution_count": 30,
      "outputs": []
    },
    {
      "cell_type": "markdown",
      "source": [
        "##Fill missing values"
      ],
      "metadata": {
        "id": "3Xg_gLcHMNKz"
      }
    },
    {
      "cell_type": "markdown",
      "source": [
        "###Fill numerical missing values first"
      ],
      "metadata": {
        "id": "VRGlQB9IMNID"
      }
    },
    {
      "cell_type": "code",
      "source": [
        "for label, content in df_tmp.items():\n",
        "  if pd.api.types.is_numeric_dtype(content):\n",
        "    if pd.isnull(content).sum():\n",
        "      print(label)"
      ],
      "metadata": {
        "id": "Cq4Fkorj5RDq",
        "colab": {
          "base_uri": "https://localhost:8080/"
        },
        "outputId": "78e51e00-20ed-4d67-e995-dc38e8b8deb3"
      },
      "execution_count": 31,
      "outputs": [
        {
          "output_type": "stream",
          "name": "stdout",
          "text": [
            "auctioneerID\n",
            "MachineHoursCurrentMeter\n"
          ]
        }
      ]
    },
    {
      "cell_type": "code",
      "source": [
        "for label, content in df_tmp.items():\n",
        "  if pd.api.types.is_numeric_dtype(content):\n",
        "    if pd.isnull(content).sum():\n",
        "      # Add binary column to indicate whether sample had missing value\n",
        "      df_tmp[label+'_is_missing']= pd.isnull(content)\n",
        "      df_tmp[label]= content.fillna(content.median())"
      ],
      "metadata": {
        "id": "IdcyECeikMfu"
      },
      "execution_count": 32,
      "outputs": []
    },
    {
      "cell_type": "code",
      "source": [
        "df_tmp.auctioneerID_is_missing.value_counts()"
      ],
      "metadata": {
        "id": "WogpiMsFlXt9",
        "colab": {
          "base_uri": "https://localhost:8080/"
        },
        "outputId": "6284365e-b584-4036-96c3-34ea815b71df"
      },
      "execution_count": 33,
      "outputs": [
        {
          "output_type": "execute_result",
          "data": {
            "text/plain": [
              "False    392562\n",
              "True      20136\n",
              "Name: auctioneerID_is_missing, dtype: int64"
            ]
          },
          "metadata": {},
          "execution_count": 33
        }
      ]
    },
    {
      "cell_type": "code",
      "source": [
        "df_tmp.isna().sum()"
      ],
      "metadata": {
        "id": "guKPrAY3mCQd",
        "colab": {
          "base_uri": "https://localhost:8080/"
        },
        "outputId": "877de7b1-5b38-4291-d7ca-d3838b0f29f2"
      },
      "execution_count": 34,
      "outputs": [
        {
          "output_type": "execute_result",
          "data": {
            "text/plain": [
              "SalesID                                     0\n",
              "SalePrice                                   0\n",
              "MachineID                                   0\n",
              "ModelID                                     0\n",
              "datasource                                  0\n",
              "auctioneerID                                0\n",
              "YearMade                                    0\n",
              "MachineHoursCurrentMeter                    0\n",
              "UsageBand                              339028\n",
              "fiModelDesc                                 0\n",
              "fiBaseModel                                 0\n",
              "fiSecondaryDesc                        140727\n",
              "fiModelSeries                          354031\n",
              "fiModelDescriptor                      337882\n",
              "ProductSize                            216605\n",
              "fiProductClassDesc                          0\n",
              "state                                       0\n",
              "ProductGroup                                0\n",
              "ProductGroupDesc                            0\n",
              "Drive_System                           305611\n",
              "Enclosure                                 334\n",
              "Forks                                  214983\n",
              "Pad_Type                               331602\n",
              "Ride_Control                           259970\n",
              "Stick                                  331602\n",
              "Transmission                           224691\n",
              "Turbocharged                           331602\n",
              "Blade_Extension                        386715\n",
              "Blade_Width                            386715\n",
              "Enclosure_Type                         386715\n",
              "Engine_Horsepower                      386715\n",
              "Hydraulics                              82565\n",
              "Pushblock                              386715\n",
              "Ripper                                 305753\n",
              "Scarifier                              386704\n",
              "Tip_Control                            386715\n",
              "Tire_Size                              315060\n",
              "Coupler                                192019\n",
              "Coupler_System                         367724\n",
              "Grouser_Tracks                         367823\n",
              "Hydraulics_Flow                        367823\n",
              "Track_Type                             310505\n",
              "Undercarriage_Pad_Width                309782\n",
              "Stick_Length                           310437\n",
              "Thumb                                  310366\n",
              "Pattern_Changer                        310437\n",
              "Grouser_Type                           310505\n",
              "Backhoe_Mounting                       331986\n",
              "Blade_Type                             330823\n",
              "Travel_Controls                        330821\n",
              "Differential_Type                      341134\n",
              "Steering_Controls                      341176\n",
              "saleYear                                    0\n",
              "saleMonth                                   0\n",
              "day                                         0\n",
              "saleDayOfWeek                               0\n",
              "saleDayOfYear                               0\n",
              "auctioneerID_is_missing                     0\n",
              "MachineHoursCurrentMeter_is_missing         0\n",
              "dtype: int64"
            ]
          },
          "metadata": {},
          "execution_count": 34
        }
      ]
    },
    {
      "cell_type": "markdown",
      "source": [
        "###Filling and turning categorical variables into numbers"
      ],
      "metadata": {
        "id": "XNMV-5rTMNFS"
      }
    },
    {
      "cell_type": "code",
      "source": [
        "for label, content in df_tmp.items():\n",
        "  if not pd.api.types.is_numeric_dtype(content):\n",
        "    if pd.isnull(content).sum():\n",
        "      print(label)"
      ],
      "metadata": {
        "id": "vhLBdpBEljBu",
        "colab": {
          "base_uri": "https://localhost:8080/"
        },
        "outputId": "2ff37da4-870b-4c9c-d4e5-7dfbcc71eaaa"
      },
      "execution_count": 35,
      "outputs": [
        {
          "output_type": "stream",
          "name": "stdout",
          "text": [
            "UsageBand\n",
            "fiSecondaryDesc\n",
            "fiModelSeries\n",
            "fiModelDescriptor\n",
            "ProductSize\n",
            "Drive_System\n",
            "Enclosure\n",
            "Forks\n",
            "Pad_Type\n",
            "Ride_Control\n",
            "Stick\n",
            "Transmission\n",
            "Turbocharged\n",
            "Blade_Extension\n",
            "Blade_Width\n",
            "Enclosure_Type\n",
            "Engine_Horsepower\n",
            "Hydraulics\n",
            "Pushblock\n",
            "Ripper\n",
            "Scarifier\n",
            "Tip_Control\n",
            "Tire_Size\n",
            "Coupler\n",
            "Coupler_System\n",
            "Grouser_Tracks\n",
            "Hydraulics_Flow\n",
            "Track_Type\n",
            "Undercarriage_Pad_Width\n",
            "Stick_Length\n",
            "Thumb\n",
            "Pattern_Changer\n",
            "Grouser_Type\n",
            "Backhoe_Mounting\n",
            "Blade_Type\n",
            "Travel_Controls\n",
            "Differential_Type\n",
            "Steering_Controls\n"
          ]
        }
      ]
    },
    {
      "cell_type": "code",
      "source": [
        "pd.Categorical(df_tmp.state).dtype"
      ],
      "metadata": {
        "id": "2zaVd7BWm2Mp",
        "colab": {
          "base_uri": "https://localhost:8080/"
        },
        "outputId": "2406c054-4ec8-4c6d-d5cc-bb981f22ac16"
      },
      "execution_count": 36,
      "outputs": [
        {
          "output_type": "execute_result",
          "data": {
            "text/plain": [
              "CategoricalDtype(categories=['Alabama', 'Alaska', 'Arizona', 'Arkansas', 'California',\n",
              "                  'Colorado', 'Connecticut', 'Delaware', 'Florida', 'Georgia',\n",
              "                  'Hawaii', 'Idaho', 'Illinois', 'Indiana', 'Iowa', 'Kansas',\n",
              "                  'Kentucky', 'Louisiana', 'Maine', 'Maryland',\n",
              "                  'Massachusetts', 'Michigan', 'Minnesota', 'Mississippi',\n",
              "                  'Missouri', 'Montana', 'Nebraska', 'Nevada', 'New Hampshire',\n",
              "                  'New Jersey', 'New Mexico', 'New York', 'North Carolina',\n",
              "                  'North Dakota', 'Ohio', 'Oklahoma', 'Oregon', 'Pennsylvania',\n",
              "                  'Puerto Rico', 'Rhode Island', 'South Carolina',\n",
              "                  'South Dakota', 'Tennessee', 'Texas', 'Unspecified', 'Utah',\n",
              "                  'Vermont', 'Virginia', 'Washington', 'Washington DC',\n",
              "                  'West Virginia', 'Wisconsin', 'Wyoming'],\n",
              ", ordered=True)"
            ]
          },
          "metadata": {},
          "execution_count": 36
        }
      ]
    },
    {
      "cell_type": "code",
      "source": [
        "pd.Categorical(df_tmp.state).codes"
      ],
      "metadata": {
        "id": "reTkCgLXnHsg",
        "colab": {
          "base_uri": "https://localhost:8080/"
        },
        "outputId": "ff2949f9-18e9-44af-8b02-8872b26e71b7"
      },
      "execution_count": 37,
      "outputs": [
        {
          "output_type": "execute_result",
          "data": {
            "text/plain": [
              "array([43,  8,  8, ...,  4,  4,  4], dtype=int8)"
            ]
          },
          "metadata": {},
          "execution_count": 37
        }
      ]
    },
    {
      "cell_type": "code",
      "source": [
        "pd.Categorical(df_tmp.UsageBand).codes"
      ],
      "metadata": {
        "id": "j7HmWHDsm_rI",
        "colab": {
          "base_uri": "https://localhost:8080/"
        },
        "outputId": "f319bf85-f64f-4b93-bc71-65e62c33dbf3"
      },
      "execution_count": 38,
      "outputs": [
        {
          "output_type": "execute_result",
          "data": {
            "text/plain": [
              "array([-1, -1, -1, ..., -1, -1, -1], dtype=int8)"
            ]
          },
          "metadata": {},
          "execution_count": 38
        }
      ]
    },
    {
      "cell_type": "code",
      "source": [
        "# Turn categorical variables into numbers and fill missing\n",
        "for label, content in df_tmp.items():\n",
        "  if not pd.api.types.is_numeric_dtype(content):\n",
        "    # Add binary column to indicate whether sample has missing data\n",
        "    df_tmp[label+'_is_missing']= pd.isnull(content)\n",
        "    df_tmp[label]= pd.Categorical(content).codes +1"
      ],
      "metadata": {
        "id": "P4UwuSjInC1a"
      },
      "execution_count": 39,
      "outputs": []
    },
    {
      "cell_type": "code",
      "source": [
        "df_tmp.info()"
      ],
      "metadata": {
        "id": "ptwnFqKEqORJ",
        "colab": {
          "base_uri": "https://localhost:8080/"
        },
        "outputId": "9ca2c6b3-ff56-4d9c-adcf-8269212682e7"
      },
      "execution_count": 40,
      "outputs": [
        {
          "output_type": "stream",
          "name": "stdout",
          "text": [
            "<class 'pandas.core.frame.DataFrame'>\n",
            "Int64Index: 412698 entries, 205615 to 409203\n",
            "Columns: 103 entries, SalesID to Steering_Controls_is_missing\n",
            "dtypes: bool(46), float64(3), int16(5), int64(10), int8(39)\n",
            "memory usage: 81.5 MB\n"
          ]
        }
      ]
    },
    {
      "cell_type": "code",
      "source": [
        "df_tmp.head().T"
      ],
      "metadata": {
        "id": "LS62ErnfqVR5",
        "colab": {
          "base_uri": "https://localhost:8080/",
          "height": 423
        },
        "outputId": "2ff02471-555e-40ee-f0e2-9f6590eedeb3"
      },
      "execution_count": 41,
      "outputs": [
        {
          "output_type": "execute_result",
          "data": {
            "text/plain": [
              "                               205615   274835   141296   212552   62755 \n",
              "SalesID                       1646770  1821514  1505138  1671174  1329056\n",
              "SalePrice                      9500.0  14000.0  50000.0  16000.0  22000.0\n",
              "MachineID                     1126363  1194089  1473654  1327630  1336053\n",
              "ModelID                          8434    10150     4139     8591     4089\n",
              "datasource                        132      132      132      132      132\n",
              "...                               ...      ...      ...      ...      ...\n",
              "Backhoe_Mounting_is_missing     False     True    False     True    False\n",
              "Blade_Type_is_missing           False     True    False     True    False\n",
              "Travel_Controls_is_missing      False     True    False     True    False\n",
              "Differential_Type_is_missing     True    False     True    False     True\n",
              "Steering_Controls_is_missing     True    False     True    False     True\n",
              "\n",
              "[103 rows x 5 columns]"
            ],
            "text/html": [
              "\n",
              "  <div id=\"df-0d777af5-8824-4bca-8349-5ef71594b4fd\">\n",
              "    <div class=\"colab-df-container\">\n",
              "      <div>\n",
              "<style scoped>\n",
              "    .dataframe tbody tr th:only-of-type {\n",
              "        vertical-align: middle;\n",
              "    }\n",
              "\n",
              "    .dataframe tbody tr th {\n",
              "        vertical-align: top;\n",
              "    }\n",
              "\n",
              "    .dataframe thead th {\n",
              "        text-align: right;\n",
              "    }\n",
              "</style>\n",
              "<table border=\"1\" class=\"dataframe\">\n",
              "  <thead>\n",
              "    <tr style=\"text-align: right;\">\n",
              "      <th></th>\n",
              "      <th>205615</th>\n",
              "      <th>274835</th>\n",
              "      <th>141296</th>\n",
              "      <th>212552</th>\n",
              "      <th>62755</th>\n",
              "    </tr>\n",
              "  </thead>\n",
              "  <tbody>\n",
              "    <tr>\n",
              "      <th>SalesID</th>\n",
              "      <td>1646770</td>\n",
              "      <td>1821514</td>\n",
              "      <td>1505138</td>\n",
              "      <td>1671174</td>\n",
              "      <td>1329056</td>\n",
              "    </tr>\n",
              "    <tr>\n",
              "      <th>SalePrice</th>\n",
              "      <td>9500.0</td>\n",
              "      <td>14000.0</td>\n",
              "      <td>50000.0</td>\n",
              "      <td>16000.0</td>\n",
              "      <td>22000.0</td>\n",
              "    </tr>\n",
              "    <tr>\n",
              "      <th>MachineID</th>\n",
              "      <td>1126363</td>\n",
              "      <td>1194089</td>\n",
              "      <td>1473654</td>\n",
              "      <td>1327630</td>\n",
              "      <td>1336053</td>\n",
              "    </tr>\n",
              "    <tr>\n",
              "      <th>ModelID</th>\n",
              "      <td>8434</td>\n",
              "      <td>10150</td>\n",
              "      <td>4139</td>\n",
              "      <td>8591</td>\n",
              "      <td>4089</td>\n",
              "    </tr>\n",
              "    <tr>\n",
              "      <th>datasource</th>\n",
              "      <td>132</td>\n",
              "      <td>132</td>\n",
              "      <td>132</td>\n",
              "      <td>132</td>\n",
              "      <td>132</td>\n",
              "    </tr>\n",
              "    <tr>\n",
              "      <th>...</th>\n",
              "      <td>...</td>\n",
              "      <td>...</td>\n",
              "      <td>...</td>\n",
              "      <td>...</td>\n",
              "      <td>...</td>\n",
              "    </tr>\n",
              "    <tr>\n",
              "      <th>Backhoe_Mounting_is_missing</th>\n",
              "      <td>False</td>\n",
              "      <td>True</td>\n",
              "      <td>False</td>\n",
              "      <td>True</td>\n",
              "      <td>False</td>\n",
              "    </tr>\n",
              "    <tr>\n",
              "      <th>Blade_Type_is_missing</th>\n",
              "      <td>False</td>\n",
              "      <td>True</td>\n",
              "      <td>False</td>\n",
              "      <td>True</td>\n",
              "      <td>False</td>\n",
              "    </tr>\n",
              "    <tr>\n",
              "      <th>Travel_Controls_is_missing</th>\n",
              "      <td>False</td>\n",
              "      <td>True</td>\n",
              "      <td>False</td>\n",
              "      <td>True</td>\n",
              "      <td>False</td>\n",
              "    </tr>\n",
              "    <tr>\n",
              "      <th>Differential_Type_is_missing</th>\n",
              "      <td>True</td>\n",
              "      <td>False</td>\n",
              "      <td>True</td>\n",
              "      <td>False</td>\n",
              "      <td>True</td>\n",
              "    </tr>\n",
              "    <tr>\n",
              "      <th>Steering_Controls_is_missing</th>\n",
              "      <td>True</td>\n",
              "      <td>False</td>\n",
              "      <td>True</td>\n",
              "      <td>False</td>\n",
              "      <td>True</td>\n",
              "    </tr>\n",
              "  </tbody>\n",
              "</table>\n",
              "<p>103 rows × 5 columns</p>\n",
              "</div>\n",
              "      <button class=\"colab-df-convert\" onclick=\"convertToInteractive('df-0d777af5-8824-4bca-8349-5ef71594b4fd')\"\n",
              "              title=\"Convert this dataframe to an interactive table.\"\n",
              "              style=\"display:none;\">\n",
              "        \n",
              "  <svg xmlns=\"http://www.w3.org/2000/svg\" height=\"24px\"viewBox=\"0 0 24 24\"\n",
              "       width=\"24px\">\n",
              "    <path d=\"M0 0h24v24H0V0z\" fill=\"none\"/>\n",
              "    <path d=\"M18.56 5.44l.94 2.06.94-2.06 2.06-.94-2.06-.94-.94-2.06-.94 2.06-2.06.94zm-11 1L8.5 8.5l.94-2.06 2.06-.94-2.06-.94L8.5 2.5l-.94 2.06-2.06.94zm10 10l.94 2.06.94-2.06 2.06-.94-2.06-.94-.94-2.06-.94 2.06-2.06.94z\"/><path d=\"M17.41 7.96l-1.37-1.37c-.4-.4-.92-.59-1.43-.59-.52 0-1.04.2-1.43.59L10.3 9.45l-7.72 7.72c-.78.78-.78 2.05 0 2.83L4 21.41c.39.39.9.59 1.41.59.51 0 1.02-.2 1.41-.59l7.78-7.78 2.81-2.81c.8-.78.8-2.07 0-2.86zM5.41 20L4 18.59l7.72-7.72 1.47 1.35L5.41 20z\"/>\n",
              "  </svg>\n",
              "      </button>\n",
              "      \n",
              "  <style>\n",
              "    .colab-df-container {\n",
              "      display:flex;\n",
              "      flex-wrap:wrap;\n",
              "      gap: 12px;\n",
              "    }\n",
              "\n",
              "    .colab-df-convert {\n",
              "      background-color: #E8F0FE;\n",
              "      border: none;\n",
              "      border-radius: 50%;\n",
              "      cursor: pointer;\n",
              "      display: none;\n",
              "      fill: #1967D2;\n",
              "      height: 32px;\n",
              "      padding: 0 0 0 0;\n",
              "      width: 32px;\n",
              "    }\n",
              "\n",
              "    .colab-df-convert:hover {\n",
              "      background-color: #E2EBFA;\n",
              "      box-shadow: 0px 1px 2px rgba(60, 64, 67, 0.3), 0px 1px 3px 1px rgba(60, 64, 67, 0.15);\n",
              "      fill: #174EA6;\n",
              "    }\n",
              "\n",
              "    [theme=dark] .colab-df-convert {\n",
              "      background-color: #3B4455;\n",
              "      fill: #D2E3FC;\n",
              "    }\n",
              "\n",
              "    [theme=dark] .colab-df-convert:hover {\n",
              "      background-color: #434B5C;\n",
              "      box-shadow: 0px 1px 3px 1px rgba(0, 0, 0, 0.15);\n",
              "      filter: drop-shadow(0px 1px 2px rgba(0, 0, 0, 0.3));\n",
              "      fill: #FFFFFF;\n",
              "    }\n",
              "  </style>\n",
              "\n",
              "      <script>\n",
              "        const buttonEl =\n",
              "          document.querySelector('#df-0d777af5-8824-4bca-8349-5ef71594b4fd button.colab-df-convert');\n",
              "        buttonEl.style.display =\n",
              "          google.colab.kernel.accessAllowed ? 'block' : 'none';\n",
              "\n",
              "        async function convertToInteractive(key) {\n",
              "          const element = document.querySelector('#df-0d777af5-8824-4bca-8349-5ef71594b4fd');\n",
              "          const dataTable =\n",
              "            await google.colab.kernel.invokeFunction('convertToInteractive',\n",
              "                                                     [key], {});\n",
              "          if (!dataTable) return;\n",
              "\n",
              "          const docLinkHtml = 'Like what you see? Visit the ' +\n",
              "            '<a target=\"_blank\" href=https://colab.research.google.com/notebooks/data_table.ipynb>data table notebook</a>'\n",
              "            + ' to learn more about interactive tables.';\n",
              "          element.innerHTML = '';\n",
              "          dataTable['output_type'] = 'display_data';\n",
              "          await google.colab.output.renderOutput(dataTable, element);\n",
              "          const docLink = document.createElement('div');\n",
              "          docLink.innerHTML = docLinkHtml;\n",
              "          element.appendChild(docLink);\n",
              "        }\n",
              "      </script>\n",
              "    </div>\n",
              "  </div>\n",
              "  "
            ]
          },
          "metadata": {},
          "execution_count": 41
        }
      ]
    },
    {
      "cell_type": "markdown",
      "source": [
        "### test model with full data"
      ],
      "metadata": {
        "id": "qappHvJV6nlq"
      }
    },
    {
      "cell_type": "code",
      "source": [
        "%%time\n",
        "# Instantiate model\n",
        "model= RandomForestRegressor(n_jobs=-1,\n",
        "                             random_state=42)\n",
        "\n",
        "# Fit the model\n",
        "model.fit(df_tmp.drop('SalePrice', axis=1), df_tmp['SalePrice'])\n"
      ],
      "metadata": {
        "id": "-gRVX_wiqZHv",
        "colab": {
          "base_uri": "https://localhost:8080/"
        },
        "outputId": "30fa45f0-21a4-43af-c973-e33d40a0d86b"
      },
      "execution_count": 42,
      "outputs": [
        {
          "output_type": "stream",
          "name": "stdout",
          "text": [
            "CPU times: user 23min 22s, sys: 6.35 s, total: 23min 29s\n",
            "Wall time: 14min 13s\n"
          ]
        },
        {
          "output_type": "execute_result",
          "data": {
            "text/plain": [
              "RandomForestRegressor(n_jobs=-1, random_state=42)"
            ]
          },
          "metadata": {},
          "execution_count": 42
        }
      ]
    },
    {
      "cell_type": "code",
      "source": [
        "model.score(df_tmp.drop('SalePrice', axis=1), df_tmp['SalePrice'])"
      ],
      "metadata": {
        "id": "dciDCbQmryLu",
        "colab": {
          "base_uri": "https://localhost:8080/"
        },
        "outputId": "e30091b8-0067-47ac-9482-1f13a6f076ef"
      },
      "execution_count": 43,
      "outputs": [
        {
          "output_type": "execute_result",
          "data": {
            "text/plain": [
              "0.9875495040871494"
            ]
          },
          "metadata": {},
          "execution_count": 43
        }
      ]
    },
    {
      "cell_type": "markdown",
      "source": [
        "##Split data into train/validation sets"
      ],
      "metadata": {
        "id": "VN5mCUOUMNCZ"
      }
    },
    {
      "cell_type": "code",
      "source": [
        "df_tmp.saleYear"
      ],
      "metadata": {
        "id": "66UcKq-ixkZe",
        "colab": {
          "base_uri": "https://localhost:8080/"
        },
        "outputId": "17c14268-abdd-4751-af69-8443bb70dc28"
      },
      "execution_count": 44,
      "outputs": [
        {
          "output_type": "execute_result",
          "data": {
            "text/plain": [
              "205615    1989\n",
              "274835    1989\n",
              "141296    1989\n",
              "212552    1989\n",
              "62755     1989\n",
              "          ... \n",
              "410879    2012\n",
              "412476    2012\n",
              "411927    2012\n",
              "407124    2012\n",
              "409203    2012\n",
              "Name: saleYear, Length: 412698, dtype: int64"
            ]
          },
          "metadata": {},
          "execution_count": 44
        }
      ]
    },
    {
      "cell_type": "code",
      "source": [
        "df_tmp.saleYear.value_counts()"
      ],
      "metadata": {
        "id": "GLrOtCuNxuYA",
        "colab": {
          "base_uri": "https://localhost:8080/"
        },
        "outputId": "70960df9-93e0-4e66-f6dc-46988b94ba24"
      },
      "execution_count": 45,
      "outputs": [
        {
          "output_type": "execute_result",
          "data": {
            "text/plain": [
              "2009    43849\n",
              "2008    39767\n",
              "2011    35197\n",
              "2010    33390\n",
              "2007    32208\n",
              "2006    21685\n",
              "2005    20463\n",
              "2004    19879\n",
              "2001    17594\n",
              "2000    17415\n",
              "2002    17246\n",
              "2003    15254\n",
              "1998    13046\n",
              "1999    12793\n",
              "2012    11573\n",
              "1997     9785\n",
              "1996     8829\n",
              "1995     8530\n",
              "1994     7929\n",
              "1993     6303\n",
              "1992     5519\n",
              "1991     5109\n",
              "1989     4806\n",
              "1990     4529\n",
              "Name: saleYear, dtype: int64"
            ]
          },
          "metadata": {},
          "execution_count": 45
        }
      ]
    },
    {
      "cell_type": "code",
      "source": [
        "df_val= df_tmp[df_tmp.saleYear==2012]\n",
        "df_train= df_tmp[df_tmp.saleYear!= 2012]\n",
        "len(df_val), len(df_train)"
      ],
      "metadata": {
        "id": "I4FAbuEcx3zE",
        "colab": {
          "base_uri": "https://localhost:8080/"
        },
        "outputId": "2d2658d7-beb5-40cb-b62e-87bc76293653"
      },
      "execution_count": 46,
      "outputs": [
        {
          "output_type": "execute_result",
          "data": {
            "text/plain": [
              "(11573, 401125)"
            ]
          },
          "metadata": {},
          "execution_count": 46
        }
      ]
    },
    {
      "cell_type": "code",
      "source": [
        "# Split data into X, y\n",
        "\n",
        "X_train, y_train= df_train.drop('SalePrice', axis=1), df_train['SalePrice']\n",
        "X_val, y_val= df_val.drop('SalePrice', axis=1), df_val['SalePrice']\n",
        "\n",
        "len(X_train), len(y_train), len(X_val), len(y_val)"
      ],
      "metadata": {
        "id": "54xACbWGyUOM",
        "colab": {
          "base_uri": "https://localhost:8080/"
        },
        "outputId": "11cc9871-ca63-4d18-d438-77af9d852ebb"
      },
      "execution_count": 47,
      "outputs": [
        {
          "output_type": "execute_result",
          "data": {
            "text/plain": [
              "(401125, 401125, 11573, 11573)"
            ]
          },
          "metadata": {},
          "execution_count": 47
        }
      ]
    },
    {
      "cell_type": "markdown",
      "source": [
        "##Building a evaluation function"
      ],
      "metadata": {
        "id": "46RS-RRVMM_Z"
      }
    },
    {
      "cell_type": "code",
      "source": [
        "\n",
        "from sklearn.metrics import mean_squared_log_error, mean_absolute_error, r2_score\n",
        "\n",
        "def rmsle (y_test, y_preds):\n",
        "  return np.sqrt(mean_squared_log_error(y_test, y_preds))\n",
        "\n",
        "# Create function to evaluate model on a few different levels\n",
        "def show_score(model):\n",
        "  train_preds= model.predict(X_train)\n",
        "  val_preds= model.predict(X_val)\n",
        "  score={'Training MAE': mean_absolute_error(y_train, train_preds),\n",
        "         'valid MAE': mean_absolute_error(y_val, val_preds),\n",
        "         'Training RMSLE': rmsle(y_train, train_preds),\n",
        "         'Valid RMSLE': rmsle(y_val, val_preds),\n",
        "         'Training R^2': r2_score(y_train, train_preds),\n",
        "         'Valid R^2': r2_score(y_val, val_preds)}\n",
        "  return score"
      ],
      "metadata": {
        "id": "NWluD0nRzR5Q"
      },
      "execution_count": 48,
      "outputs": []
    },
    {
      "cell_type": "markdown",
      "source": [
        "##Testing our model on a subset (to tune the hyperparameters)"
      ],
      "metadata": {
        "id": "6VkGLjQXMM8x"
      }
    },
    {
      "cell_type": "code",
      "source": [
        "from sklearn.ensemble import RandomForestRegressor\n",
        "# Change max_samples value\n",
        "model= RandomForestRegressor(n_jobs=-1,\n",
        "                             random_state=42,\n",
        "                             max_samples= 10000)"
      ],
      "metadata": {
        "id": "7S8AIVjf633-"
      },
      "execution_count": 49,
      "outputs": []
    },
    {
      "cell_type": "code",
      "source": [
        "%%time\n",
        "# Cutting down on the max number of samples \n",
        "model.fit(X_train, y_train)"
      ],
      "metadata": {
        "colab": {
          "base_uri": "https://localhost:8080/"
        },
        "id": "vgC2dl_i9h5w",
        "outputId": "fe8a1115-5876-4685-d64f-c05a3584cf3b"
      },
      "execution_count": 50,
      "outputs": [
        {
          "output_type": "stream",
          "name": "stdout",
          "text": [
            "CPU times: user 48.9 s, sys: 854 ms, total: 49.8 s\n",
            "Wall time: 32 s\n"
          ]
        },
        {
          "output_type": "execute_result",
          "data": {
            "text/plain": [
              "RandomForestRegressor(max_samples=10000, n_jobs=-1, random_state=42)"
            ]
          },
          "metadata": {},
          "execution_count": 50
        }
      ]
    },
    {
      "cell_type": "code",
      "source": [
        "train_preds= model.predict(X_train)\n",
        "val_preds= model.predict(X_val)"
      ],
      "metadata": {
        "id": "GRU5Snqu-pdZ"
      },
      "execution_count": 51,
      "outputs": []
    },
    {
      "cell_type": "code",
      "source": [
        "mean_absolute_error(y_train, train_preds)"
      ],
      "metadata": {
        "colab": {
          "base_uri": "https://localhost:8080/"
        },
        "id": "ywUH7J6R-0f3",
        "outputId": "600c441a-6fdc-45a5-c92e-901af986dbc4"
      },
      "execution_count": 52,
      "outputs": [
        {
          "output_type": "execute_result",
          "data": {
            "text/plain": [
              "5561.396858734807"
            ]
          },
          "metadata": {},
          "execution_count": 52
        }
      ]
    },
    {
      "cell_type": "code",
      "source": [
        "rmsle(y_train, train_preds)"
      ],
      "metadata": {
        "colab": {
          "base_uri": "https://localhost:8080/"
        },
        "id": "nogfcndN_GPX",
        "outputId": "f210feb9-0c08-4f81-8d9a-c3cd844f42b0"
      },
      "execution_count": 53,
      "outputs": [
        {
          "output_type": "execute_result",
          "data": {
            "text/plain": [
              "0.2577477569876176"
            ]
          },
          "metadata": {},
          "execution_count": 53
        }
      ]
    },
    {
      "cell_type": "code",
      "source": [
        "mean_absolute_error(y_val, val_preds)"
      ],
      "metadata": {
        "colab": {
          "base_uri": "https://localhost:8080/"
        },
        "id": "AfwY7RzS_ZSa",
        "outputId": "ea0a2117-4c11-4bee-996f-70c4fb7fea72"
      },
      "execution_count": 54,
      "outputs": [
        {
          "output_type": "execute_result",
          "data": {
            "text/plain": [
              "7181.745755638123"
            ]
          },
          "metadata": {},
          "execution_count": 54
        }
      ]
    },
    {
      "cell_type": "code",
      "source": [
        "rmsle(y_val, val_preds)"
      ],
      "metadata": {
        "colab": {
          "base_uri": "https://localhost:8080/"
        },
        "id": "nbpRNNop_hGV",
        "outputId": "3d186a3d-76ec-463c-d261-f143b1f9bc2b"
      },
      "execution_count": 55,
      "outputs": [
        {
          "output_type": "execute_result",
          "data": {
            "text/plain": [
              "0.293595185306081"
            ]
          },
          "metadata": {},
          "execution_count": 55
        }
      ]
    },
    {
      "cell_type": "code",
      "source": [
        "show_score(model)"
      ],
      "metadata": {
        "colab": {
          "base_uri": "https://localhost:8080/"
        },
        "id": "-LffW8MQ_HF7",
        "outputId": "a990dbfe-8563-4445-ced1-31ccc8ac255d"
      },
      "execution_count": 56,
      "outputs": [
        {
          "output_type": "execute_result",
          "data": {
            "text/plain": [
              "{'Training MAE': 5561.396858734807,\n",
              " 'valid MAE': 7181.745755638123,\n",
              " 'Training RMSLE': 0.2577477569876176,\n",
              " 'Valid RMSLE': 0.293595185306081,\n",
              " 'Training R^2': 0.8607116981822567,\n",
              " 'Valid R^2': 0.8316902392066935}"
            ]
          },
          "metadata": {},
          "execution_count": 56
        }
      ]
    },
    {
      "cell_type": "markdown",
      "source": [
        "##Hyperparameter tuning with RandomizedSearCV"
      ],
      "metadata": {
        "id": "tU3GYch7MM6K"
      }
    },
    {
      "cell_type": "code",
      "source": [
        "model._get_param_names()"
      ],
      "metadata": {
        "colab": {
          "base_uri": "https://localhost:8080/"
        },
        "id": "dneWEhPF-Mdj",
        "outputId": "c341b191-09fd-469a-8337-c61a282d04bf"
      },
      "execution_count": 57,
      "outputs": [
        {
          "output_type": "execute_result",
          "data": {
            "text/plain": [
              "['bootstrap',\n",
              " 'ccp_alpha',\n",
              " 'criterion',\n",
              " 'max_depth',\n",
              " 'max_features',\n",
              " 'max_leaf_nodes',\n",
              " 'max_samples',\n",
              " 'min_impurity_decrease',\n",
              " 'min_samples_leaf',\n",
              " 'min_samples_split',\n",
              " 'min_weight_fraction_leaf',\n",
              " 'n_estimators',\n",
              " 'n_jobs',\n",
              " 'oob_score',\n",
              " 'random_state',\n",
              " 'verbose',\n",
              " 'warm_start']"
            ]
          },
          "metadata": {},
          "execution_count": 57
        }
      ]
    },
    {
      "cell_type": "code",
      "source": [
        "from sklearn.model_selection import RandomizedSearchCV\n",
        "# Different RandomForestRegressor hyperparameter\n",
        "rf_grid={'n_estimators': np.arange(10, 100, 10),\n",
        "         'max_depth': [None, 10, 100, 1000],\n",
        "         'min_samples_split':np.arange(2,20,2),\n",
        "         'min_samples_leaf':np.arange(1,20,2),\n",
        "         'max_features':[1,'sqrt','auto'],\n",
        "         'max_samples':[10000]}\n",
        "\n",
        "rs_model= RandomizedSearchCV(RandomForestRegressor(),\n",
        "                             param_distributions=rf_grid,\n",
        "                             n_iter=3,\n",
        "                             cv=5,\n",
        "                             verbose=True)\n",
        "rs_model.fit(X_train, y_train)"
      ],
      "metadata": {
        "colab": {
          "base_uri": "https://localhost:8080/"
        },
        "id": "qoFNtQpvBuU0",
        "outputId": "12d7a700-b638-498e-95ae-3fb7302330e3"
      },
      "execution_count": 58,
      "outputs": [
        {
          "output_type": "stream",
          "name": "stdout",
          "text": [
            "Fitting 5 folds for each of 3 candidates, totalling 15 fits\n"
          ]
        },
        {
          "output_type": "execute_result",
          "data": {
            "text/plain": [
              "RandomizedSearchCV(cv=5, estimator=RandomForestRegressor(), n_iter=3,\n",
              "                   param_distributions={'max_depth': [None, 10, 100, 1000],\n",
              "                                        'max_features': [1, 'sqrt', 'auto'],\n",
              "                                        'max_samples': [10000],\n",
              "                                        'min_samples_leaf': array([ 1,  3,  5,  7,  9, 11, 13, 15, 17, 19]),\n",
              "                                        'min_samples_split': array([ 2,  4,  6,  8, 10, 12, 14, 16, 18]),\n",
              "                                        'n_estimators': array([10, 20, 30, 40, 50, 60, 70, 80, 90])},\n",
              "                   verbose=True)"
            ]
          },
          "metadata": {},
          "execution_count": 58
        }
      ]
    },
    {
      "cell_type": "code",
      "source": [
        "rs_model.best_params_"
      ],
      "metadata": {
        "colab": {
          "base_uri": "https://localhost:8080/"
        },
        "id": "ER0jrK6MDKOt",
        "outputId": "f2e9f8d5-9800-4bc0-8d4c-9fb2d402f977"
      },
      "execution_count": 59,
      "outputs": [
        {
          "output_type": "execute_result",
          "data": {
            "text/plain": [
              "{'n_estimators': 80,\n",
              " 'min_samples_split': 14,\n",
              " 'min_samples_leaf': 19,\n",
              " 'max_samples': 10000,\n",
              " 'max_features': 'auto',\n",
              " 'max_depth': 100}"
            ]
          },
          "metadata": {},
          "execution_count": 59
        }
      ]
    },
    {
      "cell_type": "code",
      "source": [
        "# Evaluate the RandomizedSearch model\n",
        "show_score(rs_model)"
      ],
      "metadata": {
        "colab": {
          "base_uri": "https://localhost:8080/"
        },
        "id": "bqITW-JKDjvP",
        "outputId": "8a084163-b239-4d6c-e00c-31dce3bb988d"
      },
      "execution_count": 60,
      "outputs": [
        {
          "output_type": "execute_result",
          "data": {
            "text/plain": [
              "{'Training MAE': 6532.081436250984,\n",
              " 'valid MAE': 8100.693663853731,\n",
              " 'Training RMSLE': 0.29289282212672924,\n",
              " 'Valid RMSLE': 0.3216069019619444,\n",
              " 'Training R^2': 0.8078529076453902,\n",
              " 'Valid R^2': 0.7777029678960614}"
            ]
          },
          "metadata": {},
          "execution_count": 60
        }
      ]
    },
    {
      "cell_type": "markdown",
      "source": [
        "##Train a model with the best hyperparameters"
      ],
      "metadata": {
        "id": "eqK7_BZpMM23"
      }
    },
    {
      "cell_type": "code",
      "source": [
        "%%time\n",
        "#Most ideal hyperparameter\n",
        "ideal_model= RandomForestRegressor(n_estimators=40,\n",
        "                                   min_samples_leaf=1,\n",
        "                                   min_samples_split=14,\n",
        "                                   max_features=0.5,\n",
        "                                   n_jobs=-1,\n",
        "                                   max_samples=None,\n",
        "                                   random_state=42)\n",
        "#Fit the ideal model\n",
        "ideal_model.fit(X_train, y_train)"
      ],
      "metadata": {
        "colab": {
          "base_uri": "https://localhost:8080/"
        },
        "id": "6CApSeKQBOxl",
        "outputId": "1f02d889-f65b-4cad-d374-bab30aaffafe"
      },
      "execution_count": 61,
      "outputs": [
        {
          "output_type": "stream",
          "name": "stdout",
          "text": [
            "CPU times: user 4min 15s, sys: 1.18 s, total: 4min 16s\n",
            "Wall time: 2min 35s\n"
          ]
        },
        {
          "output_type": "execute_result",
          "data": {
            "text/plain": [
              "RandomForestRegressor(max_features=0.5, min_samples_split=14, n_estimators=40,\n",
              "                      n_jobs=-1, random_state=42)"
            ]
          },
          "metadata": {},
          "execution_count": 61
        }
      ]
    },
    {
      "cell_type": "code",
      "source": [
        "show_score(ideal_model)"
      ],
      "metadata": {
        "colab": {
          "base_uri": "https://localhost:8080/"
        },
        "id": "2-PmUesJFGcz",
        "outputId": "be705c54-133c-44d2-b1fd-3220c20da5aa"
      },
      "execution_count": 62,
      "outputs": [
        {
          "output_type": "execute_result",
          "data": {
            "text/plain": [
              "{'Training MAE': 2946.8483786146953,\n",
              " 'valid MAE': 5963.098428944584,\n",
              " 'Training RMSLE': 0.14446831828269255,\n",
              " 'Valid RMSLE': 0.24551978575488667,\n",
              " 'Training R^2': 0.9589267192100979,\n",
              " 'Valid R^2': 0.8816029704165416}"
            ]
          },
          "metadata": {},
          "execution_count": 62
        }
      ]
    },
    {
      "cell_type": "markdown",
      "source": [
        "#Make predictions on test data"
      ],
      "metadata": {
        "id": "KnKM-XPiMMzh"
      }
    },
    {
      "cell_type": "code",
      "source": [
        "# Import test dataset\n",
        "df_test= pd.read_csv('/content/bluebook-for-bulldozers/Test.csv', parse_dates=['saledate'])"
      ],
      "metadata": {
        "id": "bcuQb5sMFjNB"
      },
      "execution_count": 63,
      "outputs": []
    },
    {
      "cell_type": "code",
      "source": [
        "df_test.head()"
      ],
      "metadata": {
        "colab": {
          "base_uri": "https://localhost:8080/",
          "height": 386
        },
        "id": "FA23ASDKGiIM",
        "outputId": "87971662-af11-4535-fdc7-615c7b2652b2"
      },
      "execution_count": 64,
      "outputs": [
        {
          "output_type": "execute_result",
          "data": {
            "text/plain": [
              "   SalesID  MachineID  ModelID  datasource  auctioneerID  YearMade  \\\n",
              "0  1227829    1006309     3168         121             3      1999   \n",
              "1  1227844    1022817     7271         121             3      1000   \n",
              "2  1227847    1031560    22805         121             3      2004   \n",
              "3  1227848      56204     1269         121             3      2006   \n",
              "4  1227863    1053887    22312         121             3      2005   \n",
              "\n",
              "   MachineHoursCurrentMeter UsageBand   saledate fiModelDesc  ...  \\\n",
              "0                    3688.0       Low 2012-05-03        580G  ...   \n",
              "1                   28555.0      High 2012-05-10         936  ...   \n",
              "2                    6038.0    Medium 2012-05-10    EC210BLC  ...   \n",
              "3                    8940.0      High 2012-05-10       330CL  ...   \n",
              "4                    2286.0       Low 2012-05-10        650K  ...   \n",
              "\n",
              "  Undercarriage_Pad_Width         Stick_Length   Thumb      Pattern_Changer  \\\n",
              "0                     NaN                  NaN     NaN                  NaN   \n",
              "1                     NaN                  NaN     NaN                  NaN   \n",
              "2     None or Unspecified                9' 6\"  Manual  None or Unspecified   \n",
              "3     None or Unspecified  None or Unspecified  Manual                  Yes   \n",
              "4                     NaN                  NaN     NaN                  NaN   \n",
              "\n",
              "  Grouser_Type     Backhoe_Mounting Blade_Type      Travel_Controls  \\\n",
              "0          NaN                  NaN        NaN                  NaN   \n",
              "1          NaN                  NaN        NaN                  NaN   \n",
              "2       Double                  NaN        NaN                  NaN   \n",
              "3       Triple                  NaN        NaN                  NaN   \n",
              "4          NaN  None or Unspecified        PAT  None or Unspecified   \n",
              "\n",
              "  Differential_Type Steering_Controls  \n",
              "0               NaN               NaN  \n",
              "1          Standard      Conventional  \n",
              "2               NaN               NaN  \n",
              "3               NaN               NaN  \n",
              "4               NaN               NaN  \n",
              "\n",
              "[5 rows x 52 columns]"
            ],
            "text/html": [
              "\n",
              "  <div id=\"df-53dce6ed-4fe8-476a-b1a3-342d62e78209\">\n",
              "    <div class=\"colab-df-container\">\n",
              "      <div>\n",
              "<style scoped>\n",
              "    .dataframe tbody tr th:only-of-type {\n",
              "        vertical-align: middle;\n",
              "    }\n",
              "\n",
              "    .dataframe tbody tr th {\n",
              "        vertical-align: top;\n",
              "    }\n",
              "\n",
              "    .dataframe thead th {\n",
              "        text-align: right;\n",
              "    }\n",
              "</style>\n",
              "<table border=\"1\" class=\"dataframe\">\n",
              "  <thead>\n",
              "    <tr style=\"text-align: right;\">\n",
              "      <th></th>\n",
              "      <th>SalesID</th>\n",
              "      <th>MachineID</th>\n",
              "      <th>ModelID</th>\n",
              "      <th>datasource</th>\n",
              "      <th>auctioneerID</th>\n",
              "      <th>YearMade</th>\n",
              "      <th>MachineHoursCurrentMeter</th>\n",
              "      <th>UsageBand</th>\n",
              "      <th>saledate</th>\n",
              "      <th>fiModelDesc</th>\n",
              "      <th>...</th>\n",
              "      <th>Undercarriage_Pad_Width</th>\n",
              "      <th>Stick_Length</th>\n",
              "      <th>Thumb</th>\n",
              "      <th>Pattern_Changer</th>\n",
              "      <th>Grouser_Type</th>\n",
              "      <th>Backhoe_Mounting</th>\n",
              "      <th>Blade_Type</th>\n",
              "      <th>Travel_Controls</th>\n",
              "      <th>Differential_Type</th>\n",
              "      <th>Steering_Controls</th>\n",
              "    </tr>\n",
              "  </thead>\n",
              "  <tbody>\n",
              "    <tr>\n",
              "      <th>0</th>\n",
              "      <td>1227829</td>\n",
              "      <td>1006309</td>\n",
              "      <td>3168</td>\n",
              "      <td>121</td>\n",
              "      <td>3</td>\n",
              "      <td>1999</td>\n",
              "      <td>3688.0</td>\n",
              "      <td>Low</td>\n",
              "      <td>2012-05-03</td>\n",
              "      <td>580G</td>\n",
              "      <td>...</td>\n",
              "      <td>NaN</td>\n",
              "      <td>NaN</td>\n",
              "      <td>NaN</td>\n",
              "      <td>NaN</td>\n",
              "      <td>NaN</td>\n",
              "      <td>NaN</td>\n",
              "      <td>NaN</td>\n",
              "      <td>NaN</td>\n",
              "      <td>NaN</td>\n",
              "      <td>NaN</td>\n",
              "    </tr>\n",
              "    <tr>\n",
              "      <th>1</th>\n",
              "      <td>1227844</td>\n",
              "      <td>1022817</td>\n",
              "      <td>7271</td>\n",
              "      <td>121</td>\n",
              "      <td>3</td>\n",
              "      <td>1000</td>\n",
              "      <td>28555.0</td>\n",
              "      <td>High</td>\n",
              "      <td>2012-05-10</td>\n",
              "      <td>936</td>\n",
              "      <td>...</td>\n",
              "      <td>NaN</td>\n",
              "      <td>NaN</td>\n",
              "      <td>NaN</td>\n",
              "      <td>NaN</td>\n",
              "      <td>NaN</td>\n",
              "      <td>NaN</td>\n",
              "      <td>NaN</td>\n",
              "      <td>NaN</td>\n",
              "      <td>Standard</td>\n",
              "      <td>Conventional</td>\n",
              "    </tr>\n",
              "    <tr>\n",
              "      <th>2</th>\n",
              "      <td>1227847</td>\n",
              "      <td>1031560</td>\n",
              "      <td>22805</td>\n",
              "      <td>121</td>\n",
              "      <td>3</td>\n",
              "      <td>2004</td>\n",
              "      <td>6038.0</td>\n",
              "      <td>Medium</td>\n",
              "      <td>2012-05-10</td>\n",
              "      <td>EC210BLC</td>\n",
              "      <td>...</td>\n",
              "      <td>None or Unspecified</td>\n",
              "      <td>9' 6\"</td>\n",
              "      <td>Manual</td>\n",
              "      <td>None or Unspecified</td>\n",
              "      <td>Double</td>\n",
              "      <td>NaN</td>\n",
              "      <td>NaN</td>\n",
              "      <td>NaN</td>\n",
              "      <td>NaN</td>\n",
              "      <td>NaN</td>\n",
              "    </tr>\n",
              "    <tr>\n",
              "      <th>3</th>\n",
              "      <td>1227848</td>\n",
              "      <td>56204</td>\n",
              "      <td>1269</td>\n",
              "      <td>121</td>\n",
              "      <td>3</td>\n",
              "      <td>2006</td>\n",
              "      <td>8940.0</td>\n",
              "      <td>High</td>\n",
              "      <td>2012-05-10</td>\n",
              "      <td>330CL</td>\n",
              "      <td>...</td>\n",
              "      <td>None or Unspecified</td>\n",
              "      <td>None or Unspecified</td>\n",
              "      <td>Manual</td>\n",
              "      <td>Yes</td>\n",
              "      <td>Triple</td>\n",
              "      <td>NaN</td>\n",
              "      <td>NaN</td>\n",
              "      <td>NaN</td>\n",
              "      <td>NaN</td>\n",
              "      <td>NaN</td>\n",
              "    </tr>\n",
              "    <tr>\n",
              "      <th>4</th>\n",
              "      <td>1227863</td>\n",
              "      <td>1053887</td>\n",
              "      <td>22312</td>\n",
              "      <td>121</td>\n",
              "      <td>3</td>\n",
              "      <td>2005</td>\n",
              "      <td>2286.0</td>\n",
              "      <td>Low</td>\n",
              "      <td>2012-05-10</td>\n",
              "      <td>650K</td>\n",
              "      <td>...</td>\n",
              "      <td>NaN</td>\n",
              "      <td>NaN</td>\n",
              "      <td>NaN</td>\n",
              "      <td>NaN</td>\n",
              "      <td>NaN</td>\n",
              "      <td>None or Unspecified</td>\n",
              "      <td>PAT</td>\n",
              "      <td>None or Unspecified</td>\n",
              "      <td>NaN</td>\n",
              "      <td>NaN</td>\n",
              "    </tr>\n",
              "  </tbody>\n",
              "</table>\n",
              "<p>5 rows × 52 columns</p>\n",
              "</div>\n",
              "      <button class=\"colab-df-convert\" onclick=\"convertToInteractive('df-53dce6ed-4fe8-476a-b1a3-342d62e78209')\"\n",
              "              title=\"Convert this dataframe to an interactive table.\"\n",
              "              style=\"display:none;\">\n",
              "        \n",
              "  <svg xmlns=\"http://www.w3.org/2000/svg\" height=\"24px\"viewBox=\"0 0 24 24\"\n",
              "       width=\"24px\">\n",
              "    <path d=\"M0 0h24v24H0V0z\" fill=\"none\"/>\n",
              "    <path d=\"M18.56 5.44l.94 2.06.94-2.06 2.06-.94-2.06-.94-.94-2.06-.94 2.06-2.06.94zm-11 1L8.5 8.5l.94-2.06 2.06-.94-2.06-.94L8.5 2.5l-.94 2.06-2.06.94zm10 10l.94 2.06.94-2.06 2.06-.94-2.06-.94-.94-2.06-.94 2.06-2.06.94z\"/><path d=\"M17.41 7.96l-1.37-1.37c-.4-.4-.92-.59-1.43-.59-.52 0-1.04.2-1.43.59L10.3 9.45l-7.72 7.72c-.78.78-.78 2.05 0 2.83L4 21.41c.39.39.9.59 1.41.59.51 0 1.02-.2 1.41-.59l7.78-7.78 2.81-2.81c.8-.78.8-2.07 0-2.86zM5.41 20L4 18.59l7.72-7.72 1.47 1.35L5.41 20z\"/>\n",
              "  </svg>\n",
              "      </button>\n",
              "      \n",
              "  <style>\n",
              "    .colab-df-container {\n",
              "      display:flex;\n",
              "      flex-wrap:wrap;\n",
              "      gap: 12px;\n",
              "    }\n",
              "\n",
              "    .colab-df-convert {\n",
              "      background-color: #E8F0FE;\n",
              "      border: none;\n",
              "      border-radius: 50%;\n",
              "      cursor: pointer;\n",
              "      display: none;\n",
              "      fill: #1967D2;\n",
              "      height: 32px;\n",
              "      padding: 0 0 0 0;\n",
              "      width: 32px;\n",
              "    }\n",
              "\n",
              "    .colab-df-convert:hover {\n",
              "      background-color: #E2EBFA;\n",
              "      box-shadow: 0px 1px 2px rgba(60, 64, 67, 0.3), 0px 1px 3px 1px rgba(60, 64, 67, 0.15);\n",
              "      fill: #174EA6;\n",
              "    }\n",
              "\n",
              "    [theme=dark] .colab-df-convert {\n",
              "      background-color: #3B4455;\n",
              "      fill: #D2E3FC;\n",
              "    }\n",
              "\n",
              "    [theme=dark] .colab-df-convert:hover {\n",
              "      background-color: #434B5C;\n",
              "      box-shadow: 0px 1px 3px 1px rgba(0, 0, 0, 0.15);\n",
              "      filter: drop-shadow(0px 1px 2px rgba(0, 0, 0, 0.3));\n",
              "      fill: #FFFFFF;\n",
              "    }\n",
              "  </style>\n",
              "\n",
              "      <script>\n",
              "        const buttonEl =\n",
              "          document.querySelector('#df-53dce6ed-4fe8-476a-b1a3-342d62e78209 button.colab-df-convert');\n",
              "        buttonEl.style.display =\n",
              "          google.colab.kernel.accessAllowed ? 'block' : 'none';\n",
              "\n",
              "        async function convertToInteractive(key) {\n",
              "          const element = document.querySelector('#df-53dce6ed-4fe8-476a-b1a3-342d62e78209');\n",
              "          const dataTable =\n",
              "            await google.colab.kernel.invokeFunction('convertToInteractive',\n",
              "                                                     [key], {});\n",
              "          if (!dataTable) return;\n",
              "\n",
              "          const docLinkHtml = 'Like what you see? Visit the ' +\n",
              "            '<a target=\"_blank\" href=https://colab.research.google.com/notebooks/data_table.ipynb>data table notebook</a>'\n",
              "            + ' to learn more about interactive tables.';\n",
              "          element.innerHTML = '';\n",
              "          dataTable['output_type'] = 'display_data';\n",
              "          await google.colab.output.renderOutput(dataTable, element);\n",
              "          const docLink = document.createElement('div');\n",
              "          docLink.innerHTML = docLinkHtml;\n",
              "          element.appendChild(docLink);\n",
              "        }\n",
              "      </script>\n",
              "    </div>\n",
              "  </div>\n",
              "  "
            ]
          },
          "metadata": {},
          "execution_count": 64
        }
      ]
    },
    {
      "cell_type": "code",
      "source": [
        "df_test.isna().sum()"
      ],
      "metadata": {
        "colab": {
          "base_uri": "https://localhost:8080/"
        },
        "id": "EX6P1_hqGv48",
        "outputId": "070d1eb1-7364-4fe6-d834-97c11552b60e"
      },
      "execution_count": 65,
      "outputs": [
        {
          "output_type": "execute_result",
          "data": {
            "text/plain": [
              "SalesID                         0\n",
              "MachineID                       0\n",
              "ModelID                         0\n",
              "datasource                      0\n",
              "auctioneerID                    0\n",
              "YearMade                        0\n",
              "MachineHoursCurrentMeter    10328\n",
              "UsageBand                   10623\n",
              "saledate                        0\n",
              "fiModelDesc                     0\n",
              "fiBaseModel                     0\n",
              "fiSecondaryDesc              3975\n",
              "fiModelSeries               10451\n",
              "fiModelDescriptor            9433\n",
              "ProductSize                  6409\n",
              "fiProductClassDesc              0\n",
              "state                           0\n",
              "ProductGroup                    0\n",
              "ProductGroupDesc                0\n",
              "Drive_System                 9698\n",
              "Enclosure                       2\n",
              "Forks                        6149\n",
              "Pad_Type                    10349\n",
              "Ride_Control                 8216\n",
              "Stick                       10349\n",
              "Transmission                 7639\n",
              "Turbocharged                10349\n",
              "Blade_Extension             11806\n",
              "Blade_Width                 11806\n",
              "Enclosure_Type              11806\n",
              "Engine_Horsepower           11806\n",
              "Hydraulics                   2142\n",
              "Pushblock                   11806\n",
              "Ripper                       9753\n",
              "Scarifier                   11806\n",
              "Tip_Control                 11806\n",
              "Tire_Size                    9679\n",
              "Coupler                      4856\n",
              "Coupler_System              10391\n",
              "Grouser_Tracks              10391\n",
              "Hydraulics_Flow             10391\n",
              "Track_Type                   9063\n",
              "Undercarriage_Pad_Width      9059\n",
              "Stick_Length                 9063\n",
              "Thumb                        9062\n",
              "Pattern_Changer              9063\n",
              "Grouser_Type                 9063\n",
              "Backhoe_Mounting            10406\n",
              "Blade_Type                  10399\n",
              "Travel_Controls             10399\n",
              "Differential_Type           10328\n",
              "Steering_Controls           10328\n",
              "dtype: int64"
            ]
          },
          "metadata": {},
          "execution_count": 65
        }
      ]
    },
    {
      "cell_type": "code",
      "source": [
        "df_test.info()"
      ],
      "metadata": {
        "colab": {
          "base_uri": "https://localhost:8080/"
        },
        "id": "qbhTcCCwHVlP",
        "outputId": "53b6ce89-5cce-493d-c2ca-0f95295888f2"
      },
      "execution_count": 66,
      "outputs": [
        {
          "output_type": "stream",
          "name": "stdout",
          "text": [
            "<class 'pandas.core.frame.DataFrame'>\n",
            "RangeIndex: 12457 entries, 0 to 12456\n",
            "Data columns (total 52 columns):\n",
            " #   Column                    Non-Null Count  Dtype         \n",
            "---  ------                    --------------  -----         \n",
            " 0   SalesID                   12457 non-null  int64         \n",
            " 1   MachineID                 12457 non-null  int64         \n",
            " 2   ModelID                   12457 non-null  int64         \n",
            " 3   datasource                12457 non-null  int64         \n",
            " 4   auctioneerID              12457 non-null  int64         \n",
            " 5   YearMade                  12457 non-null  int64         \n",
            " 6   MachineHoursCurrentMeter  2129 non-null   float64       \n",
            " 7   UsageBand                 1834 non-null   object        \n",
            " 8   saledate                  12457 non-null  datetime64[ns]\n",
            " 9   fiModelDesc               12457 non-null  object        \n",
            " 10  fiBaseModel               12457 non-null  object        \n",
            " 11  fiSecondaryDesc           8482 non-null   object        \n",
            " 12  fiModelSeries             2006 non-null   object        \n",
            " 13  fiModelDescriptor         3024 non-null   object        \n",
            " 14  ProductSize               6048 non-null   object        \n",
            " 15  fiProductClassDesc        12457 non-null  object        \n",
            " 16  state                     12457 non-null  object        \n",
            " 17  ProductGroup              12457 non-null  object        \n",
            " 18  ProductGroupDesc          12457 non-null  object        \n",
            " 19  Drive_System              2759 non-null   object        \n",
            " 20  Enclosure                 12455 non-null  object        \n",
            " 21  Forks                     6308 non-null   object        \n",
            " 22  Pad_Type                  2108 non-null   object        \n",
            " 23  Ride_Control              4241 non-null   object        \n",
            " 24  Stick                     2108 non-null   object        \n",
            " 25  Transmission              4818 non-null   object        \n",
            " 26  Turbocharged              2108 non-null   object        \n",
            " 27  Blade_Extension           651 non-null    object        \n",
            " 28  Blade_Width               651 non-null    object        \n",
            " 29  Enclosure_Type            651 non-null    object        \n",
            " 30  Engine_Horsepower         651 non-null    object        \n",
            " 31  Hydraulics                10315 non-null  object        \n",
            " 32  Pushblock                 651 non-null    object        \n",
            " 33  Ripper                    2704 non-null   object        \n",
            " 34  Scarifier                 651 non-null    object        \n",
            " 35  Tip_Control               651 non-null    object        \n",
            " 36  Tire_Size                 2778 non-null   object        \n",
            " 37  Coupler                   7601 non-null   object        \n",
            " 38  Coupler_System            2066 non-null   object        \n",
            " 39  Grouser_Tracks            2066 non-null   object        \n",
            " 40  Hydraulics_Flow           2066 non-null   object        \n",
            " 41  Track_Type                3394 non-null   object        \n",
            " 42  Undercarriage_Pad_Width   3398 non-null   object        \n",
            " 43  Stick_Length              3394 non-null   object        \n",
            " 44  Thumb                     3395 non-null   object        \n",
            " 45  Pattern_Changer           3394 non-null   object        \n",
            " 46  Grouser_Type              3394 non-null   object        \n",
            " 47  Backhoe_Mounting          2051 non-null   object        \n",
            " 48  Blade_Type                2058 non-null   object        \n",
            " 49  Travel_Controls           2058 non-null   object        \n",
            " 50  Differential_Type         2129 non-null   object        \n",
            " 51  Steering_Controls         2129 non-null   object        \n",
            "dtypes: datetime64[ns](1), float64(1), int64(6), object(44)\n",
            "memory usage: 4.9+ MB\n"
          ]
        }
      ]
    },
    {
      "cell_type": "markdown",
      "source": [
        "##Preprocessing the data(getting the test dataset in the same format as our training dataset)"
      ],
      "metadata": {
        "id": "Jjtiv_qPN8Q3"
      }
    },
    {
      "cell_type": "code",
      "source": [
        "def preprocess_data(df):\n",
        "  df['saleYear']= df.saledate.dt.year\n",
        "  df['saleMonth']= df.saledate.dt.month\n",
        "  df['day']= df.saledate.dt.day\n",
        "  df['saleDayOfWeek']= df.saledate.dt.day_of_week\n",
        "  df['saleDayOfYear']= df.saledate.dt.day_of_year\n",
        "\n",
        "  df.drop('saledate', axis=1, inplace=True)\n",
        "  #Fill the numeric rows with median\n",
        "  for label, content in df.items():\n",
        "    if pd.api.types.is_numeric_dtype(content):\n",
        "      if pd.isnull(content).sum():\n",
        "        df[label+'_is_missing']= pd.isnull(content)\n",
        "        df[label]= content.fillna(content.median())\n",
        "\n",
        "    # Fill categorical missing data\n",
        "    if not pd.api.types.is_numeric_dtype(content):\n",
        "      df[label+'_is_missing']= pd.isnull(content)\n",
        "      df[label]= pd.Categorical(content).codes+1\n",
        "\n",
        "  return df"
      ],
      "metadata": {
        "id": "cNzfVap_HZoS"
      },
      "execution_count": 67,
      "outputs": []
    },
    {
      "cell_type": "code",
      "source": [
        "df_test= preprocess_data(df_test)\n",
        "df_test.head()"
      ],
      "metadata": {
        "colab": {
          "base_uri": "https://localhost:8080/",
          "height": 299
        },
        "id": "XteAOW5-Kpds",
        "outputId": "d69f13fe-3200-4eea-8778-476f6e7796ce"
      },
      "execution_count": 68,
      "outputs": [
        {
          "output_type": "execute_result",
          "data": {
            "text/plain": [
              "   SalesID  MachineID  ModelID  datasource  auctioneerID  YearMade  \\\n",
              "0  1227829    1006309     3168         121             3      1999   \n",
              "1  1227844    1022817     7271         121             3      1000   \n",
              "2  1227847    1031560    22805         121             3      2004   \n",
              "3  1227848      56204     1269         121             3      2006   \n",
              "4  1227863    1053887    22312         121             3      2005   \n",
              "\n",
              "   MachineHoursCurrentMeter  UsageBand  fiModelDesc  fiBaseModel  ...  \\\n",
              "0                    3688.0          2          499          180  ...   \n",
              "1                   28555.0          1          831          292  ...   \n",
              "2                    6038.0          3         1177          404  ...   \n",
              "3                    8940.0          1          287          113  ...   \n",
              "4                    2286.0          2          566          196  ...   \n",
              "\n",
              "   Undercarriage_Pad_Width_is_missing  Stick_Length_is_missing  \\\n",
              "0                                True                     True   \n",
              "1                                True                     True   \n",
              "2                               False                    False   \n",
              "3                               False                    False   \n",
              "4                                True                     True   \n",
              "\n",
              "   Thumb_is_missing  Pattern_Changer_is_missing  Grouser_Type_is_missing  \\\n",
              "0              True                        True                     True   \n",
              "1              True                        True                     True   \n",
              "2             False                       False                    False   \n",
              "3             False                       False                    False   \n",
              "4              True                        True                     True   \n",
              "\n",
              "   Backhoe_Mounting_is_missing  Blade_Type_is_missing  \\\n",
              "0                         True                   True   \n",
              "1                         True                   True   \n",
              "2                         True                   True   \n",
              "3                         True                   True   \n",
              "4                        False                  False   \n",
              "\n",
              "   Travel_Controls_is_missing  Differential_Type_is_missing  \\\n",
              "0                        True                          True   \n",
              "1                        True                         False   \n",
              "2                        True                          True   \n",
              "3                        True                          True   \n",
              "4                       False                          True   \n",
              "\n",
              "   Steering_Controls_is_missing  \n",
              "0                          True  \n",
              "1                         False  \n",
              "2                          True  \n",
              "3                          True  \n",
              "4                          True  \n",
              "\n",
              "[5 rows x 101 columns]"
            ],
            "text/html": [
              "\n",
              "  <div id=\"df-df0ccffa-f114-434a-9e38-ccabc2955a5b\">\n",
              "    <div class=\"colab-df-container\">\n",
              "      <div>\n",
              "<style scoped>\n",
              "    .dataframe tbody tr th:only-of-type {\n",
              "        vertical-align: middle;\n",
              "    }\n",
              "\n",
              "    .dataframe tbody tr th {\n",
              "        vertical-align: top;\n",
              "    }\n",
              "\n",
              "    .dataframe thead th {\n",
              "        text-align: right;\n",
              "    }\n",
              "</style>\n",
              "<table border=\"1\" class=\"dataframe\">\n",
              "  <thead>\n",
              "    <tr style=\"text-align: right;\">\n",
              "      <th></th>\n",
              "      <th>SalesID</th>\n",
              "      <th>MachineID</th>\n",
              "      <th>ModelID</th>\n",
              "      <th>datasource</th>\n",
              "      <th>auctioneerID</th>\n",
              "      <th>YearMade</th>\n",
              "      <th>MachineHoursCurrentMeter</th>\n",
              "      <th>UsageBand</th>\n",
              "      <th>fiModelDesc</th>\n",
              "      <th>fiBaseModel</th>\n",
              "      <th>...</th>\n",
              "      <th>Undercarriage_Pad_Width_is_missing</th>\n",
              "      <th>Stick_Length_is_missing</th>\n",
              "      <th>Thumb_is_missing</th>\n",
              "      <th>Pattern_Changer_is_missing</th>\n",
              "      <th>Grouser_Type_is_missing</th>\n",
              "      <th>Backhoe_Mounting_is_missing</th>\n",
              "      <th>Blade_Type_is_missing</th>\n",
              "      <th>Travel_Controls_is_missing</th>\n",
              "      <th>Differential_Type_is_missing</th>\n",
              "      <th>Steering_Controls_is_missing</th>\n",
              "    </tr>\n",
              "  </thead>\n",
              "  <tbody>\n",
              "    <tr>\n",
              "      <th>0</th>\n",
              "      <td>1227829</td>\n",
              "      <td>1006309</td>\n",
              "      <td>3168</td>\n",
              "      <td>121</td>\n",
              "      <td>3</td>\n",
              "      <td>1999</td>\n",
              "      <td>3688.0</td>\n",
              "      <td>2</td>\n",
              "      <td>499</td>\n",
              "      <td>180</td>\n",
              "      <td>...</td>\n",
              "      <td>True</td>\n",
              "      <td>True</td>\n",
              "      <td>True</td>\n",
              "      <td>True</td>\n",
              "      <td>True</td>\n",
              "      <td>True</td>\n",
              "      <td>True</td>\n",
              "      <td>True</td>\n",
              "      <td>True</td>\n",
              "      <td>True</td>\n",
              "    </tr>\n",
              "    <tr>\n",
              "      <th>1</th>\n",
              "      <td>1227844</td>\n",
              "      <td>1022817</td>\n",
              "      <td>7271</td>\n",
              "      <td>121</td>\n",
              "      <td>3</td>\n",
              "      <td>1000</td>\n",
              "      <td>28555.0</td>\n",
              "      <td>1</td>\n",
              "      <td>831</td>\n",
              "      <td>292</td>\n",
              "      <td>...</td>\n",
              "      <td>True</td>\n",
              "      <td>True</td>\n",
              "      <td>True</td>\n",
              "      <td>True</td>\n",
              "      <td>True</td>\n",
              "      <td>True</td>\n",
              "      <td>True</td>\n",
              "      <td>True</td>\n",
              "      <td>False</td>\n",
              "      <td>False</td>\n",
              "    </tr>\n",
              "    <tr>\n",
              "      <th>2</th>\n",
              "      <td>1227847</td>\n",
              "      <td>1031560</td>\n",
              "      <td>22805</td>\n",
              "      <td>121</td>\n",
              "      <td>3</td>\n",
              "      <td>2004</td>\n",
              "      <td>6038.0</td>\n",
              "      <td>3</td>\n",
              "      <td>1177</td>\n",
              "      <td>404</td>\n",
              "      <td>...</td>\n",
              "      <td>False</td>\n",
              "      <td>False</td>\n",
              "      <td>False</td>\n",
              "      <td>False</td>\n",
              "      <td>False</td>\n",
              "      <td>True</td>\n",
              "      <td>True</td>\n",
              "      <td>True</td>\n",
              "      <td>True</td>\n",
              "      <td>True</td>\n",
              "    </tr>\n",
              "    <tr>\n",
              "      <th>3</th>\n",
              "      <td>1227848</td>\n",
              "      <td>56204</td>\n",
              "      <td>1269</td>\n",
              "      <td>121</td>\n",
              "      <td>3</td>\n",
              "      <td>2006</td>\n",
              "      <td>8940.0</td>\n",
              "      <td>1</td>\n",
              "      <td>287</td>\n",
              "      <td>113</td>\n",
              "      <td>...</td>\n",
              "      <td>False</td>\n",
              "      <td>False</td>\n",
              "      <td>False</td>\n",
              "      <td>False</td>\n",
              "      <td>False</td>\n",
              "      <td>True</td>\n",
              "      <td>True</td>\n",
              "      <td>True</td>\n",
              "      <td>True</td>\n",
              "      <td>True</td>\n",
              "    </tr>\n",
              "    <tr>\n",
              "      <th>4</th>\n",
              "      <td>1227863</td>\n",
              "      <td>1053887</td>\n",
              "      <td>22312</td>\n",
              "      <td>121</td>\n",
              "      <td>3</td>\n",
              "      <td>2005</td>\n",
              "      <td>2286.0</td>\n",
              "      <td>2</td>\n",
              "      <td>566</td>\n",
              "      <td>196</td>\n",
              "      <td>...</td>\n",
              "      <td>True</td>\n",
              "      <td>True</td>\n",
              "      <td>True</td>\n",
              "      <td>True</td>\n",
              "      <td>True</td>\n",
              "      <td>False</td>\n",
              "      <td>False</td>\n",
              "      <td>False</td>\n",
              "      <td>True</td>\n",
              "      <td>True</td>\n",
              "    </tr>\n",
              "  </tbody>\n",
              "</table>\n",
              "<p>5 rows × 101 columns</p>\n",
              "</div>\n",
              "      <button class=\"colab-df-convert\" onclick=\"convertToInteractive('df-df0ccffa-f114-434a-9e38-ccabc2955a5b')\"\n",
              "              title=\"Convert this dataframe to an interactive table.\"\n",
              "              style=\"display:none;\">\n",
              "        \n",
              "  <svg xmlns=\"http://www.w3.org/2000/svg\" height=\"24px\"viewBox=\"0 0 24 24\"\n",
              "       width=\"24px\">\n",
              "    <path d=\"M0 0h24v24H0V0z\" fill=\"none\"/>\n",
              "    <path d=\"M18.56 5.44l.94 2.06.94-2.06 2.06-.94-2.06-.94-.94-2.06-.94 2.06-2.06.94zm-11 1L8.5 8.5l.94-2.06 2.06-.94-2.06-.94L8.5 2.5l-.94 2.06-2.06.94zm10 10l.94 2.06.94-2.06 2.06-.94-2.06-.94-.94-2.06-.94 2.06-2.06.94z\"/><path d=\"M17.41 7.96l-1.37-1.37c-.4-.4-.92-.59-1.43-.59-.52 0-1.04.2-1.43.59L10.3 9.45l-7.72 7.72c-.78.78-.78 2.05 0 2.83L4 21.41c.39.39.9.59 1.41.59.51 0 1.02-.2 1.41-.59l7.78-7.78 2.81-2.81c.8-.78.8-2.07 0-2.86zM5.41 20L4 18.59l7.72-7.72 1.47 1.35L5.41 20z\"/>\n",
              "  </svg>\n",
              "      </button>\n",
              "      \n",
              "  <style>\n",
              "    .colab-df-container {\n",
              "      display:flex;\n",
              "      flex-wrap:wrap;\n",
              "      gap: 12px;\n",
              "    }\n",
              "\n",
              "    .colab-df-convert {\n",
              "      background-color: #E8F0FE;\n",
              "      border: none;\n",
              "      border-radius: 50%;\n",
              "      cursor: pointer;\n",
              "      display: none;\n",
              "      fill: #1967D2;\n",
              "      height: 32px;\n",
              "      padding: 0 0 0 0;\n",
              "      width: 32px;\n",
              "    }\n",
              "\n",
              "    .colab-df-convert:hover {\n",
              "      background-color: #E2EBFA;\n",
              "      box-shadow: 0px 1px 2px rgba(60, 64, 67, 0.3), 0px 1px 3px 1px rgba(60, 64, 67, 0.15);\n",
              "      fill: #174EA6;\n",
              "    }\n",
              "\n",
              "    [theme=dark] .colab-df-convert {\n",
              "      background-color: #3B4455;\n",
              "      fill: #D2E3FC;\n",
              "    }\n",
              "\n",
              "    [theme=dark] .colab-df-convert:hover {\n",
              "      background-color: #434B5C;\n",
              "      box-shadow: 0px 1px 3px 1px rgba(0, 0, 0, 0.15);\n",
              "      filter: drop-shadow(0px 1px 2px rgba(0, 0, 0, 0.3));\n",
              "      fill: #FFFFFF;\n",
              "    }\n",
              "  </style>\n",
              "\n",
              "      <script>\n",
              "        const buttonEl =\n",
              "          document.querySelector('#df-df0ccffa-f114-434a-9e38-ccabc2955a5b button.colab-df-convert');\n",
              "        buttonEl.style.display =\n",
              "          google.colab.kernel.accessAllowed ? 'block' : 'none';\n",
              "\n",
              "        async function convertToInteractive(key) {\n",
              "          const element = document.querySelector('#df-df0ccffa-f114-434a-9e38-ccabc2955a5b');\n",
              "          const dataTable =\n",
              "            await google.colab.kernel.invokeFunction('convertToInteractive',\n",
              "                                                     [key], {});\n",
              "          if (!dataTable) return;\n",
              "\n",
              "          const docLinkHtml = 'Like what you see? Visit the ' +\n",
              "            '<a target=\"_blank\" href=https://colab.research.google.com/notebooks/data_table.ipynb>data table notebook</a>'\n",
              "            + ' to learn more about interactive tables.';\n",
              "          element.innerHTML = '';\n",
              "          dataTable['output_type'] = 'display_data';\n",
              "          await google.colab.output.renderOutput(dataTable, element);\n",
              "          const docLink = document.createElement('div');\n",
              "          docLink.innerHTML = docLinkHtml;\n",
              "          element.appendChild(docLink);\n",
              "        }\n",
              "      </script>\n",
              "    </div>\n",
              "  </div>\n",
              "  "
            ]
          },
          "metadata": {},
          "execution_count": 68
        }
      ]
    },
    {
      "cell_type": "code",
      "source": [
        "# We cant find how the columns differ using sets\n",
        "\n",
        "set(X_train.columns)- set(df_test.columns)"
      ],
      "metadata": {
        "colab": {
          "base_uri": "https://localhost:8080/"
        },
        "id": "wI12od2sK3bK",
        "outputId": "b4423eb1-96f3-44d4-9ce2-aea341e0716a"
      },
      "execution_count": 69,
      "outputs": [
        {
          "output_type": "execute_result",
          "data": {
            "text/plain": [
              "{'auctioneerID_is_missing'}"
            ]
          },
          "metadata": {},
          "execution_count": 69
        }
      ]
    },
    {
      "cell_type": "code",
      "source": [
        "# manually adjust df_test to have auctioneerID_is_missing\n",
        "df_test['auctioneerID_is_missing']= False\n",
        "df_test.head()"
      ],
      "metadata": {
        "colab": {
          "base_uri": "https://localhost:8080/",
          "height": 299
        },
        "id": "bwvz2TlCLoKY",
        "outputId": "fac246ba-7bc8-4743-89ce-d6b9f7e9e50e"
      },
      "execution_count": 70,
      "outputs": [
        {
          "output_type": "execute_result",
          "data": {
            "text/plain": [
              "   SalesID  MachineID  ModelID  datasource  auctioneerID  YearMade  \\\n",
              "0  1227829    1006309     3168         121             3      1999   \n",
              "1  1227844    1022817     7271         121             3      1000   \n",
              "2  1227847    1031560    22805         121             3      2004   \n",
              "3  1227848      56204     1269         121             3      2006   \n",
              "4  1227863    1053887    22312         121             3      2005   \n",
              "\n",
              "   MachineHoursCurrentMeter  UsageBand  fiModelDesc  fiBaseModel  ...  \\\n",
              "0                    3688.0          2          499          180  ...   \n",
              "1                   28555.0          1          831          292  ...   \n",
              "2                    6038.0          3         1177          404  ...   \n",
              "3                    8940.0          1          287          113  ...   \n",
              "4                    2286.0          2          566          196  ...   \n",
              "\n",
              "   Stick_Length_is_missing  Thumb_is_missing  Pattern_Changer_is_missing  \\\n",
              "0                     True              True                        True   \n",
              "1                     True              True                        True   \n",
              "2                    False             False                       False   \n",
              "3                    False             False                       False   \n",
              "4                     True              True                        True   \n",
              "\n",
              "   Grouser_Type_is_missing  Backhoe_Mounting_is_missing  \\\n",
              "0                     True                         True   \n",
              "1                     True                         True   \n",
              "2                    False                         True   \n",
              "3                    False                         True   \n",
              "4                     True                        False   \n",
              "\n",
              "   Blade_Type_is_missing  Travel_Controls_is_missing  \\\n",
              "0                   True                        True   \n",
              "1                   True                        True   \n",
              "2                   True                        True   \n",
              "3                   True                        True   \n",
              "4                  False                       False   \n",
              "\n",
              "   Differential_Type_is_missing  Steering_Controls_is_missing  \\\n",
              "0                          True                          True   \n",
              "1                         False                         False   \n",
              "2                          True                          True   \n",
              "3                          True                          True   \n",
              "4                          True                          True   \n",
              "\n",
              "   auctioneerID_is_missing  \n",
              "0                    False  \n",
              "1                    False  \n",
              "2                    False  \n",
              "3                    False  \n",
              "4                    False  \n",
              "\n",
              "[5 rows x 102 columns]"
            ],
            "text/html": [
              "\n",
              "  <div id=\"df-fe3478e7-55f4-4a71-ad66-2700835d25cb\">\n",
              "    <div class=\"colab-df-container\">\n",
              "      <div>\n",
              "<style scoped>\n",
              "    .dataframe tbody tr th:only-of-type {\n",
              "        vertical-align: middle;\n",
              "    }\n",
              "\n",
              "    .dataframe tbody tr th {\n",
              "        vertical-align: top;\n",
              "    }\n",
              "\n",
              "    .dataframe thead th {\n",
              "        text-align: right;\n",
              "    }\n",
              "</style>\n",
              "<table border=\"1\" class=\"dataframe\">\n",
              "  <thead>\n",
              "    <tr style=\"text-align: right;\">\n",
              "      <th></th>\n",
              "      <th>SalesID</th>\n",
              "      <th>MachineID</th>\n",
              "      <th>ModelID</th>\n",
              "      <th>datasource</th>\n",
              "      <th>auctioneerID</th>\n",
              "      <th>YearMade</th>\n",
              "      <th>MachineHoursCurrentMeter</th>\n",
              "      <th>UsageBand</th>\n",
              "      <th>fiModelDesc</th>\n",
              "      <th>fiBaseModel</th>\n",
              "      <th>...</th>\n",
              "      <th>Stick_Length_is_missing</th>\n",
              "      <th>Thumb_is_missing</th>\n",
              "      <th>Pattern_Changer_is_missing</th>\n",
              "      <th>Grouser_Type_is_missing</th>\n",
              "      <th>Backhoe_Mounting_is_missing</th>\n",
              "      <th>Blade_Type_is_missing</th>\n",
              "      <th>Travel_Controls_is_missing</th>\n",
              "      <th>Differential_Type_is_missing</th>\n",
              "      <th>Steering_Controls_is_missing</th>\n",
              "      <th>auctioneerID_is_missing</th>\n",
              "    </tr>\n",
              "  </thead>\n",
              "  <tbody>\n",
              "    <tr>\n",
              "      <th>0</th>\n",
              "      <td>1227829</td>\n",
              "      <td>1006309</td>\n",
              "      <td>3168</td>\n",
              "      <td>121</td>\n",
              "      <td>3</td>\n",
              "      <td>1999</td>\n",
              "      <td>3688.0</td>\n",
              "      <td>2</td>\n",
              "      <td>499</td>\n",
              "      <td>180</td>\n",
              "      <td>...</td>\n",
              "      <td>True</td>\n",
              "      <td>True</td>\n",
              "      <td>True</td>\n",
              "      <td>True</td>\n",
              "      <td>True</td>\n",
              "      <td>True</td>\n",
              "      <td>True</td>\n",
              "      <td>True</td>\n",
              "      <td>True</td>\n",
              "      <td>False</td>\n",
              "    </tr>\n",
              "    <tr>\n",
              "      <th>1</th>\n",
              "      <td>1227844</td>\n",
              "      <td>1022817</td>\n",
              "      <td>7271</td>\n",
              "      <td>121</td>\n",
              "      <td>3</td>\n",
              "      <td>1000</td>\n",
              "      <td>28555.0</td>\n",
              "      <td>1</td>\n",
              "      <td>831</td>\n",
              "      <td>292</td>\n",
              "      <td>...</td>\n",
              "      <td>True</td>\n",
              "      <td>True</td>\n",
              "      <td>True</td>\n",
              "      <td>True</td>\n",
              "      <td>True</td>\n",
              "      <td>True</td>\n",
              "      <td>True</td>\n",
              "      <td>False</td>\n",
              "      <td>False</td>\n",
              "      <td>False</td>\n",
              "    </tr>\n",
              "    <tr>\n",
              "      <th>2</th>\n",
              "      <td>1227847</td>\n",
              "      <td>1031560</td>\n",
              "      <td>22805</td>\n",
              "      <td>121</td>\n",
              "      <td>3</td>\n",
              "      <td>2004</td>\n",
              "      <td>6038.0</td>\n",
              "      <td>3</td>\n",
              "      <td>1177</td>\n",
              "      <td>404</td>\n",
              "      <td>...</td>\n",
              "      <td>False</td>\n",
              "      <td>False</td>\n",
              "      <td>False</td>\n",
              "      <td>False</td>\n",
              "      <td>True</td>\n",
              "      <td>True</td>\n",
              "      <td>True</td>\n",
              "      <td>True</td>\n",
              "      <td>True</td>\n",
              "      <td>False</td>\n",
              "    </tr>\n",
              "    <tr>\n",
              "      <th>3</th>\n",
              "      <td>1227848</td>\n",
              "      <td>56204</td>\n",
              "      <td>1269</td>\n",
              "      <td>121</td>\n",
              "      <td>3</td>\n",
              "      <td>2006</td>\n",
              "      <td>8940.0</td>\n",
              "      <td>1</td>\n",
              "      <td>287</td>\n",
              "      <td>113</td>\n",
              "      <td>...</td>\n",
              "      <td>False</td>\n",
              "      <td>False</td>\n",
              "      <td>False</td>\n",
              "      <td>False</td>\n",
              "      <td>True</td>\n",
              "      <td>True</td>\n",
              "      <td>True</td>\n",
              "      <td>True</td>\n",
              "      <td>True</td>\n",
              "      <td>False</td>\n",
              "    </tr>\n",
              "    <tr>\n",
              "      <th>4</th>\n",
              "      <td>1227863</td>\n",
              "      <td>1053887</td>\n",
              "      <td>22312</td>\n",
              "      <td>121</td>\n",
              "      <td>3</td>\n",
              "      <td>2005</td>\n",
              "      <td>2286.0</td>\n",
              "      <td>2</td>\n",
              "      <td>566</td>\n",
              "      <td>196</td>\n",
              "      <td>...</td>\n",
              "      <td>True</td>\n",
              "      <td>True</td>\n",
              "      <td>True</td>\n",
              "      <td>True</td>\n",
              "      <td>False</td>\n",
              "      <td>False</td>\n",
              "      <td>False</td>\n",
              "      <td>True</td>\n",
              "      <td>True</td>\n",
              "      <td>False</td>\n",
              "    </tr>\n",
              "  </tbody>\n",
              "</table>\n",
              "<p>5 rows × 102 columns</p>\n",
              "</div>\n",
              "      <button class=\"colab-df-convert\" onclick=\"convertToInteractive('df-fe3478e7-55f4-4a71-ad66-2700835d25cb')\"\n",
              "              title=\"Convert this dataframe to an interactive table.\"\n",
              "              style=\"display:none;\">\n",
              "        \n",
              "  <svg xmlns=\"http://www.w3.org/2000/svg\" height=\"24px\"viewBox=\"0 0 24 24\"\n",
              "       width=\"24px\">\n",
              "    <path d=\"M0 0h24v24H0V0z\" fill=\"none\"/>\n",
              "    <path d=\"M18.56 5.44l.94 2.06.94-2.06 2.06-.94-2.06-.94-.94-2.06-.94 2.06-2.06.94zm-11 1L8.5 8.5l.94-2.06 2.06-.94-2.06-.94L8.5 2.5l-.94 2.06-2.06.94zm10 10l.94 2.06.94-2.06 2.06-.94-2.06-.94-.94-2.06-.94 2.06-2.06.94z\"/><path d=\"M17.41 7.96l-1.37-1.37c-.4-.4-.92-.59-1.43-.59-.52 0-1.04.2-1.43.59L10.3 9.45l-7.72 7.72c-.78.78-.78 2.05 0 2.83L4 21.41c.39.39.9.59 1.41.59.51 0 1.02-.2 1.41-.59l7.78-7.78 2.81-2.81c.8-.78.8-2.07 0-2.86zM5.41 20L4 18.59l7.72-7.72 1.47 1.35L5.41 20z\"/>\n",
              "  </svg>\n",
              "      </button>\n",
              "      \n",
              "  <style>\n",
              "    .colab-df-container {\n",
              "      display:flex;\n",
              "      flex-wrap:wrap;\n",
              "      gap: 12px;\n",
              "    }\n",
              "\n",
              "    .colab-df-convert {\n",
              "      background-color: #E8F0FE;\n",
              "      border: none;\n",
              "      border-radius: 50%;\n",
              "      cursor: pointer;\n",
              "      display: none;\n",
              "      fill: #1967D2;\n",
              "      height: 32px;\n",
              "      padding: 0 0 0 0;\n",
              "      width: 32px;\n",
              "    }\n",
              "\n",
              "    .colab-df-convert:hover {\n",
              "      background-color: #E2EBFA;\n",
              "      box-shadow: 0px 1px 2px rgba(60, 64, 67, 0.3), 0px 1px 3px 1px rgba(60, 64, 67, 0.15);\n",
              "      fill: #174EA6;\n",
              "    }\n",
              "\n",
              "    [theme=dark] .colab-df-convert {\n",
              "      background-color: #3B4455;\n",
              "      fill: #D2E3FC;\n",
              "    }\n",
              "\n",
              "    [theme=dark] .colab-df-convert:hover {\n",
              "      background-color: #434B5C;\n",
              "      box-shadow: 0px 1px 3px 1px rgba(0, 0, 0, 0.15);\n",
              "      filter: drop-shadow(0px 1px 2px rgba(0, 0, 0, 0.3));\n",
              "      fill: #FFFFFF;\n",
              "    }\n",
              "  </style>\n",
              "\n",
              "      <script>\n",
              "        const buttonEl =\n",
              "          document.querySelector('#df-fe3478e7-55f4-4a71-ad66-2700835d25cb button.colab-df-convert');\n",
              "        buttonEl.style.display =\n",
              "          google.colab.kernel.accessAllowed ? 'block' : 'none';\n",
              "\n",
              "        async function convertToInteractive(key) {\n",
              "          const element = document.querySelector('#df-fe3478e7-55f4-4a71-ad66-2700835d25cb');\n",
              "          const dataTable =\n",
              "            await google.colab.kernel.invokeFunction('convertToInteractive',\n",
              "                                                     [key], {});\n",
              "          if (!dataTable) return;\n",
              "\n",
              "          const docLinkHtml = 'Like what you see? Visit the ' +\n",
              "            '<a target=\"_blank\" href=https://colab.research.google.com/notebooks/data_table.ipynb>data table notebook</a>'\n",
              "            + ' to learn more about interactive tables.';\n",
              "          element.innerHTML = '';\n",
              "          dataTable['output_type'] = 'display_data';\n",
              "          await google.colab.output.renderOutput(dataTable, element);\n",
              "          const docLink = document.createElement('div');\n",
              "          docLink.innerHTML = docLinkHtml;\n",
              "          element.appendChild(docLink);\n",
              "        }\n",
              "      </script>\n",
              "    </div>\n",
              "  </div>\n",
              "  "
            ]
          },
          "metadata": {},
          "execution_count": 70
        }
      ]
    },
    {
      "cell_type": "code",
      "source": [
        "# make prediction on test data\n",
        "test_preds= ideal_model.predict(df_test)"
      ],
      "metadata": {
        "colab": {
          "base_uri": "https://localhost:8080/"
        },
        "id": "WiWCIwcNMPOL",
        "outputId": "dd58418f-936c-4f62-8ab5-b9189a68497e"
      },
      "execution_count": 71,
      "outputs": [
        {
          "output_type": "stream",
          "name": "stderr",
          "text": [
            "/usr/local/lib/python3.8/dist-packages/sklearn/base.py:493: FutureWarning: The feature names should match those that were passed during fit. Starting version 1.2, an error will be raised.\n",
            "Feature names must be in the same order as they were in fit.\n",
            "\n",
            "  warnings.warn(message, FutureWarning)\n"
          ]
        }
      ]
    },
    {
      "cell_type": "code",
      "source": [
        "test_preds"
      ],
      "metadata": {
        "colab": {
          "base_uri": "https://localhost:8080/"
        },
        "id": "hkpzHexnMVwv",
        "outputId": "32417fe4-795e-485d-aa69-309a74d38beb"
      },
      "execution_count": 72,
      "outputs": [
        {
          "output_type": "execute_result",
          "data": {
            "text/plain": [
              "array([23656.03479596, 24735.17942629, 52467.10220894, ...,\n",
              "       13859.18614045, 23198.02467855, 33025.3789073 ])"
            ]
          },
          "metadata": {},
          "execution_count": 72
        }
      ]
    },
    {
      "cell_type": "code",
      "source": [
        "df_preds= pd.DataFrame()\n",
        "df_preds['SalesID']= df_test['SalesID']\n",
        "df_preds['SalePrice']= test_preds\n",
        "df_preds"
      ],
      "metadata": {
        "colab": {
          "base_uri": "https://localhost:8080/",
          "height": 423
        },
        "id": "KUkh1ay_MlnN",
        "outputId": "8df642c5-e6f2-4e60-f9d4-b2ce645e563d"
      },
      "execution_count": 73,
      "outputs": [
        {
          "output_type": "execute_result",
          "data": {
            "text/plain": [
              "       SalesID     SalePrice\n",
              "0      1227829  23656.034796\n",
              "1      1227844  24735.179426\n",
              "2      1227847  52467.102209\n",
              "3      1227848  70904.998988\n",
              "4      1227863  46987.436956\n",
              "...        ...           ...\n",
              "12452  6643171  48914.577754\n",
              "12453  6643173  16994.742130\n",
              "12454  6643184  13859.186140\n",
              "12455  6643186  23198.024679\n",
              "12456  6643196  33025.378907\n",
              "\n",
              "[12457 rows x 2 columns]"
            ],
            "text/html": [
              "\n",
              "  <div id=\"df-6be89b73-c56c-4352-8915-4aab487b852c\">\n",
              "    <div class=\"colab-df-container\">\n",
              "      <div>\n",
              "<style scoped>\n",
              "    .dataframe tbody tr th:only-of-type {\n",
              "        vertical-align: middle;\n",
              "    }\n",
              "\n",
              "    .dataframe tbody tr th {\n",
              "        vertical-align: top;\n",
              "    }\n",
              "\n",
              "    .dataframe thead th {\n",
              "        text-align: right;\n",
              "    }\n",
              "</style>\n",
              "<table border=\"1\" class=\"dataframe\">\n",
              "  <thead>\n",
              "    <tr style=\"text-align: right;\">\n",
              "      <th></th>\n",
              "      <th>SalesID</th>\n",
              "      <th>SalePrice</th>\n",
              "    </tr>\n",
              "  </thead>\n",
              "  <tbody>\n",
              "    <tr>\n",
              "      <th>0</th>\n",
              "      <td>1227829</td>\n",
              "      <td>23656.034796</td>\n",
              "    </tr>\n",
              "    <tr>\n",
              "      <th>1</th>\n",
              "      <td>1227844</td>\n",
              "      <td>24735.179426</td>\n",
              "    </tr>\n",
              "    <tr>\n",
              "      <th>2</th>\n",
              "      <td>1227847</td>\n",
              "      <td>52467.102209</td>\n",
              "    </tr>\n",
              "    <tr>\n",
              "      <th>3</th>\n",
              "      <td>1227848</td>\n",
              "      <td>70904.998988</td>\n",
              "    </tr>\n",
              "    <tr>\n",
              "      <th>4</th>\n",
              "      <td>1227863</td>\n",
              "      <td>46987.436956</td>\n",
              "    </tr>\n",
              "    <tr>\n",
              "      <th>...</th>\n",
              "      <td>...</td>\n",
              "      <td>...</td>\n",
              "    </tr>\n",
              "    <tr>\n",
              "      <th>12452</th>\n",
              "      <td>6643171</td>\n",
              "      <td>48914.577754</td>\n",
              "    </tr>\n",
              "    <tr>\n",
              "      <th>12453</th>\n",
              "      <td>6643173</td>\n",
              "      <td>16994.742130</td>\n",
              "    </tr>\n",
              "    <tr>\n",
              "      <th>12454</th>\n",
              "      <td>6643184</td>\n",
              "      <td>13859.186140</td>\n",
              "    </tr>\n",
              "    <tr>\n",
              "      <th>12455</th>\n",
              "      <td>6643186</td>\n",
              "      <td>23198.024679</td>\n",
              "    </tr>\n",
              "    <tr>\n",
              "      <th>12456</th>\n",
              "      <td>6643196</td>\n",
              "      <td>33025.378907</td>\n",
              "    </tr>\n",
              "  </tbody>\n",
              "</table>\n",
              "<p>12457 rows × 2 columns</p>\n",
              "</div>\n",
              "      <button class=\"colab-df-convert\" onclick=\"convertToInteractive('df-6be89b73-c56c-4352-8915-4aab487b852c')\"\n",
              "              title=\"Convert this dataframe to an interactive table.\"\n",
              "              style=\"display:none;\">\n",
              "        \n",
              "  <svg xmlns=\"http://www.w3.org/2000/svg\" height=\"24px\"viewBox=\"0 0 24 24\"\n",
              "       width=\"24px\">\n",
              "    <path d=\"M0 0h24v24H0V0z\" fill=\"none\"/>\n",
              "    <path d=\"M18.56 5.44l.94 2.06.94-2.06 2.06-.94-2.06-.94-.94-2.06-.94 2.06-2.06.94zm-11 1L8.5 8.5l.94-2.06 2.06-.94-2.06-.94L8.5 2.5l-.94 2.06-2.06.94zm10 10l.94 2.06.94-2.06 2.06-.94-2.06-.94-.94-2.06-.94 2.06-2.06.94z\"/><path d=\"M17.41 7.96l-1.37-1.37c-.4-.4-.92-.59-1.43-.59-.52 0-1.04.2-1.43.59L10.3 9.45l-7.72 7.72c-.78.78-.78 2.05 0 2.83L4 21.41c.39.39.9.59 1.41.59.51 0 1.02-.2 1.41-.59l7.78-7.78 2.81-2.81c.8-.78.8-2.07 0-2.86zM5.41 20L4 18.59l7.72-7.72 1.47 1.35L5.41 20z\"/>\n",
              "  </svg>\n",
              "      </button>\n",
              "      \n",
              "  <style>\n",
              "    .colab-df-container {\n",
              "      display:flex;\n",
              "      flex-wrap:wrap;\n",
              "      gap: 12px;\n",
              "    }\n",
              "\n",
              "    .colab-df-convert {\n",
              "      background-color: #E8F0FE;\n",
              "      border: none;\n",
              "      border-radius: 50%;\n",
              "      cursor: pointer;\n",
              "      display: none;\n",
              "      fill: #1967D2;\n",
              "      height: 32px;\n",
              "      padding: 0 0 0 0;\n",
              "      width: 32px;\n",
              "    }\n",
              "\n",
              "    .colab-df-convert:hover {\n",
              "      background-color: #E2EBFA;\n",
              "      box-shadow: 0px 1px 2px rgba(60, 64, 67, 0.3), 0px 1px 3px 1px rgba(60, 64, 67, 0.15);\n",
              "      fill: #174EA6;\n",
              "    }\n",
              "\n",
              "    [theme=dark] .colab-df-convert {\n",
              "      background-color: #3B4455;\n",
              "      fill: #D2E3FC;\n",
              "    }\n",
              "\n",
              "    [theme=dark] .colab-df-convert:hover {\n",
              "      background-color: #434B5C;\n",
              "      box-shadow: 0px 1px 3px 1px rgba(0, 0, 0, 0.15);\n",
              "      filter: drop-shadow(0px 1px 2px rgba(0, 0, 0, 0.3));\n",
              "      fill: #FFFFFF;\n",
              "    }\n",
              "  </style>\n",
              "\n",
              "      <script>\n",
              "        const buttonEl =\n",
              "          document.querySelector('#df-6be89b73-c56c-4352-8915-4aab487b852c button.colab-df-convert');\n",
              "        buttonEl.style.display =\n",
              "          google.colab.kernel.accessAllowed ? 'block' : 'none';\n",
              "\n",
              "        async function convertToInteractive(key) {\n",
              "          const element = document.querySelector('#df-6be89b73-c56c-4352-8915-4aab487b852c');\n",
              "          const dataTable =\n",
              "            await google.colab.kernel.invokeFunction('convertToInteractive',\n",
              "                                                     [key], {});\n",
              "          if (!dataTable) return;\n",
              "\n",
              "          const docLinkHtml = 'Like what you see? Visit the ' +\n",
              "            '<a target=\"_blank\" href=https://colab.research.google.com/notebooks/data_table.ipynb>data table notebook</a>'\n",
              "            + ' to learn more about interactive tables.';\n",
              "          element.innerHTML = '';\n",
              "          dataTable['output_type'] = 'display_data';\n",
              "          await google.colab.output.renderOutput(dataTable, element);\n",
              "          const docLink = document.createElement('div');\n",
              "          docLink.innerHTML = docLinkHtml;\n",
              "          element.appendChild(docLink);\n",
              "        }\n",
              "      </script>\n",
              "    </div>\n",
              "  </div>\n",
              "  "
            ]
          },
          "metadata": {},
          "execution_count": 73
        }
      ]
    },
    {
      "cell_type": "code",
      "source": [
        "df_preds.to_csv('/content/test_predictions.csv')"
      ],
      "metadata": {
        "id": "NnBITPZqNEgf"
      },
      "execution_count": 74,
      "outputs": []
    },
    {
      "cell_type": "markdown",
      "source": [
        "#Feature Importance"
      ],
      "metadata": {
        "id": "lhcoaxD1N8Dn"
      }
    },
    {
      "cell_type": "code",
      "source": [
        "# Find feature importance of best model\n",
        "ideal_model.feature_importances_"
      ],
      "metadata": {
        "colab": {
          "base_uri": "https://localhost:8080/"
        },
        "id": "wvHiUp-ENPln",
        "outputId": "8729e853-329e-4000-f791-f184cac9a93a"
      },
      "execution_count": 75,
      "outputs": [
        {
          "output_type": "execute_result",
          "data": {
            "text/plain": [
              "array([3.29131508e-02, 1.78694060e-02, 3.98175951e-02, 1.60089049e-03,\n",
              "       3.32361489e-03, 2.11617049e-01, 3.04786604e-03, 1.10733567e-03,\n",
              "       4.32503106e-02, 4.56990418e-02, 6.22889932e-02, 4.34317385e-03,\n",
              "       1.65752885e-02, 1.60314314e-01, 4.65032343e-02, 5.93425591e-03,\n",
              "       1.14472630e-03, 2.22435822e-03, 2.78359195e-03, 5.18763735e-02,\n",
              "       7.01285229e-04, 2.90008444e-05, 1.19616398e-03, 2.00581261e-04,\n",
              "       1.17495045e-03, 2.44139914e-05, 2.05122188e-03, 6.20253008e-03,\n",
              "       1.81542137e-04, 2.45889054e-03, 4.97815647e-03, 3.63259113e-03,\n",
              "       2.92046478e-03, 5.02320953e-04, 2.86187520e-04, 6.36143085e-03,\n",
              "       8.53222997e-04, 1.70651334e-02, 8.19522223e-04, 1.79816634e-03,\n",
              "       4.97226236e-04, 8.11181537e-04, 2.54577285e-03, 5.78885988e-04,\n",
              "       7.09402933e-04, 3.60972051e-04, 2.46047689e-04, 1.63958848e-03,\n",
              "       8.56525102e-04, 2.86465653e-04, 3.40985374e-04, 7.41179618e-02,\n",
              "       3.77158269e-03, 5.60599490e-03, 2.92541561e-03, 9.86812881e-03,\n",
              "       2.58081396e-04, 1.99641349e-03, 3.00320951e-04, 0.00000000e+00,\n",
              "       0.00000000e+00, 2.69024346e-03, 1.47433112e-03, 6.37106796e-03,\n",
              "       3.34189237e-02, 0.00000000e+00, 0.00000000e+00, 0.00000000e+00,\n",
              "       0.00000000e+00, 6.07808694e-05, 5.52036339e-06, 2.45515347e-04,\n",
              "       2.47518948e-06, 7.54453078e-05, 5.89144939e-06, 2.79536215e-04,\n",
              "       4.13459049e-06, 1.79944111e-04, 3.99232325e-03, 6.07141281e-03,\n",
              "       1.72803189e-03, 3.45408504e-03, 2.82423825e-05, 3.42772697e-04,\n",
              "       2.30179025e-03, 2.02410032e-03, 2.99189503e-03, 2.50191391e-04,\n",
              "       1.16925365e-02, 2.17354446e-03, 1.60400656e-03, 4.63736152e-05,\n",
              "       1.50223099e-04, 2.32800201e-05, 4.29566530e-05, 2.70737516e-05,\n",
              "       4.20305636e-05, 1.88317653e-04, 1.91267300e-04, 2.21398322e-04,\n",
              "       1.13718922e-04, 9.53171542e-05])"
            ]
          },
          "metadata": {},
          "execution_count": 75
        }
      ]
    },
    {
      "cell_type": "code",
      "source": [
        "def plot_feature(columns, importance, n=20):\n",
        "  df= (pd.DataFrame({'feature': columns,\n",
        "                     'feature_importance': importance})\n",
        "  .sort_values('feature_importance', ascending=False)\n",
        "  .reset_index(drop=True))\n",
        "\n",
        "  # Plot the dataframe\n",
        "  fig, ax= plt.subplots()\n",
        "  ax.barh(df['feature'][:n], df['feature_importance'][:n])\n",
        "  ax.set_ylabel('feature')\n",
        "  ax.set_xlabel('feature importance')\n",
        "  ax.invert_yaxis()"
      ],
      "metadata": {
        "id": "m5BaESjHODx8"
      },
      "execution_count": 76,
      "outputs": []
    },
    {
      "cell_type": "code",
      "source": [
        "plot_feature(X_train.columns, ideal_model.feature_importances_)"
      ],
      "metadata": {
        "colab": {
          "base_uri": "https://localhost:8080/",
          "height": 279
        },
        "id": "twcg-lCiQ5ay",
        "outputId": "34693d7a-e2cd-4e52-8815-f8254c770404"
      },
      "execution_count": 77,
      "outputs": [
        {
          "output_type": "display_data",
          "data": {
            "text/plain": [
              "<Figure size 432x288 with 1 Axes>"
            ],
            "image/png": "[encoded data removed]"
          },
          "metadata": {
            "needs_background": "light"
          }
        }
      ]
    },
    {
      "cell_type": "code",
      "source": [],
      "metadata": {
        "id": "ACkkPvOrREbV"
      },
      "execution_count": 77,
      "outputs": []
    }
  ]
}